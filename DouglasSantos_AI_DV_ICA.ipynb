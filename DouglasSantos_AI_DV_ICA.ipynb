{
 "cells": [
  {
   "cell_type": "markdown",
   "id": "8146d667",
   "metadata": {},
   "source": [
    "## Cover page placeholder"
   ]
  },
  {
   "cell_type": "code",
   "execution_count": null,
   "id": "632fef2f",
   "metadata": {},
   "outputs": [],
   "source": [
    "# pip install python-constraint"
   ]
  },
  {
   "cell_type": "markdown",
   "id": "776ace21",
   "metadata": {},
   "source": [
    "# AI - Hiring Problem (CSP) "
   ]
  },
  {
   "cell_type": "markdown",
   "id": "73ea8320",
   "metadata": {},
   "source": [
    "## Scenario 1 \n",
    "### Ciara knows Python, and only has funds to hire three more people."
   ]
  },
  {
   "cell_type": "markdown",
   "id": "5dc88a3c",
   "metadata": {},
   "source": [
    "It won't be possible to fill all of positions with just 3 hires, so Ciara will have to take on one of the Python positions."
   ]
  },
  {
   "cell_type": "code",
   "execution_count": 74,
   "id": "71fb53e0",
   "metadata": {
    "scrolled": true
   },
   "outputs": [
    {
     "name": "stdout",
     "output_type": "stream",
     "text": [
      "Solution 1:\n",
      "Position AI_1: Anita\n",
      "Position AI_2: Jim\n",
      "Position Database: Jane\n",
      "Position Python_1: Ciara\n",
      "Position Python_2: Jane\n",
      "Position Systems: Jim\n",
      "Position Web: Anita\n",
      "\n",
      "Solution 2:\n",
      "Position AI_1: Jim\n",
      "Position AI_2: Juan\n",
      "Position Database: Jane\n",
      "Position Python_1: Ciara\n",
      "Position Python_2: Jane\n",
      "Position Systems: Jim\n",
      "Position Web: Juan\n",
      "\n"
     ]
    }
   ],
   "source": [
    "from constraint import Problem\n",
    "\n",
    "# Defines the positions and the hires with their qualifications\n",
    "positions = [\"Python_1\", \"Python_2\", \"AI_1\", \"AI_2\", \"Web\", \"Database\", \"Systems\"]\n",
    "hires = {\n",
    "    \"Ciara\": [\"Python_1\"],\n",
    "    \"Peter\": [\"Python_2\", \"AI_1\", \"AI_2\"],\n",
    "    \"Juan\": [\"Web\", \"AI_1\", \"AI_2\"],\n",
    "    \"Jim\": [\"AI_1\", \"AI_2\", \"Systems\"],\n",
    "    \"Jane\": [\"Python_2\", \"Database\"],\n",
    "    \"Mary\": [\"Web\", \"Systems\"],\n",
    "    \"Bruce\": [\"Systems\", \"Python_2\"],\n",
    "    \"Anita\": [\"Web\", \"AI_1\", \"AI_2\"]\n",
    "}\n",
    "\n",
    "problem = Problem()\n",
    "\n",
    "# Defines the variables (positions) and their domains (hires who can take the positions)\n",
    "for position in positions:\n",
    "    problem.addVariable(position, list(hires.keys()))\n",
    "\n",
    "# Defines the constraints\n",
    "'''\n",
    "IMPORTANT: Ciara only has the funds to hire 3 more people\n",
    "She knows python and will fill one of the python positions\n",
    "for this reason\n",
    "'''\n",
    "# Ciara will be taking a python position\n",
    "def ciara_python_constraint(python_1):\n",
    "    return python_1 == \"Ciara\"\n",
    "\n",
    "# A person can only ocuppy one of the two available AI positions\n",
    "def ai_constraint(ai_1, ai_2):\n",
    "    return ai_1 != ai_2\n",
    "\n",
    "# Jane is the only one qualified to ocuppy the DB position \n",
    "def db_constraint(database):\n",
    "    return database == \"Jane\"\n",
    "\n",
    "# Defines the amount of people that will be hired (including Ciara)\n",
    "def ciara_hiring_constraint(*positions):\n",
    "    return len(set(positions)) <= 4\n",
    "\n",
    "# Defines that a person can only occupy a max of two positions\n",
    "def max_two_positions_constraint(*positions):\n",
    "    hires_count = dict()\n",
    "    for hire in positions:\n",
    "        if hire in hires_count:\n",
    "            hires_count[hire] += 1\n",
    "        else:\n",
    "            hires_count[hire] = 1\n",
    "    return all(count <= 2 for count in hires_count.values())\n",
    "\n",
    "# Defines the constraint that an individual can only occupy the positions they are qualified for\n",
    "def qualification_constraint(*args):\n",
    "    for position, hire in zip(positions, args):\n",
    "        if position not in hires[hire]:\n",
    "            return False\n",
    "    return True\n",
    "\n",
    "# Adds the constraints to the problem\n",
    "problem.addConstraint(ciara_python_constraint, [\"Python_1\"])\n",
    "problem.addConstraint(ai_constraint, [\"AI_1\", \"AI_2\"])\n",
    "problem.addConstraint(db_constraint, [\"Database\"])\n",
    "problem.addConstraint(ciara_hiring_constraint, positions)\n",
    "problem.addConstraint(max_two_positions_constraint, positions)\n",
    "problem.addConstraint(qualification_constraint, positions)\n",
    "\n",
    "# Solutions\n",
    "solutions = problem.getSolutions()\n",
    "\n",
    "# Removes duplicates\n",
    "unique_solutions1 = []\n",
    "for solution in solutions:\n",
    "    # For positions with the same qualifications, sort the individuals\n",
    "    ai_positions = sorted([solution[\"AI_1\"], solution[\"AI_2\"]])\n",
    "    solution[\"AI_1\"], solution[\"AI_2\"] = ai_positions[0], ai_positions[1]\n",
    "    \n",
    "    # Adds to unique solutions if not present already\n",
    "    if solution not in unique_solutions1:\n",
    "        unique_solutions1.append(solution)\n",
    "\n",
    "# Prints the solutions by position\n",
    "for i, solution in enumerate(unique_solutions1):\n",
    "    print(f\"Solution {i+1}:\")\n",
    "    for position, hire in solution.items():\n",
    "        print(f\"Position {position}: {hire}\")\n",
    "    print()"
   ]
  },
  {
   "cell_type": "markdown",
   "id": "6b286dae",
   "metadata": {},
   "source": [
    "## Scenario 2\n",
    "### Ciara and Juan become partners, with the additional funds they can now employ four more people but must employ another AI Engineer, so they need 2 Python Programmers, 3 AI Engineers, 1 Web Designer, 1 Database Admin, and 1 Systems Engineer."
   ]
  },
  {
   "cell_type": "markdown",
   "id": "428276ac",
   "metadata": {},
   "source": [
    "This scenario will assume the following hiring conditions:\n",
    "\n",
    "- Ciara and Juan will be considered for the positions they are qualified for.\n",
    "- Solutions with Ciara OR Juan OR none of them are also going to be considered."
   ]
  },
  {
   "cell_type": "code",
   "execution_count": 75,
   "id": "af6438c2",
   "metadata": {
    "scrolled": true
   },
   "outputs": [
    {
     "name": "stdout",
     "output_type": "stream",
     "text": [
      "Solution 1:\n",
      "Position AI_1: Anita\n",
      "Position AI_2: Jim\n",
      "Position AI_3: Juan\n",
      "Position Python_1: Bruce\n",
      "Position Python_2: Ciara\n",
      "Position Database: Jane\n",
      "Position Systems: Bruce\n",
      "Position Web: Juan\n",
      "\n",
      "Solution 2:\n",
      "Position AI_1: Anita\n",
      "Position AI_2: Jim\n",
      "Position AI_3: Juan\n",
      "Position Python_1: Bruce\n",
      "Position Python_2: Ciara\n",
      "Position Database: Jane\n",
      "Position Systems: Bruce\n",
      "Position Web: Anita\n",
      "\n",
      "Solution 3:\n",
      "Position AI_1: Anita\n",
      "Position AI_2: Jim\n",
      "Position AI_3: Juan\n",
      "Position Python_1: Bruce\n",
      "Position Python_2: Ciara\n",
      "Position Database: Jane\n",
      "Position Systems: Jim\n",
      "Position Web: Juan\n",
      "\n",
      "Solution 4:\n",
      "Position AI_1: Anita\n",
      "Position AI_2: Jim\n",
      "Position AI_3: Juan\n",
      "Position Python_1: Bruce\n",
      "Position Python_2: Ciara\n",
      "Position Database: Jane\n",
      "Position Systems: Jim\n",
      "Position Web: Anita\n",
      "\n",
      "Solution 5:\n",
      "Position AI_1: Anita\n",
      "Position AI_2: Jim\n",
      "Position AI_3: Juan\n",
      "Position Python_1: Bruce\n",
      "Position Python_2: Jane\n",
      "Position Database: Jane\n",
      "Position Systems: Bruce\n",
      "Position Web: Juan\n",
      "\n",
      "Solution 6:\n",
      "Position AI_1: Anita\n",
      "Position AI_2: Jim\n",
      "Position AI_3: Juan\n",
      "Position Python_1: Bruce\n",
      "Position Python_2: Jane\n",
      "Position Database: Jane\n",
      "Position Systems: Bruce\n",
      "Position Web: Anita\n",
      "\n",
      "Solution 7:\n",
      "Position AI_1: Anita\n",
      "Position AI_2: Jim\n",
      "Position AI_3: Juan\n",
      "Position Python_1: Bruce\n",
      "Position Python_2: Jane\n",
      "Position Database: Jane\n",
      "Position Systems: Jim\n",
      "Position Web: Juan\n",
      "\n",
      "Solution 8:\n",
      "Position AI_1: Anita\n",
      "Position AI_2: Jim\n",
      "Position AI_3: Juan\n",
      "Position Python_1: Bruce\n",
      "Position Python_2: Jane\n",
      "Position Database: Jane\n",
      "Position Systems: Jim\n",
      "Position Web: Anita\n",
      "\n",
      "Solution 9:\n",
      "Position AI_1: Anita\n",
      "Position AI_2: Jim\n",
      "Position AI_3: Juan\n",
      "Position Python_1: Ciara\n",
      "Position Python_2: Jane\n",
      "Position Database: Jane\n",
      "Position Systems: Bruce\n",
      "Position Web: Juan\n",
      "\n",
      "Solution 10:\n",
      "Position AI_1: Anita\n",
      "Position AI_2: Jim\n",
      "Position AI_3: Juan\n",
      "Position Python_1: Ciara\n",
      "Position Python_2: Jane\n",
      "Position Database: Jane\n",
      "Position Systems: Bruce\n",
      "Position Web: Anita\n",
      "\n",
      "Solution 11:\n",
      "Position AI_1: Anita\n",
      "Position AI_2: Jim\n",
      "Position AI_3: Juan\n",
      "Position Python_1: Ciara\n",
      "Position Python_2: Jane\n",
      "Position Database: Jane\n",
      "Position Systems: Mary\n",
      "Position Web: Mary\n",
      "\n",
      "Solution 12:\n",
      "Position AI_1: Anita\n",
      "Position AI_2: Jim\n",
      "Position AI_3: Juan\n",
      "Position Python_1: Ciara\n",
      "Position Python_2: Jane\n",
      "Position Database: Jane\n",
      "Position Systems: Mary\n",
      "Position Web: Juan\n",
      "\n",
      "Solution 13:\n",
      "Position AI_1: Anita\n",
      "Position AI_2: Jim\n",
      "Position AI_3: Juan\n",
      "Position Python_1: Ciara\n",
      "Position Python_2: Jane\n",
      "Position Database: Jane\n",
      "Position Systems: Mary\n",
      "Position Web: Anita\n",
      "\n",
      "Solution 14:\n",
      "Position AI_1: Anita\n",
      "Position AI_2: Jim\n",
      "Position AI_3: Juan\n",
      "Position Python_1: Ciara\n",
      "Position Python_2: Jane\n",
      "Position Database: Jane\n",
      "Position Systems: Jim\n",
      "Position Web: Mary\n",
      "\n",
      "Solution 15:\n",
      "Position AI_1: Anita\n",
      "Position AI_2: Jim\n",
      "Position AI_3: Juan\n",
      "Position Python_1: Ciara\n",
      "Position Python_2: Jane\n",
      "Position Database: Jane\n",
      "Position Systems: Jim\n",
      "Position Web: Juan\n",
      "\n",
      "Solution 16:\n",
      "Position AI_1: Anita\n",
      "Position AI_2: Jim\n",
      "Position AI_3: Juan\n",
      "Position Python_1: Ciara\n",
      "Position Python_2: Jane\n",
      "Position Database: Jane\n",
      "Position Systems: Jim\n",
      "Position Web: Anita\n",
      "\n",
      "Solution 17:\n",
      "Position AI_1: Anita\n",
      "Position AI_2: Jim\n",
      "Position AI_3: Juan\n",
      "Position Python_1: Jane\n",
      "Position Python_2: Peter\n",
      "Position Database: Jane\n",
      "Position Systems: Jim\n",
      "Position Web: Juan\n",
      "\n",
      "Solution 18:\n",
      "Position AI_1: Anita\n",
      "Position AI_2: Jim\n",
      "Position AI_3: Juan\n",
      "Position Python_1: Jane\n",
      "Position Python_2: Peter\n",
      "Position Database: Jane\n",
      "Position Systems: Jim\n",
      "Position Web: Anita\n",
      "\n",
      "Solution 19:\n",
      "Position AI_1: Anita\n",
      "Position AI_2: Jim\n",
      "Position AI_3: Juan\n",
      "Position Python_1: Ciara\n",
      "Position Python_2: Peter\n",
      "Position Database: Jane\n",
      "Position Systems: Jim\n",
      "Position Web: Juan\n",
      "\n",
      "Solution 20:\n",
      "Position AI_1: Anita\n",
      "Position AI_2: Jim\n",
      "Position AI_3: Juan\n",
      "Position Python_1: Ciara\n",
      "Position Python_2: Peter\n",
      "Position Database: Jane\n",
      "Position Systems: Jim\n",
      "Position Web: Anita\n",
      "\n",
      "Solution 21:\n",
      "Position AI_1: Anita\n",
      "Position AI_2: Jim\n",
      "Position AI_3: Peter\n",
      "Position Python_1: Ciara\n",
      "Position Python_2: Jane\n",
      "Position Database: Jane\n",
      "Position Systems: Jim\n",
      "Position Web: Juan\n",
      "\n",
      "Solution 22:\n",
      "Position AI_1: Anita\n",
      "Position AI_2: Jim\n",
      "Position AI_3: Peter\n",
      "Position Python_1: Ciara\n",
      "Position Python_2: Jane\n",
      "Position Database: Jane\n",
      "Position Systems: Jim\n",
      "Position Web: Anita\n",
      "\n",
      "Solution 23:\n",
      "Position AI_1: Anita\n",
      "Position AI_2: Jim\n",
      "Position AI_3: Peter\n",
      "Position Python_1: Jane\n",
      "Position Python_2: Peter\n",
      "Position Database: Jane\n",
      "Position Systems: Jim\n",
      "Position Web: Juan\n",
      "\n",
      "Solution 24:\n",
      "Position AI_1: Anita\n",
      "Position AI_2: Jim\n",
      "Position AI_3: Peter\n",
      "Position Python_1: Jane\n",
      "Position Python_2: Peter\n",
      "Position Database: Jane\n",
      "Position Systems: Jim\n",
      "Position Web: Anita\n",
      "\n",
      "Solution 25:\n",
      "Position AI_1: Anita\n",
      "Position AI_2: Jim\n",
      "Position AI_3: Peter\n",
      "Position Python_1: Ciara\n",
      "Position Python_2: Peter\n",
      "Position Database: Jane\n",
      "Position Systems: Jim\n",
      "Position Web: Juan\n",
      "\n",
      "Solution 26:\n",
      "Position AI_1: Anita\n",
      "Position AI_2: Jim\n",
      "Position AI_3: Peter\n",
      "Position Python_1: Ciara\n",
      "Position Python_2: Peter\n",
      "Position Database: Jane\n",
      "Position Systems: Jim\n",
      "Position Web: Anita\n",
      "\n",
      "Solution 27:\n",
      "Position AI_1: Anita\n",
      "Position AI_2: Juan\n",
      "Position AI_3: Peter\n",
      "Position Python_1: Bruce\n",
      "Position Python_2: Ciara\n",
      "Position Database: Jane\n",
      "Position Systems: Bruce\n",
      "Position Web: Juan\n",
      "\n",
      "Solution 28:\n",
      "Position AI_1: Anita\n",
      "Position AI_2: Juan\n",
      "Position AI_3: Peter\n",
      "Position Python_1: Bruce\n",
      "Position Python_2: Ciara\n",
      "Position Database: Jane\n",
      "Position Systems: Bruce\n",
      "Position Web: Anita\n",
      "\n",
      "Solution 29:\n",
      "Position AI_1: Anita\n",
      "Position AI_2: Juan\n",
      "Position AI_3: Peter\n",
      "Position Python_1: Bruce\n",
      "Position Python_2: Peter\n",
      "Position Database: Jane\n",
      "Position Systems: Bruce\n",
      "Position Web: Juan\n",
      "\n",
      "Solution 30:\n",
      "Position AI_1: Anita\n",
      "Position AI_2: Juan\n",
      "Position AI_3: Peter\n",
      "Position Python_1: Bruce\n",
      "Position Python_2: Peter\n",
      "Position Database: Jane\n",
      "Position Systems: Bruce\n",
      "Position Web: Anita\n",
      "\n",
      "Solution 31:\n",
      "Position AI_1: Anita\n",
      "Position AI_2: Juan\n",
      "Position AI_3: Peter\n",
      "Position Python_1: Bruce\n",
      "Position Python_2: Jane\n",
      "Position Database: Jane\n",
      "Position Systems: Bruce\n",
      "Position Web: Juan\n",
      "\n",
      "Solution 32:\n",
      "Position AI_1: Anita\n",
      "Position AI_2: Juan\n",
      "Position AI_3: Peter\n",
      "Position Python_1: Bruce\n",
      "Position Python_2: Jane\n",
      "Position Database: Jane\n",
      "Position Systems: Bruce\n",
      "Position Web: Anita\n",
      "\n",
      "Solution 33:\n",
      "Position AI_1: Anita\n",
      "Position AI_2: Juan\n",
      "Position AI_3: Peter\n",
      "Position Python_1: Ciara\n",
      "Position Python_2: Jane\n",
      "Position Database: Jane\n",
      "Position Systems: Bruce\n",
      "Position Web: Juan\n",
      "\n",
      "Solution 34:\n",
      "Position AI_1: Anita\n",
      "Position AI_2: Juan\n",
      "Position AI_3: Peter\n",
      "Position Python_1: Ciara\n",
      "Position Python_2: Jane\n",
      "Position Database: Jane\n",
      "Position Systems: Bruce\n",
      "Position Web: Anita\n",
      "\n",
      "Solution 35:\n",
      "Position AI_1: Anita\n",
      "Position AI_2: Juan\n",
      "Position AI_3: Peter\n",
      "Position Python_1: Ciara\n",
      "Position Python_2: Jane\n",
      "Position Database: Jane\n",
      "Position Systems: Mary\n",
      "Position Web: Mary\n",
      "\n",
      "Solution 36:\n",
      "Position AI_1: Anita\n",
      "Position AI_2: Juan\n",
      "Position AI_3: Peter\n",
      "Position Python_1: Ciara\n",
      "Position Python_2: Jane\n",
      "Position Database: Jane\n",
      "Position Systems: Mary\n",
      "Position Web: Juan\n",
      "\n",
      "Solution 37:\n",
      "Position AI_1: Anita\n",
      "Position AI_2: Juan\n",
      "Position AI_3: Peter\n",
      "Position Python_1: Ciara\n",
      "Position Python_2: Jane\n",
      "Position Database: Jane\n",
      "Position Systems: Mary\n",
      "Position Web: Anita\n",
      "\n",
      "Solution 38:\n",
      "Position AI_1: Anita\n",
      "Position AI_2: Juan\n",
      "Position AI_3: Peter\n",
      "Position Python_1: Ciara\n",
      "Position Python_2: Jane\n",
      "Position Database: Jane\n",
      "Position Systems: Jim\n",
      "Position Web: Juan\n",
      "\n",
      "Solution 39:\n",
      "Position AI_1: Anita\n",
      "Position AI_2: Juan\n",
      "Position AI_3: Peter\n",
      "Position Python_1: Ciara\n",
      "Position Python_2: Jane\n",
      "Position Database: Jane\n",
      "Position Systems: Jim\n",
      "Position Web: Anita\n",
      "\n",
      "Solution 40:\n",
      "Position AI_1: Anita\n",
      "Position AI_2: Juan\n",
      "Position AI_3: Peter\n",
      "Position Python_1: Jane\n",
      "Position Python_2: Peter\n",
      "Position Database: Jane\n",
      "Position Systems: Bruce\n",
      "Position Web: Juan\n",
      "\n",
      "Solution 41:\n",
      "Position AI_1: Anita\n",
      "Position AI_2: Juan\n",
      "Position AI_3: Peter\n",
      "Position Python_1: Jane\n",
      "Position Python_2: Peter\n",
      "Position Database: Jane\n",
      "Position Systems: Bruce\n",
      "Position Web: Anita\n",
      "\n",
      "Solution 42:\n",
      "Position AI_1: Anita\n",
      "Position AI_2: Juan\n",
      "Position AI_3: Peter\n",
      "Position Python_1: Jane\n",
      "Position Python_2: Peter\n",
      "Position Database: Jane\n",
      "Position Systems: Mary\n",
      "Position Web: Mary\n",
      "\n",
      "Solution 43:\n",
      "Position AI_1: Anita\n",
      "Position AI_2: Juan\n",
      "Position AI_3: Peter\n",
      "Position Python_1: Jane\n",
      "Position Python_2: Peter\n",
      "Position Database: Jane\n",
      "Position Systems: Mary\n",
      "Position Web: Juan\n",
      "\n",
      "Solution 44:\n",
      "Position AI_1: Anita\n",
      "Position AI_2: Juan\n",
      "Position AI_3: Peter\n",
      "Position Python_1: Jane\n",
      "Position Python_2: Peter\n",
      "Position Database: Jane\n",
      "Position Systems: Mary\n",
      "Position Web: Anita\n",
      "\n",
      "Solution 45:\n",
      "Position AI_1: Anita\n",
      "Position AI_2: Juan\n",
      "Position AI_3: Peter\n",
      "Position Python_1: Jane\n",
      "Position Python_2: Peter\n",
      "Position Database: Jane\n",
      "Position Systems: Jim\n",
      "Position Web: Juan\n",
      "\n",
      "Solution 46:\n",
      "Position AI_1: Anita\n",
      "Position AI_2: Juan\n",
      "Position AI_3: Peter\n",
      "Position Python_1: Jane\n",
      "Position Python_2: Peter\n",
      "Position Database: Jane\n",
      "Position Systems: Jim\n",
      "Position Web: Anita\n",
      "\n",
      "Solution 47:\n",
      "Position AI_1: Anita\n",
      "Position AI_2: Juan\n",
      "Position AI_3: Peter\n",
      "Position Python_1: Ciara\n",
      "Position Python_2: Peter\n",
      "Position Database: Jane\n",
      "Position Systems: Bruce\n",
      "Position Web: Juan\n",
      "\n",
      "Solution 48:\n",
      "Position AI_1: Anita\n",
      "Position AI_2: Juan\n",
      "Position AI_3: Peter\n",
      "Position Python_1: Ciara\n",
      "Position Python_2: Peter\n",
      "Position Database: Jane\n",
      "Position Systems: Bruce\n",
      "Position Web: Anita\n",
      "\n",
      "Solution 49:\n",
      "Position AI_1: Anita\n",
      "Position AI_2: Juan\n",
      "Position AI_3: Peter\n",
      "Position Python_1: Ciara\n",
      "Position Python_2: Peter\n",
      "Position Database: Jane\n",
      "Position Systems: Mary\n",
      "Position Web: Mary\n",
      "\n",
      "Solution 50:\n",
      "Position AI_1: Anita\n",
      "Position AI_2: Juan\n",
      "Position AI_3: Peter\n",
      "Position Python_1: Ciara\n",
      "Position Python_2: Peter\n",
      "Position Database: Jane\n",
      "Position Systems: Mary\n",
      "Position Web: Juan\n",
      "\n",
      "Solution 51:\n",
      "Position AI_1: Anita\n",
      "Position AI_2: Juan\n",
      "Position AI_3: Peter\n",
      "Position Python_1: Ciara\n",
      "Position Python_2: Peter\n",
      "Position Database: Jane\n",
      "Position Systems: Mary\n",
      "Position Web: Anita\n",
      "\n",
      "Solution 52:\n",
      "Position AI_1: Anita\n",
      "Position AI_2: Juan\n",
      "Position AI_3: Peter\n",
      "Position Python_1: Ciara\n",
      "Position Python_2: Peter\n",
      "Position Database: Jane\n",
      "Position Systems: Jim\n",
      "Position Web: Juan\n",
      "\n",
      "Solution 53:\n",
      "Position AI_1: Anita\n",
      "Position AI_2: Juan\n",
      "Position AI_3: Peter\n",
      "Position Python_1: Ciara\n",
      "Position Python_2: Peter\n",
      "Position Database: Jane\n",
      "Position Systems: Jim\n",
      "Position Web: Anita\n",
      "\n",
      "Solution 54:\n",
      "Position AI_1: Jim\n",
      "Position AI_2: Juan\n",
      "Position AI_3: Peter\n",
      "Position Python_1: Bruce\n",
      "Position Python_2: Ciara\n",
      "Position Database: Jane\n",
      "Position Systems: Bruce\n",
      "Position Web: Juan\n",
      "\n",
      "Solution 55:\n",
      "Position AI_1: Jim\n",
      "Position AI_2: Juan\n",
      "Position AI_3: Peter\n",
      "Position Python_1: Bruce\n",
      "Position Python_2: Ciara\n",
      "Position Database: Jane\n",
      "Position Systems: Jim\n",
      "Position Web: Juan\n",
      "\n",
      "Solution 56:\n",
      "Position AI_1: Jim\n",
      "Position AI_2: Juan\n",
      "Position AI_3: Peter\n",
      "Position Python_1: Bruce\n",
      "Position Python_2: Peter\n",
      "Position Database: Jane\n",
      "Position Systems: Bruce\n",
      "Position Web: Juan\n",
      "\n",
      "Solution 57:\n",
      "Position AI_1: Jim\n",
      "Position AI_2: Juan\n",
      "Position AI_3: Peter\n",
      "Position Python_1: Bruce\n",
      "Position Python_2: Peter\n",
      "Position Database: Jane\n",
      "Position Systems: Jim\n",
      "Position Web: Juan\n",
      "\n",
      "Solution 58:\n",
      "Position AI_1: Jim\n",
      "Position AI_2: Juan\n",
      "Position AI_3: Peter\n",
      "Position Python_1: Bruce\n",
      "Position Python_2: Jane\n",
      "Position Database: Jane\n",
      "Position Systems: Bruce\n",
      "Position Web: Juan\n",
      "\n",
      "Solution 59:\n",
      "Position AI_1: Jim\n",
      "Position AI_2: Juan\n",
      "Position AI_3: Peter\n",
      "Position Python_1: Bruce\n",
      "Position Python_2: Jane\n",
      "Position Database: Jane\n",
      "Position Systems: Jim\n",
      "Position Web: Juan\n",
      "\n",
      "Solution 60:\n",
      "Position AI_1: Jim\n",
      "Position AI_2: Juan\n",
      "Position AI_3: Peter\n",
      "Position Python_1: Ciara\n",
      "Position Python_2: Jane\n",
      "Position Database: Jane\n",
      "Position Systems: Bruce\n",
      "Position Web: Juan\n",
      "\n",
      "Solution 61:\n",
      "Position AI_1: Jim\n",
      "Position AI_2: Juan\n",
      "Position AI_3: Peter\n",
      "Position Python_1: Ciara\n",
      "Position Python_2: Jane\n",
      "Position Database: Jane\n",
      "Position Systems: Mary\n",
      "Position Web: Mary\n",
      "\n",
      "Solution 62:\n",
      "Position AI_1: Jim\n",
      "Position AI_2: Juan\n",
      "Position AI_3: Peter\n",
      "Position Python_1: Ciara\n",
      "Position Python_2: Jane\n",
      "Position Database: Jane\n",
      "Position Systems: Mary\n",
      "Position Web: Juan\n",
      "\n",
      "Solution 63:\n",
      "Position AI_1: Jim\n",
      "Position AI_2: Juan\n",
      "Position AI_3: Peter\n",
      "Position Python_1: Ciara\n",
      "Position Python_2: Jane\n",
      "Position Database: Jane\n",
      "Position Systems: Jim\n",
      "Position Web: Anita\n",
      "\n",
      "Solution 64:\n",
      "Position AI_1: Jim\n",
      "Position AI_2: Juan\n",
      "Position AI_3: Peter\n",
      "Position Python_1: Ciara\n",
      "Position Python_2: Jane\n",
      "Position Database: Jane\n",
      "Position Systems: Jim\n",
      "Position Web: Mary\n",
      "\n",
      "Solution 65:\n",
      "Position AI_1: Jim\n",
      "Position AI_2: Juan\n",
      "Position AI_3: Peter\n",
      "Position Python_1: Ciara\n",
      "Position Python_2: Jane\n",
      "Position Database: Jane\n",
      "Position Systems: Jim\n",
      "Position Web: Juan\n",
      "\n",
      "Solution 66:\n",
      "Position AI_1: Jim\n",
      "Position AI_2: Juan\n",
      "Position AI_3: Peter\n",
      "Position Python_1: Jane\n",
      "Position Python_2: Peter\n",
      "Position Database: Jane\n",
      "Position Systems: Bruce\n",
      "Position Web: Juan\n",
      "\n",
      "Solution 67:\n",
      "Position AI_1: Jim\n",
      "Position AI_2: Juan\n",
      "Position AI_3: Peter\n",
      "Position Python_1: Jane\n",
      "Position Python_2: Peter\n",
      "Position Database: Jane\n",
      "Position Systems: Mary\n",
      "Position Web: Mary\n",
      "\n",
      "Solution 68:\n",
      "Position AI_1: Jim\n",
      "Position AI_2: Juan\n",
      "Position AI_3: Peter\n",
      "Position Python_1: Jane\n",
      "Position Python_2: Peter\n",
      "Position Database: Jane\n",
      "Position Systems: Mary\n",
      "Position Web: Juan\n",
      "\n",
      "Solution 69:\n",
      "Position AI_1: Jim\n",
      "Position AI_2: Juan\n",
      "Position AI_3: Peter\n",
      "Position Python_1: Jane\n",
      "Position Python_2: Peter\n",
      "Position Database: Jane\n",
      "Position Systems: Jim\n",
      "Position Web: Anita\n",
      "\n",
      "Solution 70:\n",
      "Position AI_1: Jim\n",
      "Position AI_2: Juan\n",
      "Position AI_3: Peter\n",
      "Position Python_1: Jane\n",
      "Position Python_2: Peter\n",
      "Position Database: Jane\n",
      "Position Systems: Jim\n",
      "Position Web: Mary\n",
      "\n",
      "Solution 71:\n",
      "Position AI_1: Jim\n",
      "Position AI_2: Juan\n",
      "Position AI_3: Peter\n",
      "Position Python_1: Jane\n",
      "Position Python_2: Peter\n",
      "Position Database: Jane\n",
      "Position Systems: Jim\n",
      "Position Web: Juan\n",
      "\n",
      "Solution 72:\n",
      "Position AI_1: Jim\n",
      "Position AI_2: Juan\n",
      "Position AI_3: Peter\n",
      "Position Python_1: Ciara\n",
      "Position Python_2: Peter\n",
      "Position Database: Jane\n",
      "Position Systems: Bruce\n",
      "Position Web: Juan\n",
      "\n",
      "Solution 73:\n",
      "Position AI_1: Jim\n",
      "Position AI_2: Juan\n",
      "Position AI_3: Peter\n",
      "Position Python_1: Ciara\n",
      "Position Python_2: Peter\n",
      "Position Database: Jane\n",
      "Position Systems: Mary\n",
      "Position Web: Mary\n",
      "\n",
      "Solution 74:\n",
      "Position AI_1: Jim\n",
      "Position AI_2: Juan\n",
      "Position AI_3: Peter\n",
      "Position Python_1: Ciara\n",
      "Position Python_2: Peter\n",
      "Position Database: Jane\n",
      "Position Systems: Mary\n",
      "Position Web: Juan\n",
      "\n",
      "Solution 75:\n",
      "Position AI_1: Jim\n",
      "Position AI_2: Juan\n",
      "Position AI_3: Peter\n",
      "Position Python_1: Ciara\n",
      "Position Python_2: Peter\n",
      "Position Database: Jane\n",
      "Position Systems: Jim\n",
      "Position Web: Anita\n",
      "\n",
      "Solution 76:\n",
      "Position AI_1: Jim\n",
      "Position AI_2: Juan\n",
      "Position AI_3: Peter\n",
      "Position Python_1: Ciara\n",
      "Position Python_2: Peter\n",
      "Position Database: Jane\n",
      "Position Systems: Jim\n",
      "Position Web: Mary\n",
      "\n",
      "Solution 77:\n",
      "Position AI_1: Jim\n",
      "Position AI_2: Juan\n",
      "Position AI_3: Peter\n",
      "Position Python_1: Ciara\n",
      "Position Python_2: Peter\n",
      "Position Database: Jane\n",
      "Position Systems: Jim\n",
      "Position Web: Juan\n",
      "\n"
     ]
    }
   ],
   "source": [
    "from constraint import Problem\n",
    "\n",
    "# Defines the positions and the hires with their qualifications\n",
    "positions = [\"Python_1\", \"Python_2\", \"AI_1\", \"AI_2\", \"AI_3\", \"Web\", \"Database\", \"Systems\"]\n",
    "hires = {\n",
    "    \"Ciara\": [\"Python_1\", \"Python_2\"],\n",
    "    \"Peter\": [\"Python_1\", \"Python_2\", \"AI_1\", \"AI_2\", \"AI_3\"],\n",
    "    \"Juan\": [\"Web\", \"AI_1\", \"AI_2\", \"AI_3\"],\n",
    "    \"Jim\": [\"AI_1\", \"AI_2\", \"AI_3\", \"Systems\"],\n",
    "    \"Jane\": [\"Python_1\", \"Python_2\", \"Database\"],\n",
    "    \"Mary\": [\"Web\", \"Systems\"],\n",
    "    \"Bruce\": [\"Systems\", \"Python_1\", \"Python_2\"],\n",
    "    \"Anita\": [\"Web\", \"AI_1\", \"AI_2\", \"AI_3\"]\n",
    "}\n",
    "\n",
    "problem = Problem()\n",
    "\n",
    "# Defines the variables (positions) and their domains (hires who can take the positions)\n",
    "for position in positions:\n",
    "    problem.addVariable(position, list(hires.keys()))\n",
    "\n",
    "# # Defines the constraints\n",
    "def python_constraint(python_1, python_2):\n",
    "    return python_1 != python_2\n",
    "\n",
    "def ai_constraint(ai_1, ai_2, ai_3):\n",
    "    return ai_1 != ai_2 and ai_1 != ai_3 and ai_2 != ai_3\n",
    "\n",
    "# Jane is the only one qualified to occupy the DB position \n",
    "def db_constraint(database):\n",
    "    return database == \"Jane\"\n",
    "\n",
    "# Defines the amount of people that can be hired (Including Ciara and Juan)\n",
    "def hiring_constraint(*args):\n",
    "    hires_set = set(args)\n",
    "    if \"Ciara\" in hires_set and \"Juan\" in hires_set:\n",
    "        return len(hires_set) <= 6\n",
    "    elif \"Ciara\" in hires_set or \"Juan\" in hires_set:\n",
    "        return len(hires_set) <= 5\n",
    "    else:\n",
    "        return len(hires_set) == 4\n",
    "\n",
    "# Defines that a person can only occupy a max of two positions\n",
    "def max_two_positions_constraint(*args):\n",
    "    hires_count = dict()\n",
    "    for hire in args:\n",
    "        if hire in hires_count:\n",
    "            hires_count[hire] += 1\n",
    "        else:\n",
    "            hires_count[hire] = 1\n",
    "    return all(count <= 2 for count in hires_count.values())\n",
    "\n",
    "# Defines the constraint that an individual can only occupy the positions they are qualified for\n",
    "def qualification_constraint(*args):\n",
    "    for position, hire in zip(positions, args):\n",
    "        if position not in hires[hire]:\n",
    "            return False\n",
    "    return True\n",
    "\n",
    "# Adds the constraints to the problem\n",
    "problem.addConstraint(python_constraint, [\"Python_1\", \"Python_2\"])\n",
    "problem.addConstraint(ai_constraint, [\"AI_1\", \"AI_2\", \"AI_3\"])\n",
    "problem.addConstraint(db_constraint, [\"Database\"])\n",
    "problem.addConstraint(hiring_constraint, positions)\n",
    "problem.addConstraint(max_two_positions_constraint, positions)\n",
    "problem.addConstraint(qualification_constraint, positions)\n",
    "\n",
    "# Gets and prints solutions\n",
    "solutions = problem.getSolutions()\n",
    "\n",
    "total_combinations = 0\n",
    "unique_solutions2 = []\n",
    "for solution in solutions:\n",
    "    # For positions with the same qualifications, sorts the individuals\n",
    "    ai_positions = sorted([solution[\"AI_1\"], solution[\"AI_2\"], solution[\"AI_3\"]])\n",
    "    solution[\"AI_1\"], solution[\"AI_2\"], solution[\"AI_3\"] = ai_positions[0], ai_positions[1], ai_positions[2]\n",
    "\n",
    "    python_positions = sorted([solution[\"Python_1\"], solution[\"Python_2\"]])\n",
    "    solution[\"Python_1\"], solution[\"Python_2\"] = python_positions\n",
    "\n",
    "    # Adds to unique solutions if not already present\n",
    "    if solution not in unique_solutions2:\n",
    "        unique_solutions2.append(solution)\n",
    "        total_combinations+=1\n",
    "\n",
    "\n",
    "# Prints the solutions by position\n",
    "for i, solution in enumerate(unique_solutions2):   \n",
    "    print(f\"Solution {i+1}:\")\n",
    "    for position, hire in solution.items():\n",
    "        print(f\"Position {position}: {hire}\")\n",
    "    print()"
   ]
  },
  {
   "cell_type": "markdown",
   "id": "9f35f402",
   "metadata": {},
   "source": [
    "## Information about the hiring combinations for Scenario 2"
   ]
  },
  {
   "cell_type": "code",
   "execution_count": 141,
   "id": "94b3f56b",
   "metadata": {
    "scrolled": true
   },
   "outputs": [
    {
     "name": "stdout",
     "output_type": "stream",
     "text": [
      "There is a total of 77 hiring combinations\n",
      "\n",
      "Mary appears in 22 solutions.\n",
      "Bruce appears in 31 solutions.\n",
      "Ciara appears in 48 solutions.\n",
      "Anita appears in 56 solutions.\n",
      "Jim appears in 56 solutions.\n",
      "Peter appears in 61 solutions.\n",
      "Juan appears in 74 solutions.\n",
      "Jane appears in ALL solutions\n",
      "\n",
      "The number of solutions that Ciara is not in is: 29\n",
      "The number of solutions that Juan is not in is: 3\n",
      "The number of solutions that neither is in is: 1\n",
      "The number of solutions with BOTH in it is: 46\n"
     ]
    }
   ],
   "source": [
    "# Initialises a dictionary to store the counts for each person\n",
    "person_counts = dict()\n",
    "\n",
    "# Loops over the unique solutions\n",
    "for solution in unique_solutions2:\n",
    "    # GetS the set of hires in each solution\n",
    "    hires_set = set(solution.values())\n",
    "    # LoopS over the hires in the set\n",
    "    for hire in hires_set:\n",
    "        # IncrementS the count for the hire by one\n",
    "        person_counts[hire] = person_counts.get(hire, 0) + 1\n",
    "\n",
    "# Defines a function to extract the count from an item\n",
    "def get_count(item):\n",
    "    return item[1]\n",
    "\n",
    "# Sorts the person counts by ascending order of values\n",
    "person_counts = dict(sorted(person_counts.items(), key=get_count))\n",
    "\n",
    "print(f\"There is a total of {total_combinations} hiring combinations\")\n",
    "print()\n",
    "# Prints the counts for each person\n",
    "for person, count in person_counts.items():\n",
    "    if count >= total_combinations:\n",
    "        print(f\"{person} appears in ALL solutions\")\n",
    "    else:\n",
    "        print(f\"{person} appears in {count} solutions.\")\n",
    "\n",
    "print()\n",
    "\n",
    "# Prints solutions with specific hires\n",
    "solutions_without_ciara_count = 0\n",
    "solutions_without_juan_count = 0\n",
    "solutions_without_neither_count = 0\n",
    "solutions_with_both_count = 0\n",
    "\n",
    "for i, solution in enumerate(unique_solutions2):\n",
    "    if \"Ciara\" not in solution.values():\n",
    "        solutions_without_ciara_count += 1\n",
    "    if \"Juan\" not in solution.values():\n",
    "        solutions_without_juan_count += 1\n",
    "    if \"Ciara\" not in solution.values() and \"Juan\" not in solution.values():\n",
    "        solutions_without_neither_count += 1\n",
    "    if \"Ciara\" in solution.values() and \"Juan\" in solution.values():\n",
    "        solutions_with_both_count += 1  \n",
    "        \n",
    "print(f\"The number of solutions that Ciara is not in is: {solutions_without_ciara_count}\")\n",
    "print(f\"The number of solutions that Juan is not in is: {solutions_without_juan_count}\")\n",
    "print(f\"The number of solutions that neither is in is: {solutions_without_neither_count}\")\n",
    "print(f\"The number of solutions with BOTH in it is: {solutions_with_both_count}\")"
   ]
  },
  {
   "cell_type": "markdown",
   "id": "aa7990db",
   "metadata": {},
   "source": [
    "## Solution where neither Ciara nor Juan are needed"
   ]
  },
  {
   "cell_type": "code",
   "execution_count": 77,
   "id": "c0dd8521",
   "metadata": {},
   "outputs": [
    {
     "name": "stdout",
     "output_type": "stream",
     "text": [
      "Solution 24:\n",
      "Position AI_1: Anita\n",
      "Position AI_2: Jim\n",
      "Position AI_3: Peter\n",
      "Position Python_1: Jane\n",
      "Position Python_2: Peter\n",
      "Position Database: Jane\n",
      "Position Systems: Jim\n",
      "Position Web: Anita\n",
      "\n"
     ]
    }
   ],
   "source": [
    "for i, solution in enumerate(unique_solutions2):\n",
    "    if \"Ciara\" not in solution.values() and \"Juan\" not in solution.values():\n",
    "        print(f\"Solution {i+1}:\")\n",
    "        for position, hire in solution.items():\n",
    "            print(f\"Position {position}: {hire}\")\n",
    "        print()     "
   ]
  },
  {
   "cell_type": "markdown",
   "id": "dc69a65a",
   "metadata": {},
   "source": [
    "# Exercise 3: Solving with a different algorithm"
   ]
  },
  {
   "cell_type": "markdown",
   "id": "0173ea38",
   "metadata": {},
   "source": [
    "## Scenario 1 without CSP"
   ]
  },
  {
   "cell_type": "markdown",
   "id": "9024d1bb",
   "metadata": {},
   "source": [
    "Backtracking + DFS"
   ]
  },
  {
   "cell_type": "code",
   "execution_count": 78,
   "id": "bbace488",
   "metadata": {},
   "outputs": [
    {
     "name": "stdout",
     "output_type": "stream",
     "text": [
      "Solution 1:\n",
      "Position Python_1: Ciara\n",
      "Position Python_2: Jane\n",
      "Position AI_1: Juan\n",
      "Position AI_2: Jim\n",
      "Position Web: Juan\n",
      "Position Database: Jane\n",
      "Position Systems: Jim\n",
      "\n",
      "Solution 2:\n",
      "Position Python_1: Ciara\n",
      "Position Python_2: Jane\n",
      "Position AI_1: Jim\n",
      "Position AI_2: Anita\n",
      "Position Web: Anita\n",
      "Position Database: Jane\n",
      "Position Systems: Jim\n",
      "\n"
     ]
    }
   ],
   "source": [
    "# Initialises a dictionary to store the positions and each hire that can fill it\n",
    "positions = {\n",
    "    \"Python_1\": [\"Ciara\"],\n",
    "    \"Python_2\": [\"Peter\", \"Jane\", \"Bruce\"],\n",
    "    \"AI_1\": [\"Peter\", \"Juan\", \"Jim\", \"Anita\"],\n",
    "    \"AI_2\": [\"Peter\", \"Juan\", \"Jim\", \"Anita\"],\n",
    "    \"Web\": [\"Juan\", \"Mary\", \"Anita\"],\n",
    "    \"Database\": [\"Jane\"],\n",
    "    \"Systems\": [\"Jim\", \"Mary\", \"Bruce\"]\n",
    "}\n",
    "\n",
    "# Initialises an empty set to store the seen assignments\n",
    "seen = set()\n",
    "\n",
    "def assign(positions, hires, assignment={}, unique_hires=4):\n",
    "    # If all positions are filled, returns the assignment\n",
    "    if len(assignment) == len(positions):\n",
    "        # Checks if AI_1 and AI_2 hires are different\n",
    "        if assignment.get(\"AI_1\") != assignment.get(\"AI_2\"): \n",
    "            # Creates a tuple of the hires assigned to AI_1 and AI_2 and sorts it in alphabetical order\n",
    "            ai_hires = tuple(sorted([assignment[\"AI_1\"], assignment[\"AI_2\"]]))\n",
    "            # Checks if the tuple is already in the seen set\n",
    "            if ai_hires not in seen:\n",
    "                # Adds the tuple to the seen set\n",
    "                seen.add(ai_hires)\n",
    "                # Returns the assignment\n",
    "                yield assignment\n",
    "    else:\n",
    "        # Gets the next position to fill\n",
    "        position = next(pos for pos in positions if pos not in assignment)\n",
    "        # Tries to assign each hire to the position\n",
    "        for hire in positions[position]:\n",
    "            # Checks if the hire is already assigned too many times or goes above the unique_hires\n",
    "            if list(assignment.values()).count(hire) < 2 and len(set(list(assignment.values()) + [hire])) <= unique_hires:\n",
    "                # Assign the hire to the position\n",
    "                assignment[position] = hire\n",
    "                # Fills the remaining positions using recursion\n",
    "                yield from assign(positions, hires, assignment)\n",
    "                # Removes the assignment to backtrack\n",
    "                del assignment[position]       \n",
    "\n",
    "# Prints tbe possible solutions\n",
    "for i, assignment in enumerate(assign(positions, positions.values()), 1):\n",
    "    print(f\"Solution {i}:\")\n",
    "    for position, hire in assignment.items():    \n",
    "        print(f\"Position {position}: {hire}\")\n",
    "    print()\n"
   ]
  },
  {
   "cell_type": "markdown",
   "id": "1c94d88b",
   "metadata": {},
   "source": [
    "# Data Visualization Tasks - Visualizations and GUI"
   ]
  },
  {
   "cell_type": "markdown",
   "id": "1f3ea4c6",
   "metadata": {},
   "source": [
    "## Scenario 1"
   ]
  },
  {
   "cell_type": "code",
   "execution_count": 193,
   "id": "c877d1dc",
   "metadata": {},
   "outputs": [
    {
     "data": {
      "text/html": [
       "<div style='text-align:center;'><h2>Available Positions</h2><div style='display:flex; flex-direction:row; justify-content:center;'><div style='padding:10px;'><table border=\"1\" class=\"dataframe\">\n",
       "  <thead>\n",
       "    <tr style=\"text-align: right;\">\n",
       "      <th>Available Positions</th>\n",
       "    </tr>\n",
       "  </thead>\n",
       "  <tbody>\n",
       "    <tr>\n",
       "      <td>Python 1</td>\n",
       "    </tr>\n",
       "    <tr>\n",
       "      <td>Python 2</td>\n",
       "    </tr>\n",
       "    <tr>\n",
       "      <td>AI 1</td>\n",
       "    </tr>\n",
       "    <tr>\n",
       "      <td>AI 2</td>\n",
       "    </tr>\n",
       "    <tr>\n",
       "      <td>Web</td>\n",
       "    </tr>\n",
       "    <tr>\n",
       "      <td>Database</td>\n",
       "    </tr>\n",
       "    <tr>\n",
       "      <td>Systems</td>\n",
       "    </tr>\n",
       "  </tbody>\n",
       "</table></div></div></div><div style='text-align:center;'><h2>Positions candidates are qualified to occupy</h2><div style='display:flex; flex-direction:row; justify-content:center;'><div style='padding:10px;'><table border=\"1\" class=\"dataframe\">\n",
       "  <thead>\n",
       "    <tr style=\"text-align: right;\">\n",
       "      <th>Ciara</th>\n",
       "    </tr>\n",
       "  </thead>\n",
       "  <tbody>\n",
       "    <tr>\n",
       "      <td>Python 1</td>\n",
       "    </tr>\n",
       "  </tbody>\n",
       "</table></div><div style='padding:10px;'><table border=\"1\" class=\"dataframe\">\n",
       "  <thead>\n",
       "    <tr style=\"text-align: right;\">\n",
       "      <th>Peter</th>\n",
       "    </tr>\n",
       "  </thead>\n",
       "  <tbody>\n",
       "    <tr>\n",
       "      <td>Python 2</td>\n",
       "    </tr>\n",
       "    <tr>\n",
       "      <td>AI 1</td>\n",
       "    </tr>\n",
       "    <tr>\n",
       "      <td>AI 2</td>\n",
       "    </tr>\n",
       "  </tbody>\n",
       "</table></div><div style='padding:10px;'><table border=\"1\" class=\"dataframe\">\n",
       "  <thead>\n",
       "    <tr style=\"text-align: right;\">\n",
       "      <th>Juan</th>\n",
       "    </tr>\n",
       "  </thead>\n",
       "  <tbody>\n",
       "    <tr>\n",
       "      <td>Web</td>\n",
       "    </tr>\n",
       "    <tr>\n",
       "      <td>AI 1</td>\n",
       "    </tr>\n",
       "    <tr>\n",
       "      <td>AI 2</td>\n",
       "    </tr>\n",
       "  </tbody>\n",
       "</table></div><div style='padding:10px;'><table border=\"1\" class=\"dataframe\">\n",
       "  <thead>\n",
       "    <tr style=\"text-align: right;\">\n",
       "      <th>Jim</th>\n",
       "    </tr>\n",
       "  </thead>\n",
       "  <tbody>\n",
       "    <tr>\n",
       "      <td>AI 1</td>\n",
       "    </tr>\n",
       "    <tr>\n",
       "      <td>AI 2</td>\n",
       "    </tr>\n",
       "    <tr>\n",
       "      <td>Systems</td>\n",
       "    </tr>\n",
       "  </tbody>\n",
       "</table></div><div style='padding:10px;'><table border=\"1\" class=\"dataframe\">\n",
       "  <thead>\n",
       "    <tr style=\"text-align: right;\">\n",
       "      <th>Jane</th>\n",
       "    </tr>\n",
       "  </thead>\n",
       "  <tbody>\n",
       "    <tr>\n",
       "      <td>Python 2</td>\n",
       "    </tr>\n",
       "    <tr>\n",
       "      <td>Database</td>\n",
       "    </tr>\n",
       "  </tbody>\n",
       "</table></div><div style='padding:10px;'><table border=\"1\" class=\"dataframe\">\n",
       "  <thead>\n",
       "    <tr style=\"text-align: right;\">\n",
       "      <th>Mary</th>\n",
       "    </tr>\n",
       "  </thead>\n",
       "  <tbody>\n",
       "    <tr>\n",
       "      <td>Web</td>\n",
       "    </tr>\n",
       "    <tr>\n",
       "      <td>Systems</td>\n",
       "    </tr>\n",
       "  </tbody>\n",
       "</table></div><div style='padding:10px;'><table border=\"1\" class=\"dataframe\">\n",
       "  <thead>\n",
       "    <tr style=\"text-align: right;\">\n",
       "      <th>Bruce</th>\n",
       "    </tr>\n",
       "  </thead>\n",
       "  <tbody>\n",
       "    <tr>\n",
       "      <td>Systems</td>\n",
       "    </tr>\n",
       "    <tr>\n",
       "      <td>Python 2</td>\n",
       "    </tr>\n",
       "  </tbody>\n",
       "</table></div><div style='padding:10px;'><table border=\"1\" class=\"dataframe\">\n",
       "  <thead>\n",
       "    <tr style=\"text-align: right;\">\n",
       "      <th>Anita</th>\n",
       "    </tr>\n",
       "  </thead>\n",
       "  <tbody>\n",
       "    <tr>\n",
       "      <td>Web</td>\n",
       "    </tr>\n",
       "    <tr>\n",
       "      <td>AI 1</td>\n",
       "    </tr>\n",
       "    <tr>\n",
       "      <td>AI 2</td>\n",
       "    </tr>\n",
       "  </tbody>\n",
       "</table></div></div></div>"
      ],
      "text/plain": [
       "<IPython.core.display.HTML object>"
      ]
     },
     "metadata": {},
     "output_type": "display_data"
    }
   ],
   "source": [
    "from IPython.display import display, HTML\n",
    "\n",
    "# Define the positions and the hires with their qualifications\n",
    "positions1 = [\"Python 1\", \"Python 2\", \"AI 1\", \n",
    "             \"AI 2\", \"Web\", \"Database\", \"Systems\"]\n",
    "\n",
    "hires_sc1 = {\n",
    "    \"Ciara\": [\"Python 1\"],\n",
    "    \"Peter\": [\"Python 2\", \"AI 1\", \"AI 2\"],\n",
    "    \"Juan\": [\"Web\", \"AI 1\", \"AI 2\"],\n",
    "    \"Jim\": [\"AI 1\", \"AI 2\", \"Systems\"],\n",
    "    \"Jane\": [\"Python 2\", \"Database\"],\n",
    "    \"Mary\": [\"Web\", \"Systems\"],\n",
    "    \"Bruce\": [\"Systems\", \"Python 2\"],\n",
    "    \"Anita\": [\"Web\", \"AI 1\", \"AI 2\"]\n",
    "}\n",
    "\n",
    "# Create a DataFrame with the available positions\n",
    "df_positions1 = pd.DataFrame(positions1, columns=[\"Available Positions\"])\n",
    "\n",
    "# Convert the DataFrame to HTML\n",
    "html_positions1 = df_positions1.to_html(index=False)\n",
    "\n",
    "# DataFrame for each person, stored in a list\n",
    "dfs1 = [pd.DataFrame({person: positions1}) for person, positions1 in hires_sc1.items()]\n",
    "\n",
    "# Converts each DataFrame to HTML\n",
    "html_strs = [df.to_html(index=False) for df in dfs1]\n",
    "\n",
    "# Combine the HTML strings and display them\n",
    "html_str = \"<div style='text-align:center;'>\" + \\\n",
    "            \"<h2>Available Positions</h2>\" + \\\n",
    "            \"<div style='display:flex; flex-direction:row; justify-content:center;'>\" + \\\n",
    "            f\"<div style='padding:10px;'>{html_positions1}</div>\" + \\\n",
    "            \"</div></div>\"\n",
    "\n",
    "html_str += \"<div style='text-align:center;'>\" + \\\n",
    "           \"<h2>Positions candidates are qualified to occupy</h2>\" + \\\n",
    "           \"<div style='display:flex; flex-direction:row; justify-content:center;'>\" + \\\n",
    "           ''.join([f\"<div style='padding:10px;'>{table}</div>\" for table in html_strs]) + \\\n",
    "           \"</div></div>\"\n",
    "\n",
    "display(HTML(html_str))"
   ]
  },
  {
   "cell_type": "code",
   "execution_count": 79,
   "id": "fb00ddba",
   "metadata": {
    "scrolled": false
   },
   "outputs": [
    {
     "data": {
      "text/html": [
       "<div>\n",
       "<style scoped>\n",
       "    .dataframe tbody tr th:only-of-type {\n",
       "        vertical-align: middle;\n",
       "    }\n",
       "\n",
       "    .dataframe tbody tr th {\n",
       "        vertical-align: top;\n",
       "    }\n",
       "\n",
       "    .dataframe thead th {\n",
       "        text-align: right;\n",
       "    }\n",
       "</style>\n",
       "<table border=\"1\" class=\"dataframe\">\n",
       "  <thead>\n",
       "    <tr style=\"text-align: right;\">\n",
       "      <th>Hiring option</th>\n",
       "      <th>AI_1</th>\n",
       "      <th>AI_2</th>\n",
       "      <th>Database</th>\n",
       "      <th>Python_1</th>\n",
       "      <th>Python_2</th>\n",
       "      <th>Systems</th>\n",
       "      <th>Web</th>\n",
       "    </tr>\n",
       "  </thead>\n",
       "  <tbody>\n",
       "    <tr>\n",
       "      <th>1</th>\n",
       "      <td>Anita</td>\n",
       "      <td>Jim</td>\n",
       "      <td>Jane</td>\n",
       "      <td>Ciara</td>\n",
       "      <td>Jane</td>\n",
       "      <td>Jim</td>\n",
       "      <td>Anita</td>\n",
       "    </tr>\n",
       "    <tr>\n",
       "      <th>2</th>\n",
       "      <td>Jim</td>\n",
       "      <td>Juan</td>\n",
       "      <td>Jane</td>\n",
       "      <td>Ciara</td>\n",
       "      <td>Jane</td>\n",
       "      <td>Jim</td>\n",
       "      <td>Juan</td>\n",
       "    </tr>\n",
       "  </tbody>\n",
       "</table>\n",
       "</div>"
      ],
      "text/plain": [
       "Hiring option   AI_1  AI_2 Database Python_1 Python_2 Systems    Web\n",
       "1              Anita   Jim     Jane    Ciara     Jane     Jim  Anita\n",
       "2                Jim  Juan     Jane    Ciara     Jane     Jim   Juan"
      ]
     },
     "execution_count": 79,
     "metadata": {},
     "output_type": "execute_result"
    }
   ],
   "source": [
    "import pandas as pd\n",
    "\n",
    "# Convert the list of solutions into a DataFrame\n",
    "df_scenario1 = pd.DataFrame(unique_solutions1)\n",
    "\n",
    "df_scenario1.index.name = \"Hiring option\"\n",
    "df_scenario1.reset_index(inplace=True)\n",
    "# Remove the index name\n",
    "df_scenario1.set_index(\"Hiring option\", inplace=True)\n",
    "\n",
    "df_scenario1.columns.name = df_scenario1.index.name\n",
    "df_scenario1.index.name = None\n",
    "df_scenario1.index = range(1, len(df_scenario1) + 1)\n",
    "\n",
    "\n",
    "df_scenario1"
   ]
  },
  {
   "cell_type": "markdown",
   "id": "322c37c7",
   "metadata": {},
   "source": [
    "## Scenario 1 - Sankey Diagram\n",
    "\n",
    "### Hiring Options Overview"
   ]
  },
  {
   "cell_type": "code",
   "execution_count": 80,
   "id": "305bcbb4",
   "metadata": {
    "scrolled": false
   },
   "outputs": [
    {
     "data": {
      "application/vnd.plotly.v1+json": {
       "config": {
        "plotlyServerURL": "https://plot.ly"
       },
       "data": [
        {
         "link": {
          "arrowlen": 15,
          "source": [
           0,
           0,
           0,
           0,
           0,
           0,
           0,
           1,
           1,
           1,
           1,
           1,
           1,
           1
          ],
          "target": [
           2,
           6,
           3,
           5,
           3,
           6,
           2,
           6,
           4,
           3,
           5,
           3,
           6,
           4
          ],
          "value": [
           1,
           1,
           1,
           1,
           1,
           1,
           1,
           1,
           1,
           1,
           1,
           1,
           1,
           1
          ]
         },
         "node": {
          "label": [
           1,
           2,
           "Anita",
           "Jane",
           "Juan",
           "Ciara",
           "Jim"
          ],
          "pad": 15,
          "thickness": 20
         },
         "type": "sankey"
        }
       ],
       "layout": {
        "font": {
         "size": 10
        },
        "template": {
         "data": {
          "bar": [
           {
            "error_x": {
             "color": "#2a3f5f"
            },
            "error_y": {
             "color": "#2a3f5f"
            },
            "marker": {
             "line": {
              "color": "#E5ECF6",
              "width": 0.5
             },
             "pattern": {
              "fillmode": "overlay",
              "size": 10,
              "solidity": 0.2
             }
            },
            "type": "bar"
           }
          ],
          "barpolar": [
           {
            "marker": {
             "line": {
              "color": "#E5ECF6",
              "width": 0.5
             },
             "pattern": {
              "fillmode": "overlay",
              "size": 10,
              "solidity": 0.2
             }
            },
            "type": "barpolar"
           }
          ],
          "carpet": [
           {
            "aaxis": {
             "endlinecolor": "#2a3f5f",
             "gridcolor": "white",
             "linecolor": "white",
             "minorgridcolor": "white",
             "startlinecolor": "#2a3f5f"
            },
            "baxis": {
             "endlinecolor": "#2a3f5f",
             "gridcolor": "white",
             "linecolor": "white",
             "minorgridcolor": "white",
             "startlinecolor": "#2a3f5f"
            },
            "type": "carpet"
           }
          ],
          "choropleth": [
           {
            "colorbar": {
             "outlinewidth": 0,
             "ticks": ""
            },
            "type": "choropleth"
           }
          ],
          "contour": [
           {
            "colorbar": {
             "outlinewidth": 0,
             "ticks": ""
            },
            "colorscale": [
             [
              0,
              "#0d0887"
             ],
             [
              0.1111111111111111,
              "#46039f"
             ],
             [
              0.2222222222222222,
              "#7201a8"
             ],
             [
              0.3333333333333333,
              "#9c179e"
             ],
             [
              0.4444444444444444,
              "#bd3786"
             ],
             [
              0.5555555555555556,
              "#d8576b"
             ],
             [
              0.6666666666666666,
              "#ed7953"
             ],
             [
              0.7777777777777778,
              "#fb9f3a"
             ],
             [
              0.8888888888888888,
              "#fdca26"
             ],
             [
              1,
              "#f0f921"
             ]
            ],
            "type": "contour"
           }
          ],
          "contourcarpet": [
           {
            "colorbar": {
             "outlinewidth": 0,
             "ticks": ""
            },
            "type": "contourcarpet"
           }
          ],
          "heatmap": [
           {
            "colorbar": {
             "outlinewidth": 0,
             "ticks": ""
            },
            "colorscale": [
             [
              0,
              "#0d0887"
             ],
             [
              0.1111111111111111,
              "#46039f"
             ],
             [
              0.2222222222222222,
              "#7201a8"
             ],
             [
              0.3333333333333333,
              "#9c179e"
             ],
             [
              0.4444444444444444,
              "#bd3786"
             ],
             [
              0.5555555555555556,
              "#d8576b"
             ],
             [
              0.6666666666666666,
              "#ed7953"
             ],
             [
              0.7777777777777778,
              "#fb9f3a"
             ],
             [
              0.8888888888888888,
              "#fdca26"
             ],
             [
              1,
              "#f0f921"
             ]
            ],
            "type": "heatmap"
           }
          ],
          "heatmapgl": [
           {
            "colorbar": {
             "outlinewidth": 0,
             "ticks": ""
            },
            "colorscale": [
             [
              0,
              "#0d0887"
             ],
             [
              0.1111111111111111,
              "#46039f"
             ],
             [
              0.2222222222222222,
              "#7201a8"
             ],
             [
              0.3333333333333333,
              "#9c179e"
             ],
             [
              0.4444444444444444,
              "#bd3786"
             ],
             [
              0.5555555555555556,
              "#d8576b"
             ],
             [
              0.6666666666666666,
              "#ed7953"
             ],
             [
              0.7777777777777778,
              "#fb9f3a"
             ],
             [
              0.8888888888888888,
              "#fdca26"
             ],
             [
              1,
              "#f0f921"
             ]
            ],
            "type": "heatmapgl"
           }
          ],
          "histogram": [
           {
            "marker": {
             "pattern": {
              "fillmode": "overlay",
              "size": 10,
              "solidity": 0.2
             }
            },
            "type": "histogram"
           }
          ],
          "histogram2d": [
           {
            "colorbar": {
             "outlinewidth": 0,
             "ticks": ""
            },
            "colorscale": [
             [
              0,
              "#0d0887"
             ],
             [
              0.1111111111111111,
              "#46039f"
             ],
             [
              0.2222222222222222,
              "#7201a8"
             ],
             [
              0.3333333333333333,
              "#9c179e"
             ],
             [
              0.4444444444444444,
              "#bd3786"
             ],
             [
              0.5555555555555556,
              "#d8576b"
             ],
             [
              0.6666666666666666,
              "#ed7953"
             ],
             [
              0.7777777777777778,
              "#fb9f3a"
             ],
             [
              0.8888888888888888,
              "#fdca26"
             ],
             [
              1,
              "#f0f921"
             ]
            ],
            "type": "histogram2d"
           }
          ],
          "histogram2dcontour": [
           {
            "colorbar": {
             "outlinewidth": 0,
             "ticks": ""
            },
            "colorscale": [
             [
              0,
              "#0d0887"
             ],
             [
              0.1111111111111111,
              "#46039f"
             ],
             [
              0.2222222222222222,
              "#7201a8"
             ],
             [
              0.3333333333333333,
              "#9c179e"
             ],
             [
              0.4444444444444444,
              "#bd3786"
             ],
             [
              0.5555555555555556,
              "#d8576b"
             ],
             [
              0.6666666666666666,
              "#ed7953"
             ],
             [
              0.7777777777777778,
              "#fb9f3a"
             ],
             [
              0.8888888888888888,
              "#fdca26"
             ],
             [
              1,
              "#f0f921"
             ]
            ],
            "type": "histogram2dcontour"
           }
          ],
          "mesh3d": [
           {
            "colorbar": {
             "outlinewidth": 0,
             "ticks": ""
            },
            "type": "mesh3d"
           }
          ],
          "parcoords": [
           {
            "line": {
             "colorbar": {
              "outlinewidth": 0,
              "ticks": ""
             }
            },
            "type": "parcoords"
           }
          ],
          "pie": [
           {
            "automargin": true,
            "type": "pie"
           }
          ],
          "scatter": [
           {
            "fillpattern": {
             "fillmode": "overlay",
             "size": 10,
             "solidity": 0.2
            },
            "type": "scatter"
           }
          ],
          "scatter3d": [
           {
            "line": {
             "colorbar": {
              "outlinewidth": 0,
              "ticks": ""
             }
            },
            "marker": {
             "colorbar": {
              "outlinewidth": 0,
              "ticks": ""
             }
            },
            "type": "scatter3d"
           }
          ],
          "scattercarpet": [
           {
            "marker": {
             "colorbar": {
              "outlinewidth": 0,
              "ticks": ""
             }
            },
            "type": "scattercarpet"
           }
          ],
          "scattergeo": [
           {
            "marker": {
             "colorbar": {
              "outlinewidth": 0,
              "ticks": ""
             }
            },
            "type": "scattergeo"
           }
          ],
          "scattergl": [
           {
            "marker": {
             "colorbar": {
              "outlinewidth": 0,
              "ticks": ""
             }
            },
            "type": "scattergl"
           }
          ],
          "scattermapbox": [
           {
            "marker": {
             "colorbar": {
              "outlinewidth": 0,
              "ticks": ""
             }
            },
            "type": "scattermapbox"
           }
          ],
          "scatterpolar": [
           {
            "marker": {
             "colorbar": {
              "outlinewidth": 0,
              "ticks": ""
             }
            },
            "type": "scatterpolar"
           }
          ],
          "scatterpolargl": [
           {
            "marker": {
             "colorbar": {
              "outlinewidth": 0,
              "ticks": ""
             }
            },
            "type": "scatterpolargl"
           }
          ],
          "scatterternary": [
           {
            "marker": {
             "colorbar": {
              "outlinewidth": 0,
              "ticks": ""
             }
            },
            "type": "scatterternary"
           }
          ],
          "surface": [
           {
            "colorbar": {
             "outlinewidth": 0,
             "ticks": ""
            },
            "colorscale": [
             [
              0,
              "#0d0887"
             ],
             [
              0.1111111111111111,
              "#46039f"
             ],
             [
              0.2222222222222222,
              "#7201a8"
             ],
             [
              0.3333333333333333,
              "#9c179e"
             ],
             [
              0.4444444444444444,
              "#bd3786"
             ],
             [
              0.5555555555555556,
              "#d8576b"
             ],
             [
              0.6666666666666666,
              "#ed7953"
             ],
             [
              0.7777777777777778,
              "#fb9f3a"
             ],
             [
              0.8888888888888888,
              "#fdca26"
             ],
             [
              1,
              "#f0f921"
             ]
            ],
            "type": "surface"
           }
          ],
          "table": [
           {
            "cells": {
             "fill": {
              "color": "#EBF0F8"
             },
             "line": {
              "color": "white"
             }
            },
            "header": {
             "fill": {
              "color": "#C8D4E3"
             },
             "line": {
              "color": "white"
             }
            },
            "type": "table"
           }
          ]
         },
         "layout": {
          "annotationdefaults": {
           "arrowcolor": "#2a3f5f",
           "arrowhead": 0,
           "arrowwidth": 1
          },
          "autotypenumbers": "strict",
          "coloraxis": {
           "colorbar": {
            "outlinewidth": 0,
            "ticks": ""
           }
          },
          "colorscale": {
           "diverging": [
            [
             0,
             "#8e0152"
            ],
            [
             0.1,
             "#c51b7d"
            ],
            [
             0.2,
             "#de77ae"
            ],
            [
             0.3,
             "#f1b6da"
            ],
            [
             0.4,
             "#fde0ef"
            ],
            [
             0.5,
             "#f7f7f7"
            ],
            [
             0.6,
             "#e6f5d0"
            ],
            [
             0.7,
             "#b8e186"
            ],
            [
             0.8,
             "#7fbc41"
            ],
            [
             0.9,
             "#4d9221"
            ],
            [
             1,
             "#276419"
            ]
           ],
           "sequential": [
            [
             0,
             "#0d0887"
            ],
            [
             0.1111111111111111,
             "#46039f"
            ],
            [
             0.2222222222222222,
             "#7201a8"
            ],
            [
             0.3333333333333333,
             "#9c179e"
            ],
            [
             0.4444444444444444,
             "#bd3786"
            ],
            [
             0.5555555555555556,
             "#d8576b"
            ],
            [
             0.6666666666666666,
             "#ed7953"
            ],
            [
             0.7777777777777778,
             "#fb9f3a"
            ],
            [
             0.8888888888888888,
             "#fdca26"
            ],
            [
             1,
             "#f0f921"
            ]
           ],
           "sequentialminus": [
            [
             0,
             "#0d0887"
            ],
            [
             0.1111111111111111,
             "#46039f"
            ],
            [
             0.2222222222222222,
             "#7201a8"
            ],
            [
             0.3333333333333333,
             "#9c179e"
            ],
            [
             0.4444444444444444,
             "#bd3786"
            ],
            [
             0.5555555555555556,
             "#d8576b"
            ],
            [
             0.6666666666666666,
             "#ed7953"
            ],
            [
             0.7777777777777778,
             "#fb9f3a"
            ],
            [
             0.8888888888888888,
             "#fdca26"
            ],
            [
             1,
             "#f0f921"
            ]
           ]
          },
          "colorway": [
           "#636efa",
           "#EF553B",
           "#00cc96",
           "#ab63fa",
           "#FFA15A",
           "#19d3f3",
           "#FF6692",
           "#B6E880",
           "#FF97FF",
           "#FECB52"
          ],
          "font": {
           "color": "#2a3f5f"
          },
          "geo": {
           "bgcolor": "white",
           "lakecolor": "white",
           "landcolor": "#E5ECF6",
           "showlakes": true,
           "showland": true,
           "subunitcolor": "white"
          },
          "hoverlabel": {
           "align": "left"
          },
          "hovermode": "closest",
          "mapbox": {
           "style": "light"
          },
          "paper_bgcolor": "white",
          "plot_bgcolor": "#E5ECF6",
          "polar": {
           "angularaxis": {
            "gridcolor": "white",
            "linecolor": "white",
            "ticks": ""
           },
           "bgcolor": "#E5ECF6",
           "radialaxis": {
            "gridcolor": "white",
            "linecolor": "white",
            "ticks": ""
           }
          },
          "scene": {
           "xaxis": {
            "backgroundcolor": "#E5ECF6",
            "gridcolor": "white",
            "gridwidth": 2,
            "linecolor": "white",
            "showbackground": true,
            "ticks": "",
            "zerolinecolor": "white"
           },
           "yaxis": {
            "backgroundcolor": "#E5ECF6",
            "gridcolor": "white",
            "gridwidth": 2,
            "linecolor": "white",
            "showbackground": true,
            "ticks": "",
            "zerolinecolor": "white"
           },
           "zaxis": {
            "backgroundcolor": "#E5ECF6",
            "gridcolor": "white",
            "gridwidth": 2,
            "linecolor": "white",
            "showbackground": true,
            "ticks": "",
            "zerolinecolor": "white"
           }
          },
          "shapedefaults": {
           "line": {
            "color": "#2a3f5f"
           }
          },
          "ternary": {
           "aaxis": {
            "gridcolor": "white",
            "linecolor": "white",
            "ticks": ""
           },
           "baxis": {
            "gridcolor": "white",
            "linecolor": "white",
            "ticks": ""
           },
           "bgcolor": "#E5ECF6",
           "caxis": {
            "gridcolor": "white",
            "linecolor": "white",
            "ticks": ""
           }
          },
          "title": {
           "x": 0.05
          },
          "xaxis": {
           "automargin": true,
           "gridcolor": "white",
           "linecolor": "white",
           "ticks": "",
           "title": {
            "standoff": 15
           },
           "zerolinecolor": "white",
           "zerolinewidth": 2
          },
          "yaxis": {
           "automargin": true,
           "gridcolor": "white",
           "linecolor": "white",
           "ticks": "",
           "title": {
            "standoff": 15
           },
           "zerolinecolor": "white",
           "zerolinewidth": 2
          }
         }
        },
        "title": {
         "text": "Hiring Options - Scenario 1 - Overview"
        }
       }
      },
      "text/html": [
       "<div>                            <div id=\"3285cfcc-c998-450a-90c0-26c64f40a4f6\" class=\"plotly-graph-div\" style=\"height:525px; width:100%;\"></div>            <script type=\"text/javascript\">                require([\"plotly\"], function(Plotly) {                    window.PLOTLYENV=window.PLOTLYENV || {};                                    if (document.getElementById(\"3285cfcc-c998-450a-90c0-26c64f40a4f6\")) {                    Plotly.newPlot(                        \"3285cfcc-c998-450a-90c0-26c64f40a4f6\",                        [{\"link\":{\"arrowlen\":15,\"source\":[0,0,0,0,0,0,0,1,1,1,1,1,1,1],\"target\":[2,6,3,5,3,6,2,6,4,3,5,3,6,4],\"value\":[1,1,1,1,1,1,1,1,1,1,1,1,1,1]},\"node\":{\"label\":[1,2,\"Anita\",\"Jane\",\"Juan\",\"Ciara\",\"Jim\"],\"pad\":15,\"thickness\":20},\"type\":\"sankey\"}],                        {\"font\":{\"size\":10},\"title\":{\"text\":\"Hiring Options - Scenario 1 - Overview\"},\"template\":{\"data\":{\"histogram2dcontour\":[{\"type\":\"histogram2dcontour\",\"colorbar\":{\"outlinewidth\":0,\"ticks\":\"\"},\"colorscale\":[[0.0,\"#0d0887\"],[0.1111111111111111,\"#46039f\"],[0.2222222222222222,\"#7201a8\"],[0.3333333333333333,\"#9c179e\"],[0.4444444444444444,\"#bd3786\"],[0.5555555555555556,\"#d8576b\"],[0.6666666666666666,\"#ed7953\"],[0.7777777777777778,\"#fb9f3a\"],[0.8888888888888888,\"#fdca26\"],[1.0,\"#f0f921\"]]}],\"choropleth\":[{\"type\":\"choropleth\",\"colorbar\":{\"outlinewidth\":0,\"ticks\":\"\"}}],\"histogram2d\":[{\"type\":\"histogram2d\",\"colorbar\":{\"outlinewidth\":0,\"ticks\":\"\"},\"colorscale\":[[0.0,\"#0d0887\"],[0.1111111111111111,\"#46039f\"],[0.2222222222222222,\"#7201a8\"],[0.3333333333333333,\"#9c179e\"],[0.4444444444444444,\"#bd3786\"],[0.5555555555555556,\"#d8576b\"],[0.6666666666666666,\"#ed7953\"],[0.7777777777777778,\"#fb9f3a\"],[0.8888888888888888,\"#fdca26\"],[1.0,\"#f0f921\"]]}],\"heatmap\":[{\"type\":\"heatmap\",\"colorbar\":{\"outlinewidth\":0,\"ticks\":\"\"},\"colorscale\":[[0.0,\"#0d0887\"],[0.1111111111111111,\"#46039f\"],[0.2222222222222222,\"#7201a8\"],[0.3333333333333333,\"#9c179e\"],[0.4444444444444444,\"#bd3786\"],[0.5555555555555556,\"#d8576b\"],[0.6666666666666666,\"#ed7953\"],[0.7777777777777778,\"#fb9f3a\"],[0.8888888888888888,\"#fdca26\"],[1.0,\"#f0f921\"]]}],\"heatmapgl\":[{\"type\":\"heatmapgl\",\"colorbar\":{\"outlinewidth\":0,\"ticks\":\"\"},\"colorscale\":[[0.0,\"#0d0887\"],[0.1111111111111111,\"#46039f\"],[0.2222222222222222,\"#7201a8\"],[0.3333333333333333,\"#9c179e\"],[0.4444444444444444,\"#bd3786\"],[0.5555555555555556,\"#d8576b\"],[0.6666666666666666,\"#ed7953\"],[0.7777777777777778,\"#fb9f3a\"],[0.8888888888888888,\"#fdca26\"],[1.0,\"#f0f921\"]]}],\"contourcarpet\":[{\"type\":\"contourcarpet\",\"colorbar\":{\"outlinewidth\":0,\"ticks\":\"\"}}],\"contour\":[{\"type\":\"contour\",\"colorbar\":{\"outlinewidth\":0,\"ticks\":\"\"},\"colorscale\":[[0.0,\"#0d0887\"],[0.1111111111111111,\"#46039f\"],[0.2222222222222222,\"#7201a8\"],[0.3333333333333333,\"#9c179e\"],[0.4444444444444444,\"#bd3786\"],[0.5555555555555556,\"#d8576b\"],[0.6666666666666666,\"#ed7953\"],[0.7777777777777778,\"#fb9f3a\"],[0.8888888888888888,\"#fdca26\"],[1.0,\"#f0f921\"]]}],\"surface\":[{\"type\":\"surface\",\"colorbar\":{\"outlinewidth\":0,\"ticks\":\"\"},\"colorscale\":[[0.0,\"#0d0887\"],[0.1111111111111111,\"#46039f\"],[0.2222222222222222,\"#7201a8\"],[0.3333333333333333,\"#9c179e\"],[0.4444444444444444,\"#bd3786\"],[0.5555555555555556,\"#d8576b\"],[0.6666666666666666,\"#ed7953\"],[0.7777777777777778,\"#fb9f3a\"],[0.8888888888888888,\"#fdca26\"],[1.0,\"#f0f921\"]]}],\"mesh3d\":[{\"type\":\"mesh3d\",\"colorbar\":{\"outlinewidth\":0,\"ticks\":\"\"}}],\"scatter\":[{\"fillpattern\":{\"fillmode\":\"overlay\",\"size\":10,\"solidity\":0.2},\"type\":\"scatter\"}],\"parcoords\":[{\"type\":\"parcoords\",\"line\":{\"colorbar\":{\"outlinewidth\":0,\"ticks\":\"\"}}}],\"scatterpolargl\":[{\"type\":\"scatterpolargl\",\"marker\":{\"colorbar\":{\"outlinewidth\":0,\"ticks\":\"\"}}}],\"bar\":[{\"error_x\":{\"color\":\"#2a3f5f\"},\"error_y\":{\"color\":\"#2a3f5f\"},\"marker\":{\"line\":{\"color\":\"#E5ECF6\",\"width\":0.5},\"pattern\":{\"fillmode\":\"overlay\",\"size\":10,\"solidity\":0.2}},\"type\":\"bar\"}],\"scattergeo\":[{\"type\":\"scattergeo\",\"marker\":{\"colorbar\":{\"outlinewidth\":0,\"ticks\":\"\"}}}],\"scatterpolar\":[{\"type\":\"scatterpolar\",\"marker\":{\"colorbar\":{\"outlinewidth\":0,\"ticks\":\"\"}}}],\"histogram\":[{\"marker\":{\"pattern\":{\"fillmode\":\"overlay\",\"size\":10,\"solidity\":0.2}},\"type\":\"histogram\"}],\"scattergl\":[{\"type\":\"scattergl\",\"marker\":{\"colorbar\":{\"outlinewidth\":0,\"ticks\":\"\"}}}],\"scatter3d\":[{\"type\":\"scatter3d\",\"line\":{\"colorbar\":{\"outlinewidth\":0,\"ticks\":\"\"}},\"marker\":{\"colorbar\":{\"outlinewidth\":0,\"ticks\":\"\"}}}],\"scattermapbox\":[{\"type\":\"scattermapbox\",\"marker\":{\"colorbar\":{\"outlinewidth\":0,\"ticks\":\"\"}}}],\"scatterternary\":[{\"type\":\"scatterternary\",\"marker\":{\"colorbar\":{\"outlinewidth\":0,\"ticks\":\"\"}}}],\"scattercarpet\":[{\"type\":\"scattercarpet\",\"marker\":{\"colorbar\":{\"outlinewidth\":0,\"ticks\":\"\"}}}],\"carpet\":[{\"aaxis\":{\"endlinecolor\":\"#2a3f5f\",\"gridcolor\":\"white\",\"linecolor\":\"white\",\"minorgridcolor\":\"white\",\"startlinecolor\":\"#2a3f5f\"},\"baxis\":{\"endlinecolor\":\"#2a3f5f\",\"gridcolor\":\"white\",\"linecolor\":\"white\",\"minorgridcolor\":\"white\",\"startlinecolor\":\"#2a3f5f\"},\"type\":\"carpet\"}],\"table\":[{\"cells\":{\"fill\":{\"color\":\"#EBF0F8\"},\"line\":{\"color\":\"white\"}},\"header\":{\"fill\":{\"color\":\"#C8D4E3\"},\"line\":{\"color\":\"white\"}},\"type\":\"table\"}],\"barpolar\":[{\"marker\":{\"line\":{\"color\":\"#E5ECF6\",\"width\":0.5},\"pattern\":{\"fillmode\":\"overlay\",\"size\":10,\"solidity\":0.2}},\"type\":\"barpolar\"}],\"pie\":[{\"automargin\":true,\"type\":\"pie\"}]},\"layout\":{\"autotypenumbers\":\"strict\",\"colorway\":[\"#636efa\",\"#EF553B\",\"#00cc96\",\"#ab63fa\",\"#FFA15A\",\"#19d3f3\",\"#FF6692\",\"#B6E880\",\"#FF97FF\",\"#FECB52\"],\"font\":{\"color\":\"#2a3f5f\"},\"hovermode\":\"closest\",\"hoverlabel\":{\"align\":\"left\"},\"paper_bgcolor\":\"white\",\"plot_bgcolor\":\"#E5ECF6\",\"polar\":{\"bgcolor\":\"#E5ECF6\",\"angularaxis\":{\"gridcolor\":\"white\",\"linecolor\":\"white\",\"ticks\":\"\"},\"radialaxis\":{\"gridcolor\":\"white\",\"linecolor\":\"white\",\"ticks\":\"\"}},\"ternary\":{\"bgcolor\":\"#E5ECF6\",\"aaxis\":{\"gridcolor\":\"white\",\"linecolor\":\"white\",\"ticks\":\"\"},\"baxis\":{\"gridcolor\":\"white\",\"linecolor\":\"white\",\"ticks\":\"\"},\"caxis\":{\"gridcolor\":\"white\",\"linecolor\":\"white\",\"ticks\":\"\"}},\"coloraxis\":{\"colorbar\":{\"outlinewidth\":0,\"ticks\":\"\"}},\"colorscale\":{\"sequential\":[[0.0,\"#0d0887\"],[0.1111111111111111,\"#46039f\"],[0.2222222222222222,\"#7201a8\"],[0.3333333333333333,\"#9c179e\"],[0.4444444444444444,\"#bd3786\"],[0.5555555555555556,\"#d8576b\"],[0.6666666666666666,\"#ed7953\"],[0.7777777777777778,\"#fb9f3a\"],[0.8888888888888888,\"#fdca26\"],[1.0,\"#f0f921\"]],\"sequentialminus\":[[0.0,\"#0d0887\"],[0.1111111111111111,\"#46039f\"],[0.2222222222222222,\"#7201a8\"],[0.3333333333333333,\"#9c179e\"],[0.4444444444444444,\"#bd3786\"],[0.5555555555555556,\"#d8576b\"],[0.6666666666666666,\"#ed7953\"],[0.7777777777777778,\"#fb9f3a\"],[0.8888888888888888,\"#fdca26\"],[1.0,\"#f0f921\"]],\"diverging\":[[0,\"#8e0152\"],[0.1,\"#c51b7d\"],[0.2,\"#de77ae\"],[0.3,\"#f1b6da\"],[0.4,\"#fde0ef\"],[0.5,\"#f7f7f7\"],[0.6,\"#e6f5d0\"],[0.7,\"#b8e186\"],[0.8,\"#7fbc41\"],[0.9,\"#4d9221\"],[1,\"#276419\"]]},\"xaxis\":{\"gridcolor\":\"white\",\"linecolor\":\"white\",\"ticks\":\"\",\"title\":{\"standoff\":15},\"zerolinecolor\":\"white\",\"automargin\":true,\"zerolinewidth\":2},\"yaxis\":{\"gridcolor\":\"white\",\"linecolor\":\"white\",\"ticks\":\"\",\"title\":{\"standoff\":15},\"zerolinecolor\":\"white\",\"automargin\":true,\"zerolinewidth\":2},\"scene\":{\"xaxis\":{\"backgroundcolor\":\"#E5ECF6\",\"gridcolor\":\"white\",\"linecolor\":\"white\",\"showbackground\":true,\"ticks\":\"\",\"zerolinecolor\":\"white\",\"gridwidth\":2},\"yaxis\":{\"backgroundcolor\":\"#E5ECF6\",\"gridcolor\":\"white\",\"linecolor\":\"white\",\"showbackground\":true,\"ticks\":\"\",\"zerolinecolor\":\"white\",\"gridwidth\":2},\"zaxis\":{\"backgroundcolor\":\"#E5ECF6\",\"gridcolor\":\"white\",\"linecolor\":\"white\",\"showbackground\":true,\"ticks\":\"\",\"zerolinecolor\":\"white\",\"gridwidth\":2}},\"shapedefaults\":{\"line\":{\"color\":\"#2a3f5f\"}},\"annotationdefaults\":{\"arrowcolor\":\"#2a3f5f\",\"arrowhead\":0,\"arrowwidth\":1},\"geo\":{\"bgcolor\":\"white\",\"landcolor\":\"#E5ECF6\",\"subunitcolor\":\"white\",\"showland\":true,\"showlakes\":true,\"lakecolor\":\"white\"},\"title\":{\"x\":0.05},\"mapbox\":{\"style\":\"light\"}}}},                        {\"responsive\": true}                    ).then(function(){\n",
       "                            \n",
       "var gd = document.getElementById('3285cfcc-c998-450a-90c0-26c64f40a4f6');\n",
       "var x = new MutationObserver(function (mutations, observer) {{\n",
       "        var display = window.getComputedStyle(gd).display;\n",
       "        if (!display || display === 'none') {{\n",
       "            console.log([gd, 'removed!']);\n",
       "            Plotly.purge(gd);\n",
       "            observer.disconnect();\n",
       "        }}\n",
       "}});\n",
       "\n",
       "// Listen for the removal of the full notebook cells\n",
       "var notebookContainer = gd.closest('#notebook-container');\n",
       "if (notebookContainer) {{\n",
       "    x.observe(notebookContainer, {childList: true});\n",
       "}}\n",
       "\n",
       "// Listen for the clearing of the current output cell\n",
       "var outputEl = gd.closest('.output');\n",
       "if (outputEl) {{\n",
       "    x.observe(outputEl, {childList: true});\n",
       "}}\n",
       "\n",
       "                        })                };                });            </script>        </div>"
      ]
     },
     "metadata": {},
     "output_type": "display_data"
    }
   ],
   "source": [
    "import plotly.graph_objects as go\n",
    "\n",
    "# Initialize lists to store the source, target, and value data for the Sankey diagram\n",
    "sources = []\n",
    "targets = []\n",
    "values = []\n",
    "\n",
    "# Iterate over the cells in the dataframe\n",
    "for i, row in df_scenario1.iterrows():\n",
    "    for j, value in row.items():  # Use row.items() instead of row.iteritems()\n",
    "        # Add the data to the lists\n",
    "        sources.append(i)\n",
    "        targets.append(value)\n",
    "        values.append(1)  # assuming each pair occurs only once\n",
    "\n",
    "# Create a dictionary that maps each unique label to a unique index\n",
    "labels = list(set(sources + targets))\n",
    "label_to_index = {label: index for index, label in enumerate(labels)}\n",
    "\n",
    "# Convert the sources and targets to indices\n",
    "source_indices = [label_to_index[source] for source in sources]\n",
    "target_indices = [label_to_index[target] for target in targets]\n",
    "\n",
    "# Define the source-target pairs\n",
    "link = dict(\n",
    "  arrowlen=15,\n",
    "  source = source_indices,\n",
    "  target = target_indices,\n",
    "  value = values\n",
    ")\n",
    "\n",
    "# Define the node labels\n",
    "node = dict(\n",
    "  label = labels,\n",
    "  pad = 15,  # 15 pixel padding\n",
    "  thickness = 20  # 20 pixel thickness\n",
    ")\n",
    "\n",
    "# Create the Sankey diagram object\n",
    "data = go.Sankey(link = link, node = node)\n",
    "\n",
    "# Create the layout\n",
    "layout =  dict(title = \"Hiring Options - Scenario 1 - Overview\",\n",
    "    font = dict(size = 10))\n",
    "\n",
    "# Create the figure\n",
    "fig = go.Figure(data=[data], layout=layout)\n",
    "\n",
    "# Plot the figure\n",
    "fig.show()"
   ]
  },
  {
   "cell_type": "markdown",
   "id": "15a2f2c5",
   "metadata": {},
   "source": [
    "## Hiring options in Detail - Position and Candidate"
   ]
  },
  {
   "cell_type": "code",
   "execution_count": 81,
   "id": "7ec3d6cb",
   "metadata": {
    "scrolled": false
   },
   "outputs": [
    {
     "data": {
      "application/vnd.plotly.v1+json": {
       "config": {
        "plotlyServerURL": "https://plot.ly"
       },
       "data": [
        {
         "link": {
          "arrowlen": 15,
          "source": [
           0,
           0,
           1,
           1,
           2,
           3,
           4
          ],
          "target": [
           5,
           6,
           7,
           8,
           8,
           6,
           7
          ],
          "value": [
           1,
           1,
           1,
           1,
           1,
           1,
           1
          ]
         },
         "node": {
          "label": [
           "Python Programmer",
           "AI Engineer",
           "Web Designer",
           "Database Administrator",
           "Systems Engineer",
           "Ciara",
           "Jane",
           "Jim",
           "Anita"
          ],
          "pad": 30,
          "thickness": 15
         },
         "type": "sankey"
        }
       ],
       "layout": {
        "font": {
         "size": 15
        },
        "template": {
         "data": {
          "bar": [
           {
            "error_x": {
             "color": "#2a3f5f"
            },
            "error_y": {
             "color": "#2a3f5f"
            },
            "marker": {
             "line": {
              "color": "#E5ECF6",
              "width": 0.5
             },
             "pattern": {
              "fillmode": "overlay",
              "size": 10,
              "solidity": 0.2
             }
            },
            "type": "bar"
           }
          ],
          "barpolar": [
           {
            "marker": {
             "line": {
              "color": "#E5ECF6",
              "width": 0.5
             },
             "pattern": {
              "fillmode": "overlay",
              "size": 10,
              "solidity": 0.2
             }
            },
            "type": "barpolar"
           }
          ],
          "carpet": [
           {
            "aaxis": {
             "endlinecolor": "#2a3f5f",
             "gridcolor": "white",
             "linecolor": "white",
             "minorgridcolor": "white",
             "startlinecolor": "#2a3f5f"
            },
            "baxis": {
             "endlinecolor": "#2a3f5f",
             "gridcolor": "white",
             "linecolor": "white",
             "minorgridcolor": "white",
             "startlinecolor": "#2a3f5f"
            },
            "type": "carpet"
           }
          ],
          "choropleth": [
           {
            "colorbar": {
             "outlinewidth": 0,
             "ticks": ""
            },
            "type": "choropleth"
           }
          ],
          "contour": [
           {
            "colorbar": {
             "outlinewidth": 0,
             "ticks": ""
            },
            "colorscale": [
             [
              0,
              "#0d0887"
             ],
             [
              0.1111111111111111,
              "#46039f"
             ],
             [
              0.2222222222222222,
              "#7201a8"
             ],
             [
              0.3333333333333333,
              "#9c179e"
             ],
             [
              0.4444444444444444,
              "#bd3786"
             ],
             [
              0.5555555555555556,
              "#d8576b"
             ],
             [
              0.6666666666666666,
              "#ed7953"
             ],
             [
              0.7777777777777778,
              "#fb9f3a"
             ],
             [
              0.8888888888888888,
              "#fdca26"
             ],
             [
              1,
              "#f0f921"
             ]
            ],
            "type": "contour"
           }
          ],
          "contourcarpet": [
           {
            "colorbar": {
             "outlinewidth": 0,
             "ticks": ""
            },
            "type": "contourcarpet"
           }
          ],
          "heatmap": [
           {
            "colorbar": {
             "outlinewidth": 0,
             "ticks": ""
            },
            "colorscale": [
             [
              0,
              "#0d0887"
             ],
             [
              0.1111111111111111,
              "#46039f"
             ],
             [
              0.2222222222222222,
              "#7201a8"
             ],
             [
              0.3333333333333333,
              "#9c179e"
             ],
             [
              0.4444444444444444,
              "#bd3786"
             ],
             [
              0.5555555555555556,
              "#d8576b"
             ],
             [
              0.6666666666666666,
              "#ed7953"
             ],
             [
              0.7777777777777778,
              "#fb9f3a"
             ],
             [
              0.8888888888888888,
              "#fdca26"
             ],
             [
              1,
              "#f0f921"
             ]
            ],
            "type": "heatmap"
           }
          ],
          "heatmapgl": [
           {
            "colorbar": {
             "outlinewidth": 0,
             "ticks": ""
            },
            "colorscale": [
             [
              0,
              "#0d0887"
             ],
             [
              0.1111111111111111,
              "#46039f"
             ],
             [
              0.2222222222222222,
              "#7201a8"
             ],
             [
              0.3333333333333333,
              "#9c179e"
             ],
             [
              0.4444444444444444,
              "#bd3786"
             ],
             [
              0.5555555555555556,
              "#d8576b"
             ],
             [
              0.6666666666666666,
              "#ed7953"
             ],
             [
              0.7777777777777778,
              "#fb9f3a"
             ],
             [
              0.8888888888888888,
              "#fdca26"
             ],
             [
              1,
              "#f0f921"
             ]
            ],
            "type": "heatmapgl"
           }
          ],
          "histogram": [
           {
            "marker": {
             "pattern": {
              "fillmode": "overlay",
              "size": 10,
              "solidity": 0.2
             }
            },
            "type": "histogram"
           }
          ],
          "histogram2d": [
           {
            "colorbar": {
             "outlinewidth": 0,
             "ticks": ""
            },
            "colorscale": [
             [
              0,
              "#0d0887"
             ],
             [
              0.1111111111111111,
              "#46039f"
             ],
             [
              0.2222222222222222,
              "#7201a8"
             ],
             [
              0.3333333333333333,
              "#9c179e"
             ],
             [
              0.4444444444444444,
              "#bd3786"
             ],
             [
              0.5555555555555556,
              "#d8576b"
             ],
             [
              0.6666666666666666,
              "#ed7953"
             ],
             [
              0.7777777777777778,
              "#fb9f3a"
             ],
             [
              0.8888888888888888,
              "#fdca26"
             ],
             [
              1,
              "#f0f921"
             ]
            ],
            "type": "histogram2d"
           }
          ],
          "histogram2dcontour": [
           {
            "colorbar": {
             "outlinewidth": 0,
             "ticks": ""
            },
            "colorscale": [
             [
              0,
              "#0d0887"
             ],
             [
              0.1111111111111111,
              "#46039f"
             ],
             [
              0.2222222222222222,
              "#7201a8"
             ],
             [
              0.3333333333333333,
              "#9c179e"
             ],
             [
              0.4444444444444444,
              "#bd3786"
             ],
             [
              0.5555555555555556,
              "#d8576b"
             ],
             [
              0.6666666666666666,
              "#ed7953"
             ],
             [
              0.7777777777777778,
              "#fb9f3a"
             ],
             [
              0.8888888888888888,
              "#fdca26"
             ],
             [
              1,
              "#f0f921"
             ]
            ],
            "type": "histogram2dcontour"
           }
          ],
          "mesh3d": [
           {
            "colorbar": {
             "outlinewidth": 0,
             "ticks": ""
            },
            "type": "mesh3d"
           }
          ],
          "parcoords": [
           {
            "line": {
             "colorbar": {
              "outlinewidth": 0,
              "ticks": ""
             }
            },
            "type": "parcoords"
           }
          ],
          "pie": [
           {
            "automargin": true,
            "type": "pie"
           }
          ],
          "scatter": [
           {
            "fillpattern": {
             "fillmode": "overlay",
             "size": 10,
             "solidity": 0.2
            },
            "type": "scatter"
           }
          ],
          "scatter3d": [
           {
            "line": {
             "colorbar": {
              "outlinewidth": 0,
              "ticks": ""
             }
            },
            "marker": {
             "colorbar": {
              "outlinewidth": 0,
              "ticks": ""
             }
            },
            "type": "scatter3d"
           }
          ],
          "scattercarpet": [
           {
            "marker": {
             "colorbar": {
              "outlinewidth": 0,
              "ticks": ""
             }
            },
            "type": "scattercarpet"
           }
          ],
          "scattergeo": [
           {
            "marker": {
             "colorbar": {
              "outlinewidth": 0,
              "ticks": ""
             }
            },
            "type": "scattergeo"
           }
          ],
          "scattergl": [
           {
            "marker": {
             "colorbar": {
              "outlinewidth": 0,
              "ticks": ""
             }
            },
            "type": "scattergl"
           }
          ],
          "scattermapbox": [
           {
            "marker": {
             "colorbar": {
              "outlinewidth": 0,
              "ticks": ""
             }
            },
            "type": "scattermapbox"
           }
          ],
          "scatterpolar": [
           {
            "marker": {
             "colorbar": {
              "outlinewidth": 0,
              "ticks": ""
             }
            },
            "type": "scatterpolar"
           }
          ],
          "scatterpolargl": [
           {
            "marker": {
             "colorbar": {
              "outlinewidth": 0,
              "ticks": ""
             }
            },
            "type": "scatterpolargl"
           }
          ],
          "scatterternary": [
           {
            "marker": {
             "colorbar": {
              "outlinewidth": 0,
              "ticks": ""
             }
            },
            "type": "scatterternary"
           }
          ],
          "surface": [
           {
            "colorbar": {
             "outlinewidth": 0,
             "ticks": ""
            },
            "colorscale": [
             [
              0,
              "#0d0887"
             ],
             [
              0.1111111111111111,
              "#46039f"
             ],
             [
              0.2222222222222222,
              "#7201a8"
             ],
             [
              0.3333333333333333,
              "#9c179e"
             ],
             [
              0.4444444444444444,
              "#bd3786"
             ],
             [
              0.5555555555555556,
              "#d8576b"
             ],
             [
              0.6666666666666666,
              "#ed7953"
             ],
             [
              0.7777777777777778,
              "#fb9f3a"
             ],
             [
              0.8888888888888888,
              "#fdca26"
             ],
             [
              1,
              "#f0f921"
             ]
            ],
            "type": "surface"
           }
          ],
          "table": [
           {
            "cells": {
             "fill": {
              "color": "#EBF0F8"
             },
             "line": {
              "color": "white"
             }
            },
            "header": {
             "fill": {
              "color": "#C8D4E3"
             },
             "line": {
              "color": "white"
             }
            },
            "type": "table"
           }
          ]
         },
         "layout": {
          "annotationdefaults": {
           "arrowcolor": "#2a3f5f",
           "arrowhead": 0,
           "arrowwidth": 1
          },
          "autotypenumbers": "strict",
          "coloraxis": {
           "colorbar": {
            "outlinewidth": 0,
            "ticks": ""
           }
          },
          "colorscale": {
           "diverging": [
            [
             0,
             "#8e0152"
            ],
            [
             0.1,
             "#c51b7d"
            ],
            [
             0.2,
             "#de77ae"
            ],
            [
             0.3,
             "#f1b6da"
            ],
            [
             0.4,
             "#fde0ef"
            ],
            [
             0.5,
             "#f7f7f7"
            ],
            [
             0.6,
             "#e6f5d0"
            ],
            [
             0.7,
             "#b8e186"
            ],
            [
             0.8,
             "#7fbc41"
            ],
            [
             0.9,
             "#4d9221"
            ],
            [
             1,
             "#276419"
            ]
           ],
           "sequential": [
            [
             0,
             "#0d0887"
            ],
            [
             0.1111111111111111,
             "#46039f"
            ],
            [
             0.2222222222222222,
             "#7201a8"
            ],
            [
             0.3333333333333333,
             "#9c179e"
            ],
            [
             0.4444444444444444,
             "#bd3786"
            ],
            [
             0.5555555555555556,
             "#d8576b"
            ],
            [
             0.6666666666666666,
             "#ed7953"
            ],
            [
             0.7777777777777778,
             "#fb9f3a"
            ],
            [
             0.8888888888888888,
             "#fdca26"
            ],
            [
             1,
             "#f0f921"
            ]
           ],
           "sequentialminus": [
            [
             0,
             "#0d0887"
            ],
            [
             0.1111111111111111,
             "#46039f"
            ],
            [
             0.2222222222222222,
             "#7201a8"
            ],
            [
             0.3333333333333333,
             "#9c179e"
            ],
            [
             0.4444444444444444,
             "#bd3786"
            ],
            [
             0.5555555555555556,
             "#d8576b"
            ],
            [
             0.6666666666666666,
             "#ed7953"
            ],
            [
             0.7777777777777778,
             "#fb9f3a"
            ],
            [
             0.8888888888888888,
             "#fdca26"
            ],
            [
             1,
             "#f0f921"
            ]
           ]
          },
          "colorway": [
           "#636efa",
           "#EF553B",
           "#00cc96",
           "#ab63fa",
           "#FFA15A",
           "#19d3f3",
           "#FF6692",
           "#B6E880",
           "#FF97FF",
           "#FECB52"
          ],
          "font": {
           "color": "#2a3f5f"
          },
          "geo": {
           "bgcolor": "white",
           "lakecolor": "white",
           "landcolor": "#E5ECF6",
           "showlakes": true,
           "showland": true,
           "subunitcolor": "white"
          },
          "hoverlabel": {
           "align": "left"
          },
          "hovermode": "closest",
          "mapbox": {
           "style": "light"
          },
          "paper_bgcolor": "white",
          "plot_bgcolor": "#E5ECF6",
          "polar": {
           "angularaxis": {
            "gridcolor": "white",
            "linecolor": "white",
            "ticks": ""
           },
           "bgcolor": "#E5ECF6",
           "radialaxis": {
            "gridcolor": "white",
            "linecolor": "white",
            "ticks": ""
           }
          },
          "scene": {
           "xaxis": {
            "backgroundcolor": "#E5ECF6",
            "gridcolor": "white",
            "gridwidth": 2,
            "linecolor": "white",
            "showbackground": true,
            "ticks": "",
            "zerolinecolor": "white"
           },
           "yaxis": {
            "backgroundcolor": "#E5ECF6",
            "gridcolor": "white",
            "gridwidth": 2,
            "linecolor": "white",
            "showbackground": true,
            "ticks": "",
            "zerolinecolor": "white"
           },
           "zaxis": {
            "backgroundcolor": "#E5ECF6",
            "gridcolor": "white",
            "gridwidth": 2,
            "linecolor": "white",
            "showbackground": true,
            "ticks": "",
            "zerolinecolor": "white"
           }
          },
          "shapedefaults": {
           "line": {
            "color": "#2a3f5f"
           }
          },
          "ternary": {
           "aaxis": {
            "gridcolor": "white",
            "linecolor": "white",
            "ticks": ""
           },
           "baxis": {
            "gridcolor": "white",
            "linecolor": "white",
            "ticks": ""
           },
           "bgcolor": "#E5ECF6",
           "caxis": {
            "gridcolor": "white",
            "linecolor": "white",
            "ticks": ""
           }
          },
          "title": {
           "x": 0.05
          },
          "xaxis": {
           "automargin": true,
           "gridcolor": "white",
           "linecolor": "white",
           "ticks": "",
           "title": {
            "standoff": 15
           },
           "zerolinecolor": "white",
           "zerolinewidth": 2
          },
          "yaxis": {
           "automargin": true,
           "gridcolor": "white",
           "linecolor": "white",
           "ticks": "",
           "title": {
            "standoff": 15
           },
           "zerolinecolor": "white",
           "zerolinewidth": 2
          }
         }
        },
        "title": {
         "text": "Hiring Solution 1 - Positions and Candidates"
        }
       }
      },
      "text/html": [
       "<div>                            <div id=\"d5f6b07c-4a17-4b33-b799-b9fe8606d853\" class=\"plotly-graph-div\" style=\"height:525px; width:100%;\"></div>            <script type=\"text/javascript\">                require([\"plotly\"], function(Plotly) {                    window.PLOTLYENV=window.PLOTLYENV || {};                                    if (document.getElementById(\"d5f6b07c-4a17-4b33-b799-b9fe8606d853\")) {                    Plotly.newPlot(                        \"d5f6b07c-4a17-4b33-b799-b9fe8606d853\",                        [{\"link\":{\"arrowlen\":15,\"source\":[0,0,1,1,2,3,4],\"target\":[5,6,7,8,8,6,7],\"value\":[1,1,1,1,1,1,1]},\"node\":{\"label\":[\"Python Programmer\",\"AI Engineer\",\"Web Designer\",\"Database Administrator\",\"Systems Engineer\",\"Ciara\",\"Jane\",\"Jim\",\"Anita\"],\"pad\":30,\"thickness\":15},\"type\":\"sankey\"}],                        {\"template\":{\"data\":{\"histogram2dcontour\":[{\"type\":\"histogram2dcontour\",\"colorbar\":{\"outlinewidth\":0,\"ticks\":\"\"},\"colorscale\":[[0.0,\"#0d0887\"],[0.1111111111111111,\"#46039f\"],[0.2222222222222222,\"#7201a8\"],[0.3333333333333333,\"#9c179e\"],[0.4444444444444444,\"#bd3786\"],[0.5555555555555556,\"#d8576b\"],[0.6666666666666666,\"#ed7953\"],[0.7777777777777778,\"#fb9f3a\"],[0.8888888888888888,\"#fdca26\"],[1.0,\"#f0f921\"]]}],\"choropleth\":[{\"type\":\"choropleth\",\"colorbar\":{\"outlinewidth\":0,\"ticks\":\"\"}}],\"histogram2d\":[{\"type\":\"histogram2d\",\"colorbar\":{\"outlinewidth\":0,\"ticks\":\"\"},\"colorscale\":[[0.0,\"#0d0887\"],[0.1111111111111111,\"#46039f\"],[0.2222222222222222,\"#7201a8\"],[0.3333333333333333,\"#9c179e\"],[0.4444444444444444,\"#bd3786\"],[0.5555555555555556,\"#d8576b\"],[0.6666666666666666,\"#ed7953\"],[0.7777777777777778,\"#fb9f3a\"],[0.8888888888888888,\"#fdca26\"],[1.0,\"#f0f921\"]]}],\"heatmap\":[{\"type\":\"heatmap\",\"colorbar\":{\"outlinewidth\":0,\"ticks\":\"\"},\"colorscale\":[[0.0,\"#0d0887\"],[0.1111111111111111,\"#46039f\"],[0.2222222222222222,\"#7201a8\"],[0.3333333333333333,\"#9c179e\"],[0.4444444444444444,\"#bd3786\"],[0.5555555555555556,\"#d8576b\"],[0.6666666666666666,\"#ed7953\"],[0.7777777777777778,\"#fb9f3a\"],[0.8888888888888888,\"#fdca26\"],[1.0,\"#f0f921\"]]}],\"heatmapgl\":[{\"type\":\"heatmapgl\",\"colorbar\":{\"outlinewidth\":0,\"ticks\":\"\"},\"colorscale\":[[0.0,\"#0d0887\"],[0.1111111111111111,\"#46039f\"],[0.2222222222222222,\"#7201a8\"],[0.3333333333333333,\"#9c179e\"],[0.4444444444444444,\"#bd3786\"],[0.5555555555555556,\"#d8576b\"],[0.6666666666666666,\"#ed7953\"],[0.7777777777777778,\"#fb9f3a\"],[0.8888888888888888,\"#fdca26\"],[1.0,\"#f0f921\"]]}],\"contourcarpet\":[{\"type\":\"contourcarpet\",\"colorbar\":{\"outlinewidth\":0,\"ticks\":\"\"}}],\"contour\":[{\"type\":\"contour\",\"colorbar\":{\"outlinewidth\":0,\"ticks\":\"\"},\"colorscale\":[[0.0,\"#0d0887\"],[0.1111111111111111,\"#46039f\"],[0.2222222222222222,\"#7201a8\"],[0.3333333333333333,\"#9c179e\"],[0.4444444444444444,\"#bd3786\"],[0.5555555555555556,\"#d8576b\"],[0.6666666666666666,\"#ed7953\"],[0.7777777777777778,\"#fb9f3a\"],[0.8888888888888888,\"#fdca26\"],[1.0,\"#f0f921\"]]}],\"surface\":[{\"type\":\"surface\",\"colorbar\":{\"outlinewidth\":0,\"ticks\":\"\"},\"colorscale\":[[0.0,\"#0d0887\"],[0.1111111111111111,\"#46039f\"],[0.2222222222222222,\"#7201a8\"],[0.3333333333333333,\"#9c179e\"],[0.4444444444444444,\"#bd3786\"],[0.5555555555555556,\"#d8576b\"],[0.6666666666666666,\"#ed7953\"],[0.7777777777777778,\"#fb9f3a\"],[0.8888888888888888,\"#fdca26\"],[1.0,\"#f0f921\"]]}],\"mesh3d\":[{\"type\":\"mesh3d\",\"colorbar\":{\"outlinewidth\":0,\"ticks\":\"\"}}],\"scatter\":[{\"fillpattern\":{\"fillmode\":\"overlay\",\"size\":10,\"solidity\":0.2},\"type\":\"scatter\"}],\"parcoords\":[{\"type\":\"parcoords\",\"line\":{\"colorbar\":{\"outlinewidth\":0,\"ticks\":\"\"}}}],\"scatterpolargl\":[{\"type\":\"scatterpolargl\",\"marker\":{\"colorbar\":{\"outlinewidth\":0,\"ticks\":\"\"}}}],\"bar\":[{\"error_x\":{\"color\":\"#2a3f5f\"},\"error_y\":{\"color\":\"#2a3f5f\"},\"marker\":{\"line\":{\"color\":\"#E5ECF6\",\"width\":0.5},\"pattern\":{\"fillmode\":\"overlay\",\"size\":10,\"solidity\":0.2}},\"type\":\"bar\"}],\"scattergeo\":[{\"type\":\"scattergeo\",\"marker\":{\"colorbar\":{\"outlinewidth\":0,\"ticks\":\"\"}}}],\"scatterpolar\":[{\"type\":\"scatterpolar\",\"marker\":{\"colorbar\":{\"outlinewidth\":0,\"ticks\":\"\"}}}],\"histogram\":[{\"marker\":{\"pattern\":{\"fillmode\":\"overlay\",\"size\":10,\"solidity\":0.2}},\"type\":\"histogram\"}],\"scattergl\":[{\"type\":\"scattergl\",\"marker\":{\"colorbar\":{\"outlinewidth\":0,\"ticks\":\"\"}}}],\"scatter3d\":[{\"type\":\"scatter3d\",\"line\":{\"colorbar\":{\"outlinewidth\":0,\"ticks\":\"\"}},\"marker\":{\"colorbar\":{\"outlinewidth\":0,\"ticks\":\"\"}}}],\"scattermapbox\":[{\"type\":\"scattermapbox\",\"marker\":{\"colorbar\":{\"outlinewidth\":0,\"ticks\":\"\"}}}],\"scatterternary\":[{\"type\":\"scatterternary\",\"marker\":{\"colorbar\":{\"outlinewidth\":0,\"ticks\":\"\"}}}],\"scattercarpet\":[{\"type\":\"scattercarpet\",\"marker\":{\"colorbar\":{\"outlinewidth\":0,\"ticks\":\"\"}}}],\"carpet\":[{\"aaxis\":{\"endlinecolor\":\"#2a3f5f\",\"gridcolor\":\"white\",\"linecolor\":\"white\",\"minorgridcolor\":\"white\",\"startlinecolor\":\"#2a3f5f\"},\"baxis\":{\"endlinecolor\":\"#2a3f5f\",\"gridcolor\":\"white\",\"linecolor\":\"white\",\"minorgridcolor\":\"white\",\"startlinecolor\":\"#2a3f5f\"},\"type\":\"carpet\"}],\"table\":[{\"cells\":{\"fill\":{\"color\":\"#EBF0F8\"},\"line\":{\"color\":\"white\"}},\"header\":{\"fill\":{\"color\":\"#C8D4E3\"},\"line\":{\"color\":\"white\"}},\"type\":\"table\"}],\"barpolar\":[{\"marker\":{\"line\":{\"color\":\"#E5ECF6\",\"width\":0.5},\"pattern\":{\"fillmode\":\"overlay\",\"size\":10,\"solidity\":0.2}},\"type\":\"barpolar\"}],\"pie\":[{\"automargin\":true,\"type\":\"pie\"}]},\"layout\":{\"autotypenumbers\":\"strict\",\"colorway\":[\"#636efa\",\"#EF553B\",\"#00cc96\",\"#ab63fa\",\"#FFA15A\",\"#19d3f3\",\"#FF6692\",\"#B6E880\",\"#FF97FF\",\"#FECB52\"],\"font\":{\"color\":\"#2a3f5f\"},\"hovermode\":\"closest\",\"hoverlabel\":{\"align\":\"left\"},\"paper_bgcolor\":\"white\",\"plot_bgcolor\":\"#E5ECF6\",\"polar\":{\"bgcolor\":\"#E5ECF6\",\"angularaxis\":{\"gridcolor\":\"white\",\"linecolor\":\"white\",\"ticks\":\"\"},\"radialaxis\":{\"gridcolor\":\"white\",\"linecolor\":\"white\",\"ticks\":\"\"}},\"ternary\":{\"bgcolor\":\"#E5ECF6\",\"aaxis\":{\"gridcolor\":\"white\",\"linecolor\":\"white\",\"ticks\":\"\"},\"baxis\":{\"gridcolor\":\"white\",\"linecolor\":\"white\",\"ticks\":\"\"},\"caxis\":{\"gridcolor\":\"white\",\"linecolor\":\"white\",\"ticks\":\"\"}},\"coloraxis\":{\"colorbar\":{\"outlinewidth\":0,\"ticks\":\"\"}},\"colorscale\":{\"sequential\":[[0.0,\"#0d0887\"],[0.1111111111111111,\"#46039f\"],[0.2222222222222222,\"#7201a8\"],[0.3333333333333333,\"#9c179e\"],[0.4444444444444444,\"#bd3786\"],[0.5555555555555556,\"#d8576b\"],[0.6666666666666666,\"#ed7953\"],[0.7777777777777778,\"#fb9f3a\"],[0.8888888888888888,\"#fdca26\"],[1.0,\"#f0f921\"]],\"sequentialminus\":[[0.0,\"#0d0887\"],[0.1111111111111111,\"#46039f\"],[0.2222222222222222,\"#7201a8\"],[0.3333333333333333,\"#9c179e\"],[0.4444444444444444,\"#bd3786\"],[0.5555555555555556,\"#d8576b\"],[0.6666666666666666,\"#ed7953\"],[0.7777777777777778,\"#fb9f3a\"],[0.8888888888888888,\"#fdca26\"],[1.0,\"#f0f921\"]],\"diverging\":[[0,\"#8e0152\"],[0.1,\"#c51b7d\"],[0.2,\"#de77ae\"],[0.3,\"#f1b6da\"],[0.4,\"#fde0ef\"],[0.5,\"#f7f7f7\"],[0.6,\"#e6f5d0\"],[0.7,\"#b8e186\"],[0.8,\"#7fbc41\"],[0.9,\"#4d9221\"],[1,\"#276419\"]]},\"xaxis\":{\"gridcolor\":\"white\",\"linecolor\":\"white\",\"ticks\":\"\",\"title\":{\"standoff\":15},\"zerolinecolor\":\"white\",\"automargin\":true,\"zerolinewidth\":2},\"yaxis\":{\"gridcolor\":\"white\",\"linecolor\":\"white\",\"ticks\":\"\",\"title\":{\"standoff\":15},\"zerolinecolor\":\"white\",\"automargin\":true,\"zerolinewidth\":2},\"scene\":{\"xaxis\":{\"backgroundcolor\":\"#E5ECF6\",\"gridcolor\":\"white\",\"linecolor\":\"white\",\"showbackground\":true,\"ticks\":\"\",\"zerolinecolor\":\"white\",\"gridwidth\":2},\"yaxis\":{\"backgroundcolor\":\"#E5ECF6\",\"gridcolor\":\"white\",\"linecolor\":\"white\",\"showbackground\":true,\"ticks\":\"\",\"zerolinecolor\":\"white\",\"gridwidth\":2},\"zaxis\":{\"backgroundcolor\":\"#E5ECF6\",\"gridcolor\":\"white\",\"linecolor\":\"white\",\"showbackground\":true,\"ticks\":\"\",\"zerolinecolor\":\"white\",\"gridwidth\":2}},\"shapedefaults\":{\"line\":{\"color\":\"#2a3f5f\"}},\"annotationdefaults\":{\"arrowcolor\":\"#2a3f5f\",\"arrowhead\":0,\"arrowwidth\":1},\"geo\":{\"bgcolor\":\"white\",\"landcolor\":\"#E5ECF6\",\"subunitcolor\":\"white\",\"showland\":true,\"showlakes\":true,\"lakecolor\":\"white\"},\"title\":{\"x\":0.05},\"mapbox\":{\"style\":\"light\"}}},\"title\":{\"text\":\"Hiring Solution 1 - Positions and Candidates\"},\"font\":{\"size\":15}},                        {\"responsive\": true}                    ).then(function(){\n",
       "                            \n",
       "var gd = document.getElementById('d5f6b07c-4a17-4b33-b799-b9fe8606d853');\n",
       "var x = new MutationObserver(function (mutations, observer) {{\n",
       "        var display = window.getComputedStyle(gd).display;\n",
       "        if (!display || display === 'none') {{\n",
       "            console.log([gd, 'removed!']);\n",
       "            Plotly.purge(gd);\n",
       "            observer.disconnect();\n",
       "        }}\n",
       "}});\n",
       "\n",
       "// Listen for the removal of the full notebook cells\n",
       "var notebookContainer = gd.closest('#notebook-container');\n",
       "if (notebookContainer) {{\n",
       "    x.observe(notebookContainer, {childList: true});\n",
       "}}\n",
       "\n",
       "// Listen for the clearing of the current output cell\n",
       "var outputEl = gd.closest('.output');\n",
       "if (outputEl) {{\n",
       "    x.observe(outputEl, {childList: true});\n",
       "}}\n",
       "\n",
       "                        })                };                });            </script>        </div>"
      ]
     },
     "metadata": {},
     "output_type": "display_data"
    },
    {
     "data": {
      "application/vnd.plotly.v1+json": {
       "config": {
        "plotlyServerURL": "https://plot.ly"
       },
       "data": [
        {
         "link": {
          "arrowlen": 15,
          "source": [
           0,
           0,
           1,
           1,
           2,
           3,
           4
          ],
          "target": [
           5,
           6,
           7,
           8,
           8,
           6,
           7
          ],
          "value": [
           1,
           1,
           1,
           1,
           1,
           1,
           1
          ]
         },
         "node": {
          "label": [
           "Python Programmer",
           "AI Engineer",
           "Web Designer",
           "Database Administrator",
           "Systems Engineer",
           "Ciara",
           "Jane",
           "Jim",
           "Juan"
          ],
          "pad": 30,
          "thickness": 15
         },
         "type": "sankey"
        }
       ],
       "layout": {
        "font": {
         "size": 15
        },
        "template": {
         "data": {
          "bar": [
           {
            "error_x": {
             "color": "#2a3f5f"
            },
            "error_y": {
             "color": "#2a3f5f"
            },
            "marker": {
             "line": {
              "color": "#E5ECF6",
              "width": 0.5
             },
             "pattern": {
              "fillmode": "overlay",
              "size": 10,
              "solidity": 0.2
             }
            },
            "type": "bar"
           }
          ],
          "barpolar": [
           {
            "marker": {
             "line": {
              "color": "#E5ECF6",
              "width": 0.5
             },
             "pattern": {
              "fillmode": "overlay",
              "size": 10,
              "solidity": 0.2
             }
            },
            "type": "barpolar"
           }
          ],
          "carpet": [
           {
            "aaxis": {
             "endlinecolor": "#2a3f5f",
             "gridcolor": "white",
             "linecolor": "white",
             "minorgridcolor": "white",
             "startlinecolor": "#2a3f5f"
            },
            "baxis": {
             "endlinecolor": "#2a3f5f",
             "gridcolor": "white",
             "linecolor": "white",
             "minorgridcolor": "white",
             "startlinecolor": "#2a3f5f"
            },
            "type": "carpet"
           }
          ],
          "choropleth": [
           {
            "colorbar": {
             "outlinewidth": 0,
             "ticks": ""
            },
            "type": "choropleth"
           }
          ],
          "contour": [
           {
            "colorbar": {
             "outlinewidth": 0,
             "ticks": ""
            },
            "colorscale": [
             [
              0,
              "#0d0887"
             ],
             [
              0.1111111111111111,
              "#46039f"
             ],
             [
              0.2222222222222222,
              "#7201a8"
             ],
             [
              0.3333333333333333,
              "#9c179e"
             ],
             [
              0.4444444444444444,
              "#bd3786"
             ],
             [
              0.5555555555555556,
              "#d8576b"
             ],
             [
              0.6666666666666666,
              "#ed7953"
             ],
             [
              0.7777777777777778,
              "#fb9f3a"
             ],
             [
              0.8888888888888888,
              "#fdca26"
             ],
             [
              1,
              "#f0f921"
             ]
            ],
            "type": "contour"
           }
          ],
          "contourcarpet": [
           {
            "colorbar": {
             "outlinewidth": 0,
             "ticks": ""
            },
            "type": "contourcarpet"
           }
          ],
          "heatmap": [
           {
            "colorbar": {
             "outlinewidth": 0,
             "ticks": ""
            },
            "colorscale": [
             [
              0,
              "#0d0887"
             ],
             [
              0.1111111111111111,
              "#46039f"
             ],
             [
              0.2222222222222222,
              "#7201a8"
             ],
             [
              0.3333333333333333,
              "#9c179e"
             ],
             [
              0.4444444444444444,
              "#bd3786"
             ],
             [
              0.5555555555555556,
              "#d8576b"
             ],
             [
              0.6666666666666666,
              "#ed7953"
             ],
             [
              0.7777777777777778,
              "#fb9f3a"
             ],
             [
              0.8888888888888888,
              "#fdca26"
             ],
             [
              1,
              "#f0f921"
             ]
            ],
            "type": "heatmap"
           }
          ],
          "heatmapgl": [
           {
            "colorbar": {
             "outlinewidth": 0,
             "ticks": ""
            },
            "colorscale": [
             [
              0,
              "#0d0887"
             ],
             [
              0.1111111111111111,
              "#46039f"
             ],
             [
              0.2222222222222222,
              "#7201a8"
             ],
             [
              0.3333333333333333,
              "#9c179e"
             ],
             [
              0.4444444444444444,
              "#bd3786"
             ],
             [
              0.5555555555555556,
              "#d8576b"
             ],
             [
              0.6666666666666666,
              "#ed7953"
             ],
             [
              0.7777777777777778,
              "#fb9f3a"
             ],
             [
              0.8888888888888888,
              "#fdca26"
             ],
             [
              1,
              "#f0f921"
             ]
            ],
            "type": "heatmapgl"
           }
          ],
          "histogram": [
           {
            "marker": {
             "pattern": {
              "fillmode": "overlay",
              "size": 10,
              "solidity": 0.2
             }
            },
            "type": "histogram"
           }
          ],
          "histogram2d": [
           {
            "colorbar": {
             "outlinewidth": 0,
             "ticks": ""
            },
            "colorscale": [
             [
              0,
              "#0d0887"
             ],
             [
              0.1111111111111111,
              "#46039f"
             ],
             [
              0.2222222222222222,
              "#7201a8"
             ],
             [
              0.3333333333333333,
              "#9c179e"
             ],
             [
              0.4444444444444444,
              "#bd3786"
             ],
             [
              0.5555555555555556,
              "#d8576b"
             ],
             [
              0.6666666666666666,
              "#ed7953"
             ],
             [
              0.7777777777777778,
              "#fb9f3a"
             ],
             [
              0.8888888888888888,
              "#fdca26"
             ],
             [
              1,
              "#f0f921"
             ]
            ],
            "type": "histogram2d"
           }
          ],
          "histogram2dcontour": [
           {
            "colorbar": {
             "outlinewidth": 0,
             "ticks": ""
            },
            "colorscale": [
             [
              0,
              "#0d0887"
             ],
             [
              0.1111111111111111,
              "#46039f"
             ],
             [
              0.2222222222222222,
              "#7201a8"
             ],
             [
              0.3333333333333333,
              "#9c179e"
             ],
             [
              0.4444444444444444,
              "#bd3786"
             ],
             [
              0.5555555555555556,
              "#d8576b"
             ],
             [
              0.6666666666666666,
              "#ed7953"
             ],
             [
              0.7777777777777778,
              "#fb9f3a"
             ],
             [
              0.8888888888888888,
              "#fdca26"
             ],
             [
              1,
              "#f0f921"
             ]
            ],
            "type": "histogram2dcontour"
           }
          ],
          "mesh3d": [
           {
            "colorbar": {
             "outlinewidth": 0,
             "ticks": ""
            },
            "type": "mesh3d"
           }
          ],
          "parcoords": [
           {
            "line": {
             "colorbar": {
              "outlinewidth": 0,
              "ticks": ""
             }
            },
            "type": "parcoords"
           }
          ],
          "pie": [
           {
            "automargin": true,
            "type": "pie"
           }
          ],
          "scatter": [
           {
            "fillpattern": {
             "fillmode": "overlay",
             "size": 10,
             "solidity": 0.2
            },
            "type": "scatter"
           }
          ],
          "scatter3d": [
           {
            "line": {
             "colorbar": {
              "outlinewidth": 0,
              "ticks": ""
             }
            },
            "marker": {
             "colorbar": {
              "outlinewidth": 0,
              "ticks": ""
             }
            },
            "type": "scatter3d"
           }
          ],
          "scattercarpet": [
           {
            "marker": {
             "colorbar": {
              "outlinewidth": 0,
              "ticks": ""
             }
            },
            "type": "scattercarpet"
           }
          ],
          "scattergeo": [
           {
            "marker": {
             "colorbar": {
              "outlinewidth": 0,
              "ticks": ""
             }
            },
            "type": "scattergeo"
           }
          ],
          "scattergl": [
           {
            "marker": {
             "colorbar": {
              "outlinewidth": 0,
              "ticks": ""
             }
            },
            "type": "scattergl"
           }
          ],
          "scattermapbox": [
           {
            "marker": {
             "colorbar": {
              "outlinewidth": 0,
              "ticks": ""
             }
            },
            "type": "scattermapbox"
           }
          ],
          "scatterpolar": [
           {
            "marker": {
             "colorbar": {
              "outlinewidth": 0,
              "ticks": ""
             }
            },
            "type": "scatterpolar"
           }
          ],
          "scatterpolargl": [
           {
            "marker": {
             "colorbar": {
              "outlinewidth": 0,
              "ticks": ""
             }
            },
            "type": "scatterpolargl"
           }
          ],
          "scatterternary": [
           {
            "marker": {
             "colorbar": {
              "outlinewidth": 0,
              "ticks": ""
             }
            },
            "type": "scatterternary"
           }
          ],
          "surface": [
           {
            "colorbar": {
             "outlinewidth": 0,
             "ticks": ""
            },
            "colorscale": [
             [
              0,
              "#0d0887"
             ],
             [
              0.1111111111111111,
              "#46039f"
             ],
             [
              0.2222222222222222,
              "#7201a8"
             ],
             [
              0.3333333333333333,
              "#9c179e"
             ],
             [
              0.4444444444444444,
              "#bd3786"
             ],
             [
              0.5555555555555556,
              "#d8576b"
             ],
             [
              0.6666666666666666,
              "#ed7953"
             ],
             [
              0.7777777777777778,
              "#fb9f3a"
             ],
             [
              0.8888888888888888,
              "#fdca26"
             ],
             [
              1,
              "#f0f921"
             ]
            ],
            "type": "surface"
           }
          ],
          "table": [
           {
            "cells": {
             "fill": {
              "color": "#EBF0F8"
             },
             "line": {
              "color": "white"
             }
            },
            "header": {
             "fill": {
              "color": "#C8D4E3"
             },
             "line": {
              "color": "white"
             }
            },
            "type": "table"
           }
          ]
         },
         "layout": {
          "annotationdefaults": {
           "arrowcolor": "#2a3f5f",
           "arrowhead": 0,
           "arrowwidth": 1
          },
          "autotypenumbers": "strict",
          "coloraxis": {
           "colorbar": {
            "outlinewidth": 0,
            "ticks": ""
           }
          },
          "colorscale": {
           "diverging": [
            [
             0,
             "#8e0152"
            ],
            [
             0.1,
             "#c51b7d"
            ],
            [
             0.2,
             "#de77ae"
            ],
            [
             0.3,
             "#f1b6da"
            ],
            [
             0.4,
             "#fde0ef"
            ],
            [
             0.5,
             "#f7f7f7"
            ],
            [
             0.6,
             "#e6f5d0"
            ],
            [
             0.7,
             "#b8e186"
            ],
            [
             0.8,
             "#7fbc41"
            ],
            [
             0.9,
             "#4d9221"
            ],
            [
             1,
             "#276419"
            ]
           ],
           "sequential": [
            [
             0,
             "#0d0887"
            ],
            [
             0.1111111111111111,
             "#46039f"
            ],
            [
             0.2222222222222222,
             "#7201a8"
            ],
            [
             0.3333333333333333,
             "#9c179e"
            ],
            [
             0.4444444444444444,
             "#bd3786"
            ],
            [
             0.5555555555555556,
             "#d8576b"
            ],
            [
             0.6666666666666666,
             "#ed7953"
            ],
            [
             0.7777777777777778,
             "#fb9f3a"
            ],
            [
             0.8888888888888888,
             "#fdca26"
            ],
            [
             1,
             "#f0f921"
            ]
           ],
           "sequentialminus": [
            [
             0,
             "#0d0887"
            ],
            [
             0.1111111111111111,
             "#46039f"
            ],
            [
             0.2222222222222222,
             "#7201a8"
            ],
            [
             0.3333333333333333,
             "#9c179e"
            ],
            [
             0.4444444444444444,
             "#bd3786"
            ],
            [
             0.5555555555555556,
             "#d8576b"
            ],
            [
             0.6666666666666666,
             "#ed7953"
            ],
            [
             0.7777777777777778,
             "#fb9f3a"
            ],
            [
             0.8888888888888888,
             "#fdca26"
            ],
            [
             1,
             "#f0f921"
            ]
           ]
          },
          "colorway": [
           "#636efa",
           "#EF553B",
           "#00cc96",
           "#ab63fa",
           "#FFA15A",
           "#19d3f3",
           "#FF6692",
           "#B6E880",
           "#FF97FF",
           "#FECB52"
          ],
          "font": {
           "color": "#2a3f5f"
          },
          "geo": {
           "bgcolor": "white",
           "lakecolor": "white",
           "landcolor": "#E5ECF6",
           "showlakes": true,
           "showland": true,
           "subunitcolor": "white"
          },
          "hoverlabel": {
           "align": "left"
          },
          "hovermode": "closest",
          "mapbox": {
           "style": "light"
          },
          "paper_bgcolor": "white",
          "plot_bgcolor": "#E5ECF6",
          "polar": {
           "angularaxis": {
            "gridcolor": "white",
            "linecolor": "white",
            "ticks": ""
           },
           "bgcolor": "#E5ECF6",
           "radialaxis": {
            "gridcolor": "white",
            "linecolor": "white",
            "ticks": ""
           }
          },
          "scene": {
           "xaxis": {
            "backgroundcolor": "#E5ECF6",
            "gridcolor": "white",
            "gridwidth": 2,
            "linecolor": "white",
            "showbackground": true,
            "ticks": "",
            "zerolinecolor": "white"
           },
           "yaxis": {
            "backgroundcolor": "#E5ECF6",
            "gridcolor": "white",
            "gridwidth": 2,
            "linecolor": "white",
            "showbackground": true,
            "ticks": "",
            "zerolinecolor": "white"
           },
           "zaxis": {
            "backgroundcolor": "#E5ECF6",
            "gridcolor": "white",
            "gridwidth": 2,
            "linecolor": "white",
            "showbackground": true,
            "ticks": "",
            "zerolinecolor": "white"
           }
          },
          "shapedefaults": {
           "line": {
            "color": "#2a3f5f"
           }
          },
          "ternary": {
           "aaxis": {
            "gridcolor": "white",
            "linecolor": "white",
            "ticks": ""
           },
           "baxis": {
            "gridcolor": "white",
            "linecolor": "white",
            "ticks": ""
           },
           "bgcolor": "#E5ECF6",
           "caxis": {
            "gridcolor": "white",
            "linecolor": "white",
            "ticks": ""
           }
          },
          "title": {
           "x": 0.05
          },
          "xaxis": {
           "automargin": true,
           "gridcolor": "white",
           "linecolor": "white",
           "ticks": "",
           "title": {
            "standoff": 15
           },
           "zerolinecolor": "white",
           "zerolinewidth": 2
          },
          "yaxis": {
           "automargin": true,
           "gridcolor": "white",
           "linecolor": "white",
           "ticks": "",
           "title": {
            "standoff": 15
           },
           "zerolinecolor": "white",
           "zerolinewidth": 2
          }
         }
        },
        "title": {
         "text": "Hiring Solution 2 - Positions and Candidates"
        }
       }
      },
      "text/html": [
       "<div>                            <div id=\"85ffb6f1-a47b-4601-89d0-3cc10b049ada\" class=\"plotly-graph-div\" style=\"height:525px; width:100%;\"></div>            <script type=\"text/javascript\">                require([\"plotly\"], function(Plotly) {                    window.PLOTLYENV=window.PLOTLYENV || {};                                    if (document.getElementById(\"85ffb6f1-a47b-4601-89d0-3cc10b049ada\")) {                    Plotly.newPlot(                        \"85ffb6f1-a47b-4601-89d0-3cc10b049ada\",                        [{\"link\":{\"arrowlen\":15,\"source\":[0,0,1,1,2,3,4],\"target\":[5,6,7,8,8,6,7],\"value\":[1,1,1,1,1,1,1]},\"node\":{\"label\":[\"Python Programmer\",\"AI Engineer\",\"Web Designer\",\"Database Administrator\",\"Systems Engineer\",\"Ciara\",\"Jane\",\"Jim\",\"Juan\"],\"pad\":30,\"thickness\":15},\"type\":\"sankey\"}],                        {\"template\":{\"data\":{\"histogram2dcontour\":[{\"type\":\"histogram2dcontour\",\"colorbar\":{\"outlinewidth\":0,\"ticks\":\"\"},\"colorscale\":[[0.0,\"#0d0887\"],[0.1111111111111111,\"#46039f\"],[0.2222222222222222,\"#7201a8\"],[0.3333333333333333,\"#9c179e\"],[0.4444444444444444,\"#bd3786\"],[0.5555555555555556,\"#d8576b\"],[0.6666666666666666,\"#ed7953\"],[0.7777777777777778,\"#fb9f3a\"],[0.8888888888888888,\"#fdca26\"],[1.0,\"#f0f921\"]]}],\"choropleth\":[{\"type\":\"choropleth\",\"colorbar\":{\"outlinewidth\":0,\"ticks\":\"\"}}],\"histogram2d\":[{\"type\":\"histogram2d\",\"colorbar\":{\"outlinewidth\":0,\"ticks\":\"\"},\"colorscale\":[[0.0,\"#0d0887\"],[0.1111111111111111,\"#46039f\"],[0.2222222222222222,\"#7201a8\"],[0.3333333333333333,\"#9c179e\"],[0.4444444444444444,\"#bd3786\"],[0.5555555555555556,\"#d8576b\"],[0.6666666666666666,\"#ed7953\"],[0.7777777777777778,\"#fb9f3a\"],[0.8888888888888888,\"#fdca26\"],[1.0,\"#f0f921\"]]}],\"heatmap\":[{\"type\":\"heatmap\",\"colorbar\":{\"outlinewidth\":0,\"ticks\":\"\"},\"colorscale\":[[0.0,\"#0d0887\"],[0.1111111111111111,\"#46039f\"],[0.2222222222222222,\"#7201a8\"],[0.3333333333333333,\"#9c179e\"],[0.4444444444444444,\"#bd3786\"],[0.5555555555555556,\"#d8576b\"],[0.6666666666666666,\"#ed7953\"],[0.7777777777777778,\"#fb9f3a\"],[0.8888888888888888,\"#fdca26\"],[1.0,\"#f0f921\"]]}],\"heatmapgl\":[{\"type\":\"heatmapgl\",\"colorbar\":{\"outlinewidth\":0,\"ticks\":\"\"},\"colorscale\":[[0.0,\"#0d0887\"],[0.1111111111111111,\"#46039f\"],[0.2222222222222222,\"#7201a8\"],[0.3333333333333333,\"#9c179e\"],[0.4444444444444444,\"#bd3786\"],[0.5555555555555556,\"#d8576b\"],[0.6666666666666666,\"#ed7953\"],[0.7777777777777778,\"#fb9f3a\"],[0.8888888888888888,\"#fdca26\"],[1.0,\"#f0f921\"]]}],\"contourcarpet\":[{\"type\":\"contourcarpet\",\"colorbar\":{\"outlinewidth\":0,\"ticks\":\"\"}}],\"contour\":[{\"type\":\"contour\",\"colorbar\":{\"outlinewidth\":0,\"ticks\":\"\"},\"colorscale\":[[0.0,\"#0d0887\"],[0.1111111111111111,\"#46039f\"],[0.2222222222222222,\"#7201a8\"],[0.3333333333333333,\"#9c179e\"],[0.4444444444444444,\"#bd3786\"],[0.5555555555555556,\"#d8576b\"],[0.6666666666666666,\"#ed7953\"],[0.7777777777777778,\"#fb9f3a\"],[0.8888888888888888,\"#fdca26\"],[1.0,\"#f0f921\"]]}],\"surface\":[{\"type\":\"surface\",\"colorbar\":{\"outlinewidth\":0,\"ticks\":\"\"},\"colorscale\":[[0.0,\"#0d0887\"],[0.1111111111111111,\"#46039f\"],[0.2222222222222222,\"#7201a8\"],[0.3333333333333333,\"#9c179e\"],[0.4444444444444444,\"#bd3786\"],[0.5555555555555556,\"#d8576b\"],[0.6666666666666666,\"#ed7953\"],[0.7777777777777778,\"#fb9f3a\"],[0.8888888888888888,\"#fdca26\"],[1.0,\"#f0f921\"]]}],\"mesh3d\":[{\"type\":\"mesh3d\",\"colorbar\":{\"outlinewidth\":0,\"ticks\":\"\"}}],\"scatter\":[{\"fillpattern\":{\"fillmode\":\"overlay\",\"size\":10,\"solidity\":0.2},\"type\":\"scatter\"}],\"parcoords\":[{\"type\":\"parcoords\",\"line\":{\"colorbar\":{\"outlinewidth\":0,\"ticks\":\"\"}}}],\"scatterpolargl\":[{\"type\":\"scatterpolargl\",\"marker\":{\"colorbar\":{\"outlinewidth\":0,\"ticks\":\"\"}}}],\"bar\":[{\"error_x\":{\"color\":\"#2a3f5f\"},\"error_y\":{\"color\":\"#2a3f5f\"},\"marker\":{\"line\":{\"color\":\"#E5ECF6\",\"width\":0.5},\"pattern\":{\"fillmode\":\"overlay\",\"size\":10,\"solidity\":0.2}},\"type\":\"bar\"}],\"scattergeo\":[{\"type\":\"scattergeo\",\"marker\":{\"colorbar\":{\"outlinewidth\":0,\"ticks\":\"\"}}}],\"scatterpolar\":[{\"type\":\"scatterpolar\",\"marker\":{\"colorbar\":{\"outlinewidth\":0,\"ticks\":\"\"}}}],\"histogram\":[{\"marker\":{\"pattern\":{\"fillmode\":\"overlay\",\"size\":10,\"solidity\":0.2}},\"type\":\"histogram\"}],\"scattergl\":[{\"type\":\"scattergl\",\"marker\":{\"colorbar\":{\"outlinewidth\":0,\"ticks\":\"\"}}}],\"scatter3d\":[{\"type\":\"scatter3d\",\"line\":{\"colorbar\":{\"outlinewidth\":0,\"ticks\":\"\"}},\"marker\":{\"colorbar\":{\"outlinewidth\":0,\"ticks\":\"\"}}}],\"scattermapbox\":[{\"type\":\"scattermapbox\",\"marker\":{\"colorbar\":{\"outlinewidth\":0,\"ticks\":\"\"}}}],\"scatterternary\":[{\"type\":\"scatterternary\",\"marker\":{\"colorbar\":{\"outlinewidth\":0,\"ticks\":\"\"}}}],\"scattercarpet\":[{\"type\":\"scattercarpet\",\"marker\":{\"colorbar\":{\"outlinewidth\":0,\"ticks\":\"\"}}}],\"carpet\":[{\"aaxis\":{\"endlinecolor\":\"#2a3f5f\",\"gridcolor\":\"white\",\"linecolor\":\"white\",\"minorgridcolor\":\"white\",\"startlinecolor\":\"#2a3f5f\"},\"baxis\":{\"endlinecolor\":\"#2a3f5f\",\"gridcolor\":\"white\",\"linecolor\":\"white\",\"minorgridcolor\":\"white\",\"startlinecolor\":\"#2a3f5f\"},\"type\":\"carpet\"}],\"table\":[{\"cells\":{\"fill\":{\"color\":\"#EBF0F8\"},\"line\":{\"color\":\"white\"}},\"header\":{\"fill\":{\"color\":\"#C8D4E3\"},\"line\":{\"color\":\"white\"}},\"type\":\"table\"}],\"barpolar\":[{\"marker\":{\"line\":{\"color\":\"#E5ECF6\",\"width\":0.5},\"pattern\":{\"fillmode\":\"overlay\",\"size\":10,\"solidity\":0.2}},\"type\":\"barpolar\"}],\"pie\":[{\"automargin\":true,\"type\":\"pie\"}]},\"layout\":{\"autotypenumbers\":\"strict\",\"colorway\":[\"#636efa\",\"#EF553B\",\"#00cc96\",\"#ab63fa\",\"#FFA15A\",\"#19d3f3\",\"#FF6692\",\"#B6E880\",\"#FF97FF\",\"#FECB52\"],\"font\":{\"color\":\"#2a3f5f\"},\"hovermode\":\"closest\",\"hoverlabel\":{\"align\":\"left\"},\"paper_bgcolor\":\"white\",\"plot_bgcolor\":\"#E5ECF6\",\"polar\":{\"bgcolor\":\"#E5ECF6\",\"angularaxis\":{\"gridcolor\":\"white\",\"linecolor\":\"white\",\"ticks\":\"\"},\"radialaxis\":{\"gridcolor\":\"white\",\"linecolor\":\"white\",\"ticks\":\"\"}},\"ternary\":{\"bgcolor\":\"#E5ECF6\",\"aaxis\":{\"gridcolor\":\"white\",\"linecolor\":\"white\",\"ticks\":\"\"},\"baxis\":{\"gridcolor\":\"white\",\"linecolor\":\"white\",\"ticks\":\"\"},\"caxis\":{\"gridcolor\":\"white\",\"linecolor\":\"white\",\"ticks\":\"\"}},\"coloraxis\":{\"colorbar\":{\"outlinewidth\":0,\"ticks\":\"\"}},\"colorscale\":{\"sequential\":[[0.0,\"#0d0887\"],[0.1111111111111111,\"#46039f\"],[0.2222222222222222,\"#7201a8\"],[0.3333333333333333,\"#9c179e\"],[0.4444444444444444,\"#bd3786\"],[0.5555555555555556,\"#d8576b\"],[0.6666666666666666,\"#ed7953\"],[0.7777777777777778,\"#fb9f3a\"],[0.8888888888888888,\"#fdca26\"],[1.0,\"#f0f921\"]],\"sequentialminus\":[[0.0,\"#0d0887\"],[0.1111111111111111,\"#46039f\"],[0.2222222222222222,\"#7201a8\"],[0.3333333333333333,\"#9c179e\"],[0.4444444444444444,\"#bd3786\"],[0.5555555555555556,\"#d8576b\"],[0.6666666666666666,\"#ed7953\"],[0.7777777777777778,\"#fb9f3a\"],[0.8888888888888888,\"#fdca26\"],[1.0,\"#f0f921\"]],\"diverging\":[[0,\"#8e0152\"],[0.1,\"#c51b7d\"],[0.2,\"#de77ae\"],[0.3,\"#f1b6da\"],[0.4,\"#fde0ef\"],[0.5,\"#f7f7f7\"],[0.6,\"#e6f5d0\"],[0.7,\"#b8e186\"],[0.8,\"#7fbc41\"],[0.9,\"#4d9221\"],[1,\"#276419\"]]},\"xaxis\":{\"gridcolor\":\"white\",\"linecolor\":\"white\",\"ticks\":\"\",\"title\":{\"standoff\":15},\"zerolinecolor\":\"white\",\"automargin\":true,\"zerolinewidth\":2},\"yaxis\":{\"gridcolor\":\"white\",\"linecolor\":\"white\",\"ticks\":\"\",\"title\":{\"standoff\":15},\"zerolinecolor\":\"white\",\"automargin\":true,\"zerolinewidth\":2},\"scene\":{\"xaxis\":{\"backgroundcolor\":\"#E5ECF6\",\"gridcolor\":\"white\",\"linecolor\":\"white\",\"showbackground\":true,\"ticks\":\"\",\"zerolinecolor\":\"white\",\"gridwidth\":2},\"yaxis\":{\"backgroundcolor\":\"#E5ECF6\",\"gridcolor\":\"white\",\"linecolor\":\"white\",\"showbackground\":true,\"ticks\":\"\",\"zerolinecolor\":\"white\",\"gridwidth\":2},\"zaxis\":{\"backgroundcolor\":\"#E5ECF6\",\"gridcolor\":\"white\",\"linecolor\":\"white\",\"showbackground\":true,\"ticks\":\"\",\"zerolinecolor\":\"white\",\"gridwidth\":2}},\"shapedefaults\":{\"line\":{\"color\":\"#2a3f5f\"}},\"annotationdefaults\":{\"arrowcolor\":\"#2a3f5f\",\"arrowhead\":0,\"arrowwidth\":1},\"geo\":{\"bgcolor\":\"white\",\"landcolor\":\"#E5ECF6\",\"subunitcolor\":\"white\",\"showland\":true,\"showlakes\":true,\"lakecolor\":\"white\"},\"title\":{\"x\":0.05},\"mapbox\":{\"style\":\"light\"}}},\"title\":{\"text\":\"Hiring Solution 2 - Positions and Candidates\"},\"font\":{\"size\":15}},                        {\"responsive\": true}                    ).then(function(){\n",
       "                            \n",
       "var gd = document.getElementById('85ffb6f1-a47b-4601-89d0-3cc10b049ada');\n",
       "var x = new MutationObserver(function (mutations, observer) {{\n",
       "        var display = window.getComputedStyle(gd).display;\n",
       "        if (!display || display === 'none') {{\n",
       "            console.log([gd, 'removed!']);\n",
       "            Plotly.purge(gd);\n",
       "            observer.disconnect();\n",
       "        }}\n",
       "}});\n",
       "\n",
       "// Listen for the removal of the full notebook cells\n",
       "var notebookContainer = gd.closest('#notebook-container');\n",
       "if (notebookContainer) {{\n",
       "    x.observe(notebookContainer, {childList: true});\n",
       "}}\n",
       "\n",
       "// Listen for the clearing of the current output cell\n",
       "var outputEl = gd.closest('.output');\n",
       "if (outputEl) {{\n",
       "    x.observe(outputEl, {childList: true});\n",
       "}}\n",
       "\n",
       "                        })                };                });            </script>        </div>"
      ]
     },
     "metadata": {},
     "output_type": "display_data"
    }
   ],
   "source": [
    "# Defines the source-target pairs for hiring options\n",
    "link = dict(\n",
    "  arrowlen=15,\n",
    "  source = [0, 0, 1, 1, 2, 3, 4], # Refers to the positions: Python(0,0), AI(1,1), Web(2), DB(3), Sys(4)\n",
    "  target = [5, 6, 7, 8, 8, 6, 7], # Refers to the candidates: Ciara(5), Jane(6), Anita/Juan(7), Jim(8)\n",
    "  value = [1, 1, 1, 1, 1, 1, 1] # Each pair occurs only once\n",
    ")\n",
    "\n",
    "# Defines the node labels for hiring option 1\n",
    "node1 = dict(\n",
    "  label = [\"Python Programmer\", \"AI Engineer\", \"Web Designer\",\"Database Administrator\",\"Systems Engineer\",\n",
    "           \"Ciara\", \"Jane\", \"Jim\", \"Anita\"],\n",
    "  pad = 30,\n",
    "  thickness = 15\n",
    ")\n",
    "\n",
    "# Creates the Sankey diagram object for hiring option 1\n",
    "data1 = go.Sankey(link = link, node = node1)\n",
    "\n",
    "# Creates the figure for hiring option 1\n",
    "fig1 = go.Figure(data=[data1])\n",
    "fig1.update_layout(title_text='Hiring Solution 1 - Positions and Candidates',\n",
    "                  font_size = 15)\n",
    "\n",
    "# Plots the figure for hiring option 1\n",
    "fig1.show()\n",
    "\n",
    "# Defines the node labels for hiring option 2\n",
    "node2 = dict(\n",
    "  label = [\"Python Programmer\", \"AI Engineer\", \"Web Designer\",\"Database Administrator\",\"Systems Engineer\",\n",
    "           \"Ciara\", \"Jane\", \"Jim\", \"Juan\"],\n",
    "  pad = 30,\n",
    "  thickness = 15 \n",
    ")\n",
    "\n",
    "# Creates the Sankey diagram object for hiring option 2\n",
    "data2 = go.Sankey(link = link, node = node2)\n",
    "\n",
    "# Creates the figure for hiring option 2\n",
    "fig2 = go.Figure(data=[data2])\n",
    "fig2.update_layout(title_text=\"Hiring Solution 2 - Positions and Candidates\",\n",
    "                  font_size = 15)\n",
    "\n",
    "# Plots the figure for hiring option 2\n",
    "fig2.show()"
   ]
  },
  {
   "cell_type": "markdown",
   "id": "b635540f",
   "metadata": {},
   "source": [
    "# GUI for Scenario 1 - Visualization Only"
   ]
  },
  {
   "cell_type": "code",
   "execution_count": 187,
   "id": "7ffbb168",
   "metadata": {},
   "outputs": [],
   "source": [
    "import tkinter as tk\n",
    "from tkinter import ttk\n",
    "\n",
    "# Creates a Tkinter window\n",
    "window = tk.Tk()\n",
    "window.geometry(\"600x550\") \n",
    "window.title(\"Hiring Options\")\n",
    "\n",
    "# Create a label for the dropdown menu\n",
    "label = tk.Label(window, text=\"Select a candidate to show if they fit the hiring conditions:\", \n",
    "                 font=(\"Calibri\", 14), fg=\"black\")\n",
    "label.pack(padx=10, pady=10)\n",
    "\n",
    "\n",
    "# Create a dropdown menu with the candidate names\n",
    "candidates = list(hires.keys())\n",
    "candidate_var = tk.StringVar()\n",
    "dropdown = ttk.Combobox(window, textvariable=candidate_var, values=candidates, state=\"readonly\")\n",
    "\n",
    "dropdown.pack()\n",
    "\n",
    "# Create a text box to display the solutions\n",
    "text = tk.Text(window, width=70, height=600, font=(\"Calibri\", 12))\n",
    "text.pack(padx=5, pady=50)\n",
    "\n",
    "# Defines a function to update the text box based on the selected candidate\n",
    "def update_text(event):\n",
    "    # Clear the text box\n",
    "    text.delete(1.0, tk.END)\n",
    " \n",
    "    # Chooses candidate\n",
    "    candidate = candidate_var.get()\n",
    "    \n",
    "    # Keeps track if the candidate was found\n",
    "    found = False\n",
    "    # Loops through the solutions and finds the ones that include the candidate\n",
    "    for i, solution in enumerate(unique_solutions1):\n",
    "        if candidate in solution.values():\n",
    "            # Writes the solution number and the positions\n",
    "            text.insert(tk.END, f\"Solution {i+1}:\\n\")\n",
    "            for position, hire in solution.items():\n",
    "                    text.insert(tk.END, f\"Position {position}: {hire}\\n\")\n",
    "            text.insert(tk.END, \"\\n\")\n",
    "            found = True\n",
    "    # Checks if found is still False\n",
    "    if not found:\n",
    "        # Print the message that there is no solution\n",
    "        text.insert(tk.END, \"There is no hiring solution that respects the conditions and includes this candidate.\" +\n",
    "                   \"\\nPlease, try another one.\")\n",
    "\n",
    "            \n",
    "\n",
    "# Bind the dropdown menu to the update function\n",
    "dropdown.bind(\"<<ComboboxSelected>>\", update_text)\n",
    "\n",
    "# Start the main event loop\n",
    "window.mainloop()"
   ]
  },
  {
   "cell_type": "markdown",
   "id": "d384b612",
   "metadata": {},
   "source": [
    "# Scenario 2 - Visualizations and GUI"
   ]
  },
  {
   "cell_type": "code",
   "execution_count": 82,
   "id": "6748afc4",
   "metadata": {
    "scrolled": false
   },
   "outputs": [
    {
     "data": {
      "text/html": [
       "<div>\n",
       "<style scoped>\n",
       "    .dataframe tbody tr th:only-of-type {\n",
       "        vertical-align: middle;\n",
       "    }\n",
       "\n",
       "    .dataframe tbody tr th {\n",
       "        vertical-align: top;\n",
       "    }\n",
       "\n",
       "    .dataframe thead th {\n",
       "        text-align: right;\n",
       "    }\n",
       "</style>\n",
       "<table border=\"1\" class=\"dataframe\">\n",
       "  <thead>\n",
       "    <tr style=\"text-align: right;\">\n",
       "      <th>Hiring option</th>\n",
       "      <th>AI_1</th>\n",
       "      <th>AI_2</th>\n",
       "      <th>AI_3</th>\n",
       "      <th>Python_1</th>\n",
       "      <th>Python_2</th>\n",
       "      <th>Database</th>\n",
       "      <th>Systems</th>\n",
       "      <th>Web</th>\n",
       "    </tr>\n",
       "  </thead>\n",
       "  <tbody>\n",
       "    <tr>\n",
       "      <th>1</th>\n",
       "      <td>Anita</td>\n",
       "      <td>Jim</td>\n",
       "      <td>Juan</td>\n",
       "      <td>Bruce</td>\n",
       "      <td>Ciara</td>\n",
       "      <td>Jane</td>\n",
       "      <td>Bruce</td>\n",
       "      <td>Juan</td>\n",
       "    </tr>\n",
       "    <tr>\n",
       "      <th>2</th>\n",
       "      <td>Anita</td>\n",
       "      <td>Jim</td>\n",
       "      <td>Juan</td>\n",
       "      <td>Bruce</td>\n",
       "      <td>Ciara</td>\n",
       "      <td>Jane</td>\n",
       "      <td>Bruce</td>\n",
       "      <td>Anita</td>\n",
       "    </tr>\n",
       "    <tr>\n",
       "      <th>3</th>\n",
       "      <td>Anita</td>\n",
       "      <td>Jim</td>\n",
       "      <td>Juan</td>\n",
       "      <td>Bruce</td>\n",
       "      <td>Ciara</td>\n",
       "      <td>Jane</td>\n",
       "      <td>Jim</td>\n",
       "      <td>Juan</td>\n",
       "    </tr>\n",
       "    <tr>\n",
       "      <th>4</th>\n",
       "      <td>Anita</td>\n",
       "      <td>Jim</td>\n",
       "      <td>Juan</td>\n",
       "      <td>Bruce</td>\n",
       "      <td>Ciara</td>\n",
       "      <td>Jane</td>\n",
       "      <td>Jim</td>\n",
       "      <td>Anita</td>\n",
       "    </tr>\n",
       "    <tr>\n",
       "      <th>5</th>\n",
       "      <td>Anita</td>\n",
       "      <td>Jim</td>\n",
       "      <td>Juan</td>\n",
       "      <td>Bruce</td>\n",
       "      <td>Jane</td>\n",
       "      <td>Jane</td>\n",
       "      <td>Bruce</td>\n",
       "      <td>Juan</td>\n",
       "    </tr>\n",
       "    <tr>\n",
       "      <th>...</th>\n",
       "      <td>...</td>\n",
       "      <td>...</td>\n",
       "      <td>...</td>\n",
       "      <td>...</td>\n",
       "      <td>...</td>\n",
       "      <td>...</td>\n",
       "      <td>...</td>\n",
       "      <td>...</td>\n",
       "    </tr>\n",
       "    <tr>\n",
       "      <th>73</th>\n",
       "      <td>Jim</td>\n",
       "      <td>Juan</td>\n",
       "      <td>Peter</td>\n",
       "      <td>Ciara</td>\n",
       "      <td>Peter</td>\n",
       "      <td>Jane</td>\n",
       "      <td>Mary</td>\n",
       "      <td>Mary</td>\n",
       "    </tr>\n",
       "    <tr>\n",
       "      <th>74</th>\n",
       "      <td>Jim</td>\n",
       "      <td>Juan</td>\n",
       "      <td>Peter</td>\n",
       "      <td>Ciara</td>\n",
       "      <td>Peter</td>\n",
       "      <td>Jane</td>\n",
       "      <td>Mary</td>\n",
       "      <td>Juan</td>\n",
       "    </tr>\n",
       "    <tr>\n",
       "      <th>75</th>\n",
       "      <td>Jim</td>\n",
       "      <td>Juan</td>\n",
       "      <td>Peter</td>\n",
       "      <td>Ciara</td>\n",
       "      <td>Peter</td>\n",
       "      <td>Jane</td>\n",
       "      <td>Jim</td>\n",
       "      <td>Anita</td>\n",
       "    </tr>\n",
       "    <tr>\n",
       "      <th>76</th>\n",
       "      <td>Jim</td>\n",
       "      <td>Juan</td>\n",
       "      <td>Peter</td>\n",
       "      <td>Ciara</td>\n",
       "      <td>Peter</td>\n",
       "      <td>Jane</td>\n",
       "      <td>Jim</td>\n",
       "      <td>Mary</td>\n",
       "    </tr>\n",
       "    <tr>\n",
       "      <th>77</th>\n",
       "      <td>Jim</td>\n",
       "      <td>Juan</td>\n",
       "      <td>Peter</td>\n",
       "      <td>Ciara</td>\n",
       "      <td>Peter</td>\n",
       "      <td>Jane</td>\n",
       "      <td>Jim</td>\n",
       "      <td>Juan</td>\n",
       "    </tr>\n",
       "  </tbody>\n",
       "</table>\n",
       "<p>77 rows × 8 columns</p>\n",
       "</div>"
      ],
      "text/plain": [
       "Hiring option   AI_1  AI_2   AI_3 Python_1 Python_2 Database Systems    Web\n",
       "1              Anita   Jim   Juan    Bruce    Ciara     Jane   Bruce   Juan\n",
       "2              Anita   Jim   Juan    Bruce    Ciara     Jane   Bruce  Anita\n",
       "3              Anita   Jim   Juan    Bruce    Ciara     Jane     Jim   Juan\n",
       "4              Anita   Jim   Juan    Bruce    Ciara     Jane     Jim  Anita\n",
       "5              Anita   Jim   Juan    Bruce     Jane     Jane   Bruce   Juan\n",
       "..               ...   ...    ...      ...      ...      ...     ...    ...\n",
       "73               Jim  Juan  Peter    Ciara    Peter     Jane    Mary   Mary\n",
       "74               Jim  Juan  Peter    Ciara    Peter     Jane    Mary   Juan\n",
       "75               Jim  Juan  Peter    Ciara    Peter     Jane     Jim  Anita\n",
       "76               Jim  Juan  Peter    Ciara    Peter     Jane     Jim   Mary\n",
       "77               Jim  Juan  Peter    Ciara    Peter     Jane     Jim   Juan\n",
       "\n",
       "[77 rows x 8 columns]"
      ]
     },
     "execution_count": 82,
     "metadata": {},
     "output_type": "execute_result"
    }
   ],
   "source": [
    "df_scenario2 = pd.DataFrame(unique_solutions2)\n",
    "\n",
    "df_scenario2.index.name = \"Hiring option\"\n",
    "df_scenario2.reset_index(inplace=True)\n",
    "\n",
    "df_scenario2.set_index(\"Hiring option\", inplace=True)\n",
    "\n",
    "df_scenario2.columns.name = df_scenario2.index.name\n",
    "df_scenario2.index.name = None\n",
    "df_scenario2.index = range(1, len(df_scenario2) + 1)\n",
    "\n",
    "\n",
    "df_scenario2"
   ]
  },
  {
   "cell_type": "markdown",
   "id": "dc7d536b",
   "metadata": {},
   "source": [
    "## Scenario 2 - Candidate x Position - Sankey Diagram"
   ]
  },
  {
   "cell_type": "code",
   "execution_count": 104,
   "id": "964f394c",
   "metadata": {
    "scrolled": false
   },
   "outputs": [
    {
     "data": {
      "application/vnd.plotly.v1+json": {
       "config": {
        "plotlyServerURL": "https://plot.ly"
       },
       "data": [
        {
         "link": {
          "arrowlen": 15,
          "source": [
           0,
           0,
           1,
           1,
           1,
           1,
           1,
           2,
           2,
           2,
           2,
           3,
           3,
           3,
           3,
           4,
           4,
           4,
           5,
           5,
           6,
           6,
           6,
           7,
           7,
           7,
           7
          ],
          "target": [
           8,
           9,
           8,
           9,
           10,
           11,
           12,
           13,
           10,
           11,
           12,
           10,
           11,
           12,
           14,
           8,
           9,
           15,
           13,
           14,
           14,
           8,
           9,
           13,
           10,
           11,
           12
          ],
          "value": [
           1,
           1,
           1,
           1,
           1,
           1,
           1,
           1,
           1,
           1,
           1,
           1,
           1,
           1,
           1,
           1,
           1,
           1,
           1,
           1,
           1,
           1,
           1,
           1,
           1,
           1,
           1
          ]
         },
         "node": {
          "label": [
           "Ciara",
           "Peter",
           "Juan",
           "Jim",
           "Jane",
           "Mary",
           "Bruce",
           "Anita",
           "Python 1",
           "Python 2",
           "AI 1",
           "AI 2",
           "AI 3",
           "Web",
           "Systems",
           "Database"
          ],
          "pad": 20,
          "thickness": 25
         },
         "type": "sankey"
        }
       ],
       "layout": {
        "font": {
         "size": 15
        },
        "template": {
         "data": {
          "bar": [
           {
            "error_x": {
             "color": "#2a3f5f"
            },
            "error_y": {
             "color": "#2a3f5f"
            },
            "marker": {
             "line": {
              "color": "#E5ECF6",
              "width": 0.5
             },
             "pattern": {
              "fillmode": "overlay",
              "size": 10,
              "solidity": 0.2
             }
            },
            "type": "bar"
           }
          ],
          "barpolar": [
           {
            "marker": {
             "line": {
              "color": "#E5ECF6",
              "width": 0.5
             },
             "pattern": {
              "fillmode": "overlay",
              "size": 10,
              "solidity": 0.2
             }
            },
            "type": "barpolar"
           }
          ],
          "carpet": [
           {
            "aaxis": {
             "endlinecolor": "#2a3f5f",
             "gridcolor": "white",
             "linecolor": "white",
             "minorgridcolor": "white",
             "startlinecolor": "#2a3f5f"
            },
            "baxis": {
             "endlinecolor": "#2a3f5f",
             "gridcolor": "white",
             "linecolor": "white",
             "minorgridcolor": "white",
             "startlinecolor": "#2a3f5f"
            },
            "type": "carpet"
           }
          ],
          "choropleth": [
           {
            "colorbar": {
             "outlinewidth": 0,
             "ticks": ""
            },
            "type": "choropleth"
           }
          ],
          "contour": [
           {
            "colorbar": {
             "outlinewidth": 0,
             "ticks": ""
            },
            "colorscale": [
             [
              0,
              "#0d0887"
             ],
             [
              0.1111111111111111,
              "#46039f"
             ],
             [
              0.2222222222222222,
              "#7201a8"
             ],
             [
              0.3333333333333333,
              "#9c179e"
             ],
             [
              0.4444444444444444,
              "#bd3786"
             ],
             [
              0.5555555555555556,
              "#d8576b"
             ],
             [
              0.6666666666666666,
              "#ed7953"
             ],
             [
              0.7777777777777778,
              "#fb9f3a"
             ],
             [
              0.8888888888888888,
              "#fdca26"
             ],
             [
              1,
              "#f0f921"
             ]
            ],
            "type": "contour"
           }
          ],
          "contourcarpet": [
           {
            "colorbar": {
             "outlinewidth": 0,
             "ticks": ""
            },
            "type": "contourcarpet"
           }
          ],
          "heatmap": [
           {
            "colorbar": {
             "outlinewidth": 0,
             "ticks": ""
            },
            "colorscale": [
             [
              0,
              "#0d0887"
             ],
             [
              0.1111111111111111,
              "#46039f"
             ],
             [
              0.2222222222222222,
              "#7201a8"
             ],
             [
              0.3333333333333333,
              "#9c179e"
             ],
             [
              0.4444444444444444,
              "#bd3786"
             ],
             [
              0.5555555555555556,
              "#d8576b"
             ],
             [
              0.6666666666666666,
              "#ed7953"
             ],
             [
              0.7777777777777778,
              "#fb9f3a"
             ],
             [
              0.8888888888888888,
              "#fdca26"
             ],
             [
              1,
              "#f0f921"
             ]
            ],
            "type": "heatmap"
           }
          ],
          "heatmapgl": [
           {
            "colorbar": {
             "outlinewidth": 0,
             "ticks": ""
            },
            "colorscale": [
             [
              0,
              "#0d0887"
             ],
             [
              0.1111111111111111,
              "#46039f"
             ],
             [
              0.2222222222222222,
              "#7201a8"
             ],
             [
              0.3333333333333333,
              "#9c179e"
             ],
             [
              0.4444444444444444,
              "#bd3786"
             ],
             [
              0.5555555555555556,
              "#d8576b"
             ],
             [
              0.6666666666666666,
              "#ed7953"
             ],
             [
              0.7777777777777778,
              "#fb9f3a"
             ],
             [
              0.8888888888888888,
              "#fdca26"
             ],
             [
              1,
              "#f0f921"
             ]
            ],
            "type": "heatmapgl"
           }
          ],
          "histogram": [
           {
            "marker": {
             "pattern": {
              "fillmode": "overlay",
              "size": 10,
              "solidity": 0.2
             }
            },
            "type": "histogram"
           }
          ],
          "histogram2d": [
           {
            "colorbar": {
             "outlinewidth": 0,
             "ticks": ""
            },
            "colorscale": [
             [
              0,
              "#0d0887"
             ],
             [
              0.1111111111111111,
              "#46039f"
             ],
             [
              0.2222222222222222,
              "#7201a8"
             ],
             [
              0.3333333333333333,
              "#9c179e"
             ],
             [
              0.4444444444444444,
              "#bd3786"
             ],
             [
              0.5555555555555556,
              "#d8576b"
             ],
             [
              0.6666666666666666,
              "#ed7953"
             ],
             [
              0.7777777777777778,
              "#fb9f3a"
             ],
             [
              0.8888888888888888,
              "#fdca26"
             ],
             [
              1,
              "#f0f921"
             ]
            ],
            "type": "histogram2d"
           }
          ],
          "histogram2dcontour": [
           {
            "colorbar": {
             "outlinewidth": 0,
             "ticks": ""
            },
            "colorscale": [
             [
              0,
              "#0d0887"
             ],
             [
              0.1111111111111111,
              "#46039f"
             ],
             [
              0.2222222222222222,
              "#7201a8"
             ],
             [
              0.3333333333333333,
              "#9c179e"
             ],
             [
              0.4444444444444444,
              "#bd3786"
             ],
             [
              0.5555555555555556,
              "#d8576b"
             ],
             [
              0.6666666666666666,
              "#ed7953"
             ],
             [
              0.7777777777777778,
              "#fb9f3a"
             ],
             [
              0.8888888888888888,
              "#fdca26"
             ],
             [
              1,
              "#f0f921"
             ]
            ],
            "type": "histogram2dcontour"
           }
          ],
          "mesh3d": [
           {
            "colorbar": {
             "outlinewidth": 0,
             "ticks": ""
            },
            "type": "mesh3d"
           }
          ],
          "parcoords": [
           {
            "line": {
             "colorbar": {
              "outlinewidth": 0,
              "ticks": ""
             }
            },
            "type": "parcoords"
           }
          ],
          "pie": [
           {
            "automargin": true,
            "type": "pie"
           }
          ],
          "scatter": [
           {
            "fillpattern": {
             "fillmode": "overlay",
             "size": 10,
             "solidity": 0.2
            },
            "type": "scatter"
           }
          ],
          "scatter3d": [
           {
            "line": {
             "colorbar": {
              "outlinewidth": 0,
              "ticks": ""
             }
            },
            "marker": {
             "colorbar": {
              "outlinewidth": 0,
              "ticks": ""
             }
            },
            "type": "scatter3d"
           }
          ],
          "scattercarpet": [
           {
            "marker": {
             "colorbar": {
              "outlinewidth": 0,
              "ticks": ""
             }
            },
            "type": "scattercarpet"
           }
          ],
          "scattergeo": [
           {
            "marker": {
             "colorbar": {
              "outlinewidth": 0,
              "ticks": ""
             }
            },
            "type": "scattergeo"
           }
          ],
          "scattergl": [
           {
            "marker": {
             "colorbar": {
              "outlinewidth": 0,
              "ticks": ""
             }
            },
            "type": "scattergl"
           }
          ],
          "scattermapbox": [
           {
            "marker": {
             "colorbar": {
              "outlinewidth": 0,
              "ticks": ""
             }
            },
            "type": "scattermapbox"
           }
          ],
          "scatterpolar": [
           {
            "marker": {
             "colorbar": {
              "outlinewidth": 0,
              "ticks": ""
             }
            },
            "type": "scatterpolar"
           }
          ],
          "scatterpolargl": [
           {
            "marker": {
             "colorbar": {
              "outlinewidth": 0,
              "ticks": ""
             }
            },
            "type": "scatterpolargl"
           }
          ],
          "scatterternary": [
           {
            "marker": {
             "colorbar": {
              "outlinewidth": 0,
              "ticks": ""
             }
            },
            "type": "scatterternary"
           }
          ],
          "surface": [
           {
            "colorbar": {
             "outlinewidth": 0,
             "ticks": ""
            },
            "colorscale": [
             [
              0,
              "#0d0887"
             ],
             [
              0.1111111111111111,
              "#46039f"
             ],
             [
              0.2222222222222222,
              "#7201a8"
             ],
             [
              0.3333333333333333,
              "#9c179e"
             ],
             [
              0.4444444444444444,
              "#bd3786"
             ],
             [
              0.5555555555555556,
              "#d8576b"
             ],
             [
              0.6666666666666666,
              "#ed7953"
             ],
             [
              0.7777777777777778,
              "#fb9f3a"
             ],
             [
              0.8888888888888888,
              "#fdca26"
             ],
             [
              1,
              "#f0f921"
             ]
            ],
            "type": "surface"
           }
          ],
          "table": [
           {
            "cells": {
             "fill": {
              "color": "#EBF0F8"
             },
             "line": {
              "color": "white"
             }
            },
            "header": {
             "fill": {
              "color": "#C8D4E3"
             },
             "line": {
              "color": "white"
             }
            },
            "type": "table"
           }
          ]
         },
         "layout": {
          "annotationdefaults": {
           "arrowcolor": "#2a3f5f",
           "arrowhead": 0,
           "arrowwidth": 1
          },
          "autotypenumbers": "strict",
          "coloraxis": {
           "colorbar": {
            "outlinewidth": 0,
            "ticks": ""
           }
          },
          "colorscale": {
           "diverging": [
            [
             0,
             "#8e0152"
            ],
            [
             0.1,
             "#c51b7d"
            ],
            [
             0.2,
             "#de77ae"
            ],
            [
             0.3,
             "#f1b6da"
            ],
            [
             0.4,
             "#fde0ef"
            ],
            [
             0.5,
             "#f7f7f7"
            ],
            [
             0.6,
             "#e6f5d0"
            ],
            [
             0.7,
             "#b8e186"
            ],
            [
             0.8,
             "#7fbc41"
            ],
            [
             0.9,
             "#4d9221"
            ],
            [
             1,
             "#276419"
            ]
           ],
           "sequential": [
            [
             0,
             "#0d0887"
            ],
            [
             0.1111111111111111,
             "#46039f"
            ],
            [
             0.2222222222222222,
             "#7201a8"
            ],
            [
             0.3333333333333333,
             "#9c179e"
            ],
            [
             0.4444444444444444,
             "#bd3786"
            ],
            [
             0.5555555555555556,
             "#d8576b"
            ],
            [
             0.6666666666666666,
             "#ed7953"
            ],
            [
             0.7777777777777778,
             "#fb9f3a"
            ],
            [
             0.8888888888888888,
             "#fdca26"
            ],
            [
             1,
             "#f0f921"
            ]
           ],
           "sequentialminus": [
            [
             0,
             "#0d0887"
            ],
            [
             0.1111111111111111,
             "#46039f"
            ],
            [
             0.2222222222222222,
             "#7201a8"
            ],
            [
             0.3333333333333333,
             "#9c179e"
            ],
            [
             0.4444444444444444,
             "#bd3786"
            ],
            [
             0.5555555555555556,
             "#d8576b"
            ],
            [
             0.6666666666666666,
             "#ed7953"
            ],
            [
             0.7777777777777778,
             "#fb9f3a"
            ],
            [
             0.8888888888888888,
             "#fdca26"
            ],
            [
             1,
             "#f0f921"
            ]
           ]
          },
          "colorway": [
           "#636efa",
           "#EF553B",
           "#00cc96",
           "#ab63fa",
           "#FFA15A",
           "#19d3f3",
           "#FF6692",
           "#B6E880",
           "#FF97FF",
           "#FECB52"
          ],
          "font": {
           "color": "#2a3f5f"
          },
          "geo": {
           "bgcolor": "white",
           "lakecolor": "white",
           "landcolor": "#E5ECF6",
           "showlakes": true,
           "showland": true,
           "subunitcolor": "white"
          },
          "hoverlabel": {
           "align": "left"
          },
          "hovermode": "closest",
          "mapbox": {
           "style": "light"
          },
          "paper_bgcolor": "white",
          "plot_bgcolor": "#E5ECF6",
          "polar": {
           "angularaxis": {
            "gridcolor": "white",
            "linecolor": "white",
            "ticks": ""
           },
           "bgcolor": "#E5ECF6",
           "radialaxis": {
            "gridcolor": "white",
            "linecolor": "white",
            "ticks": ""
           }
          },
          "scene": {
           "xaxis": {
            "backgroundcolor": "#E5ECF6",
            "gridcolor": "white",
            "gridwidth": 2,
            "linecolor": "white",
            "showbackground": true,
            "ticks": "",
            "zerolinecolor": "white"
           },
           "yaxis": {
            "backgroundcolor": "#E5ECF6",
            "gridcolor": "white",
            "gridwidth": 2,
            "linecolor": "white",
            "showbackground": true,
            "ticks": "",
            "zerolinecolor": "white"
           },
           "zaxis": {
            "backgroundcolor": "#E5ECF6",
            "gridcolor": "white",
            "gridwidth": 2,
            "linecolor": "white",
            "showbackground": true,
            "ticks": "",
            "zerolinecolor": "white"
           }
          },
          "shapedefaults": {
           "line": {
            "color": "#2a3f5f"
           }
          },
          "ternary": {
           "aaxis": {
            "gridcolor": "white",
            "linecolor": "white",
            "ticks": ""
           },
           "baxis": {
            "gridcolor": "white",
            "linecolor": "white",
            "ticks": ""
           },
           "bgcolor": "#E5ECF6",
           "caxis": {
            "gridcolor": "white",
            "linecolor": "white",
            "ticks": ""
           }
          },
          "title": {
           "x": 0.05
          },
          "xaxis": {
           "automargin": true,
           "gridcolor": "white",
           "linecolor": "white",
           "ticks": "",
           "title": {
            "standoff": 15
           },
           "zerolinecolor": "white",
           "zerolinewidth": 2
          },
          "yaxis": {
           "automargin": true,
           "gridcolor": "white",
           "linecolor": "white",
           "ticks": "",
           "title": {
            "standoff": 15
           },
           "zerolinecolor": "white",
           "zerolinewidth": 2
          }
         }
        },
        "title": {
         "text": "Positions candidates are qualified to occupy",
         "x": 0.5,
         "xanchor": "center",
         "y": 0.9,
         "yanchor": "top"
        }
       }
      },
      "text/html": [
       "<div>                            <div id=\"458ff716-d51d-4f52-ad66-0f69de9cfa6e\" class=\"plotly-graph-div\" style=\"height:525px; width:100%;\"></div>            <script type=\"text/javascript\">                require([\"plotly\"], function(Plotly) {                    window.PLOTLYENV=window.PLOTLYENV || {};                                    if (document.getElementById(\"458ff716-d51d-4f52-ad66-0f69de9cfa6e\")) {                    Plotly.newPlot(                        \"458ff716-d51d-4f52-ad66-0f69de9cfa6e\",                        [{\"link\":{\"arrowlen\":15,\"source\":[0,0,1,1,1,1,1,2,2,2,2,3,3,3,3,4,4,4,5,5,6,6,6,7,7,7,7],\"target\":[8,9,8,9,10,11,12,13,10,11,12,10,11,12,14,8,9,15,13,14,14,8,9,13,10,11,12],\"value\":[1,1,1,1,1,1,1,1,1,1,1,1,1,1,1,1,1,1,1,1,1,1,1,1,1,1,1]},\"node\":{\"label\":[\"Ciara\",\"Peter\",\"Juan\",\"Jim\",\"Jane\",\"Mary\",\"Bruce\",\"Anita\",\"Python 1\",\"Python 2\",\"AI 1\",\"AI 2\",\"AI 3\",\"Web\",\"Systems\",\"Database\"],\"pad\":20,\"thickness\":25},\"type\":\"sankey\"}],                        {\"template\":{\"data\":{\"histogram2dcontour\":[{\"type\":\"histogram2dcontour\",\"colorbar\":{\"outlinewidth\":0,\"ticks\":\"\"},\"colorscale\":[[0.0,\"#0d0887\"],[0.1111111111111111,\"#46039f\"],[0.2222222222222222,\"#7201a8\"],[0.3333333333333333,\"#9c179e\"],[0.4444444444444444,\"#bd3786\"],[0.5555555555555556,\"#d8576b\"],[0.6666666666666666,\"#ed7953\"],[0.7777777777777778,\"#fb9f3a\"],[0.8888888888888888,\"#fdca26\"],[1.0,\"#f0f921\"]]}],\"choropleth\":[{\"type\":\"choropleth\",\"colorbar\":{\"outlinewidth\":0,\"ticks\":\"\"}}],\"histogram2d\":[{\"type\":\"histogram2d\",\"colorbar\":{\"outlinewidth\":0,\"ticks\":\"\"},\"colorscale\":[[0.0,\"#0d0887\"],[0.1111111111111111,\"#46039f\"],[0.2222222222222222,\"#7201a8\"],[0.3333333333333333,\"#9c179e\"],[0.4444444444444444,\"#bd3786\"],[0.5555555555555556,\"#d8576b\"],[0.6666666666666666,\"#ed7953\"],[0.7777777777777778,\"#fb9f3a\"],[0.8888888888888888,\"#fdca26\"],[1.0,\"#f0f921\"]]}],\"heatmap\":[{\"type\":\"heatmap\",\"colorbar\":{\"outlinewidth\":0,\"ticks\":\"\"},\"colorscale\":[[0.0,\"#0d0887\"],[0.1111111111111111,\"#46039f\"],[0.2222222222222222,\"#7201a8\"],[0.3333333333333333,\"#9c179e\"],[0.4444444444444444,\"#bd3786\"],[0.5555555555555556,\"#d8576b\"],[0.6666666666666666,\"#ed7953\"],[0.7777777777777778,\"#fb9f3a\"],[0.8888888888888888,\"#fdca26\"],[1.0,\"#f0f921\"]]}],\"heatmapgl\":[{\"type\":\"heatmapgl\",\"colorbar\":{\"outlinewidth\":0,\"ticks\":\"\"},\"colorscale\":[[0.0,\"#0d0887\"],[0.1111111111111111,\"#46039f\"],[0.2222222222222222,\"#7201a8\"],[0.3333333333333333,\"#9c179e\"],[0.4444444444444444,\"#bd3786\"],[0.5555555555555556,\"#d8576b\"],[0.6666666666666666,\"#ed7953\"],[0.7777777777777778,\"#fb9f3a\"],[0.8888888888888888,\"#fdca26\"],[1.0,\"#f0f921\"]]}],\"contourcarpet\":[{\"type\":\"contourcarpet\",\"colorbar\":{\"outlinewidth\":0,\"ticks\":\"\"}}],\"contour\":[{\"type\":\"contour\",\"colorbar\":{\"outlinewidth\":0,\"ticks\":\"\"},\"colorscale\":[[0.0,\"#0d0887\"],[0.1111111111111111,\"#46039f\"],[0.2222222222222222,\"#7201a8\"],[0.3333333333333333,\"#9c179e\"],[0.4444444444444444,\"#bd3786\"],[0.5555555555555556,\"#d8576b\"],[0.6666666666666666,\"#ed7953\"],[0.7777777777777778,\"#fb9f3a\"],[0.8888888888888888,\"#fdca26\"],[1.0,\"#f0f921\"]]}],\"surface\":[{\"type\":\"surface\",\"colorbar\":{\"outlinewidth\":0,\"ticks\":\"\"},\"colorscale\":[[0.0,\"#0d0887\"],[0.1111111111111111,\"#46039f\"],[0.2222222222222222,\"#7201a8\"],[0.3333333333333333,\"#9c179e\"],[0.4444444444444444,\"#bd3786\"],[0.5555555555555556,\"#d8576b\"],[0.6666666666666666,\"#ed7953\"],[0.7777777777777778,\"#fb9f3a\"],[0.8888888888888888,\"#fdca26\"],[1.0,\"#f0f921\"]]}],\"mesh3d\":[{\"type\":\"mesh3d\",\"colorbar\":{\"outlinewidth\":0,\"ticks\":\"\"}}],\"scatter\":[{\"fillpattern\":{\"fillmode\":\"overlay\",\"size\":10,\"solidity\":0.2},\"type\":\"scatter\"}],\"parcoords\":[{\"type\":\"parcoords\",\"line\":{\"colorbar\":{\"outlinewidth\":0,\"ticks\":\"\"}}}],\"scatterpolargl\":[{\"type\":\"scatterpolargl\",\"marker\":{\"colorbar\":{\"outlinewidth\":0,\"ticks\":\"\"}}}],\"bar\":[{\"error_x\":{\"color\":\"#2a3f5f\"},\"error_y\":{\"color\":\"#2a3f5f\"},\"marker\":{\"line\":{\"color\":\"#E5ECF6\",\"width\":0.5},\"pattern\":{\"fillmode\":\"overlay\",\"size\":10,\"solidity\":0.2}},\"type\":\"bar\"}],\"scattergeo\":[{\"type\":\"scattergeo\",\"marker\":{\"colorbar\":{\"outlinewidth\":0,\"ticks\":\"\"}}}],\"scatterpolar\":[{\"type\":\"scatterpolar\",\"marker\":{\"colorbar\":{\"outlinewidth\":0,\"ticks\":\"\"}}}],\"histogram\":[{\"marker\":{\"pattern\":{\"fillmode\":\"overlay\",\"size\":10,\"solidity\":0.2}},\"type\":\"histogram\"}],\"scattergl\":[{\"type\":\"scattergl\",\"marker\":{\"colorbar\":{\"outlinewidth\":0,\"ticks\":\"\"}}}],\"scatter3d\":[{\"type\":\"scatter3d\",\"line\":{\"colorbar\":{\"outlinewidth\":0,\"ticks\":\"\"}},\"marker\":{\"colorbar\":{\"outlinewidth\":0,\"ticks\":\"\"}}}],\"scattermapbox\":[{\"type\":\"scattermapbox\",\"marker\":{\"colorbar\":{\"outlinewidth\":0,\"ticks\":\"\"}}}],\"scatterternary\":[{\"type\":\"scatterternary\",\"marker\":{\"colorbar\":{\"outlinewidth\":0,\"ticks\":\"\"}}}],\"scattercarpet\":[{\"type\":\"scattercarpet\",\"marker\":{\"colorbar\":{\"outlinewidth\":0,\"ticks\":\"\"}}}],\"carpet\":[{\"aaxis\":{\"endlinecolor\":\"#2a3f5f\",\"gridcolor\":\"white\",\"linecolor\":\"white\",\"minorgridcolor\":\"white\",\"startlinecolor\":\"#2a3f5f\"},\"baxis\":{\"endlinecolor\":\"#2a3f5f\",\"gridcolor\":\"white\",\"linecolor\":\"white\",\"minorgridcolor\":\"white\",\"startlinecolor\":\"#2a3f5f\"},\"type\":\"carpet\"}],\"table\":[{\"cells\":{\"fill\":{\"color\":\"#EBF0F8\"},\"line\":{\"color\":\"white\"}},\"header\":{\"fill\":{\"color\":\"#C8D4E3\"},\"line\":{\"color\":\"white\"}},\"type\":\"table\"}],\"barpolar\":[{\"marker\":{\"line\":{\"color\":\"#E5ECF6\",\"width\":0.5},\"pattern\":{\"fillmode\":\"overlay\",\"size\":10,\"solidity\":0.2}},\"type\":\"barpolar\"}],\"pie\":[{\"automargin\":true,\"type\":\"pie\"}]},\"layout\":{\"autotypenumbers\":\"strict\",\"colorway\":[\"#636efa\",\"#EF553B\",\"#00cc96\",\"#ab63fa\",\"#FFA15A\",\"#19d3f3\",\"#FF6692\",\"#B6E880\",\"#FF97FF\",\"#FECB52\"],\"font\":{\"color\":\"#2a3f5f\"},\"hovermode\":\"closest\",\"hoverlabel\":{\"align\":\"left\"},\"paper_bgcolor\":\"white\",\"plot_bgcolor\":\"#E5ECF6\",\"polar\":{\"bgcolor\":\"#E5ECF6\",\"angularaxis\":{\"gridcolor\":\"white\",\"linecolor\":\"white\",\"ticks\":\"\"},\"radialaxis\":{\"gridcolor\":\"white\",\"linecolor\":\"white\",\"ticks\":\"\"}},\"ternary\":{\"bgcolor\":\"#E5ECF6\",\"aaxis\":{\"gridcolor\":\"white\",\"linecolor\":\"white\",\"ticks\":\"\"},\"baxis\":{\"gridcolor\":\"white\",\"linecolor\":\"white\",\"ticks\":\"\"},\"caxis\":{\"gridcolor\":\"white\",\"linecolor\":\"white\",\"ticks\":\"\"}},\"coloraxis\":{\"colorbar\":{\"outlinewidth\":0,\"ticks\":\"\"}},\"colorscale\":{\"sequential\":[[0.0,\"#0d0887\"],[0.1111111111111111,\"#46039f\"],[0.2222222222222222,\"#7201a8\"],[0.3333333333333333,\"#9c179e\"],[0.4444444444444444,\"#bd3786\"],[0.5555555555555556,\"#d8576b\"],[0.6666666666666666,\"#ed7953\"],[0.7777777777777778,\"#fb9f3a\"],[0.8888888888888888,\"#fdca26\"],[1.0,\"#f0f921\"]],\"sequentialminus\":[[0.0,\"#0d0887\"],[0.1111111111111111,\"#46039f\"],[0.2222222222222222,\"#7201a8\"],[0.3333333333333333,\"#9c179e\"],[0.4444444444444444,\"#bd3786\"],[0.5555555555555556,\"#d8576b\"],[0.6666666666666666,\"#ed7953\"],[0.7777777777777778,\"#fb9f3a\"],[0.8888888888888888,\"#fdca26\"],[1.0,\"#f0f921\"]],\"diverging\":[[0,\"#8e0152\"],[0.1,\"#c51b7d\"],[0.2,\"#de77ae\"],[0.3,\"#f1b6da\"],[0.4,\"#fde0ef\"],[0.5,\"#f7f7f7\"],[0.6,\"#e6f5d0\"],[0.7,\"#b8e186\"],[0.8,\"#7fbc41\"],[0.9,\"#4d9221\"],[1,\"#276419\"]]},\"xaxis\":{\"gridcolor\":\"white\",\"linecolor\":\"white\",\"ticks\":\"\",\"title\":{\"standoff\":15},\"zerolinecolor\":\"white\",\"automargin\":true,\"zerolinewidth\":2},\"yaxis\":{\"gridcolor\":\"white\",\"linecolor\":\"white\",\"ticks\":\"\",\"title\":{\"standoff\":15},\"zerolinecolor\":\"white\",\"automargin\":true,\"zerolinewidth\":2},\"scene\":{\"xaxis\":{\"backgroundcolor\":\"#E5ECF6\",\"gridcolor\":\"white\",\"linecolor\":\"white\",\"showbackground\":true,\"ticks\":\"\",\"zerolinecolor\":\"white\",\"gridwidth\":2},\"yaxis\":{\"backgroundcolor\":\"#E5ECF6\",\"gridcolor\":\"white\",\"linecolor\":\"white\",\"showbackground\":true,\"ticks\":\"\",\"zerolinecolor\":\"white\",\"gridwidth\":2},\"zaxis\":{\"backgroundcolor\":\"#E5ECF6\",\"gridcolor\":\"white\",\"linecolor\":\"white\",\"showbackground\":true,\"ticks\":\"\",\"zerolinecolor\":\"white\",\"gridwidth\":2}},\"shapedefaults\":{\"line\":{\"color\":\"#2a3f5f\"}},\"annotationdefaults\":{\"arrowcolor\":\"#2a3f5f\",\"arrowhead\":0,\"arrowwidth\":1},\"geo\":{\"bgcolor\":\"white\",\"landcolor\":\"#E5ECF6\",\"subunitcolor\":\"white\",\"showland\":true,\"showlakes\":true,\"lakecolor\":\"white\"},\"title\":{\"x\":0.05},\"mapbox\":{\"style\":\"light\"}}},\"title\":{\"text\":\"Positions candidates are qualified to occupy\",\"y\":0.9,\"x\":0.5,\"xanchor\":\"center\",\"yanchor\":\"top\"},\"font\":{\"size\":15}},                        {\"responsive\": true}                    ).then(function(){\n",
       "                            \n",
       "var gd = document.getElementById('458ff716-d51d-4f52-ad66-0f69de9cfa6e');\n",
       "var x = new MutationObserver(function (mutations, observer) {{\n",
       "        var display = window.getComputedStyle(gd).display;\n",
       "        if (!display || display === 'none') {{\n",
       "            console.log([gd, 'removed!']);\n",
       "            Plotly.purge(gd);\n",
       "            observer.disconnect();\n",
       "        }}\n",
       "}});\n",
       "\n",
       "// Listen for the removal of the full notebook cells\n",
       "var notebookContainer = gd.closest('#notebook-container');\n",
       "if (notebookContainer) {{\n",
       "    x.observe(notebookContainer, {childList: true});\n",
       "}}\n",
       "\n",
       "// Listen for the clearing of the current output cell\n",
       "var outputEl = gd.closest('.output');\n",
       "if (outputEl) {{\n",
       "    x.observe(outputEl, {childList: true});\n",
       "}}\n",
       "\n",
       "                        })                };                });            </script>        </div>"
      ]
     },
     "metadata": {},
     "output_type": "display_data"
    }
   ],
   "source": [
    "import plotly.graph_objects as go\n",
    "\n",
    "labels = [\"Ciara\", \"Peter\", \"Juan\", \"Jim\", \"Jane\", \"Mary\",\"Bruce\", \"Anita\", \n",
    "          \"Python 1\", \"Python 2\", \"AI 1\", \"AI 2\", \"AI 3\", \"Web\", \"Systems\", \"Database\"]\n",
    "\n",
    "label_to_index = {label: index for index, label in enumerate(labels)}\n",
    "\n",
    "sources = [\"Ciara\", \"Ciara\", \"Peter\",\"Peter\", \"Peter\", \"Peter\", \"Peter\", \"Juan\", \"Juan\", \"Juan\", \"Juan\", \n",
    "           \"Jim\", \"Jim\", \"Jim\", \"Jim\",\"Jane\", \"Jane\", \"Jane\", \"Mary\", \"Mary\", \"Bruce\", \"Bruce\", \"Bruce\", \n",
    "           \"Anita\",\"Anita\", \"Anita\", \"Anita\"]\n",
    "targets = [\"Python 1\", \"Python 2\", \"Python 1\", \"Python 2\", \"AI 1\", \"AI 2\", \"AI 3\", \"Web\", \"AI 1\", \"AI 2\", \"AI 3\", \n",
    "           \"AI 1\", \"AI 2\", \"AI 3\", \"Systems\", \"Python 1\", \"Python 2\", \"Database\", \"Web\", \"Systems\", \"Systems\", \n",
    "           \"Python 1\",\"Python 2\", \"Web\",\"AI 1\", \"AI 2\", \"AI 3\"]\n",
    "\n",
    "\n",
    "source_indices = [label_to_index[source] for source in sources]\n",
    "target_indices = [label_to_index[target] for target in targets]\n",
    "\n",
    "# Define the source-target pairs\n",
    "link = dict(\n",
    "  arrowlen=15,\n",
    "  source = source_indices,\n",
    "  target = target_indices,\n",
    "  value = [1]*len(source_indices),\n",
    ")\n",
    "\n",
    "# Define the node labels\n",
    "node = dict(\n",
    "  label = [\"Ciara\", \"Peter\", \"Juan\", \"Jim\", \"Jane\", \"Mary\", \"Bruce\", \"Anita\", \"Python 1\", \"Python 2\", \n",
    "           \"AI 1\", \"AI 2\", \"AI 3\", \"Web\", \"Systems\", \"Database\"],\n",
    "  pad = 20, \n",
    "  thickness = 25\n",
    ")\n",
    "\n",
    "# Create the Sankey diagram object\n",
    "data = go.Sankey(link = link, node = node)\n",
    "\n",
    "\n",
    "fig = go.Figure(data=[data])\n",
    "\n",
    "fig.update_layout(\n",
    "    title={\n",
    "        'text': \"Positions candidates are qualified to occupy\",\n",
    "        'y':0.9,\n",
    "        'x':0.5,\n",
    "        'xanchor': 'center',\n",
    "        'yanchor': 'top'},\n",
    "    font_size = 15\n",
    ")\n",
    "\n",
    "# Plot the figure\n",
    "fig.show()"
   ]
  },
  {
   "cell_type": "markdown",
   "id": "52717ac7",
   "metadata": {},
   "source": [
    "## Table visualization"
   ]
  },
  {
   "cell_type": "code",
   "execution_count": 194,
   "id": "04821979",
   "metadata": {
    "scrolled": false
   },
   "outputs": [
    {
     "data": {
      "text/html": [
       "<div style='text-align:center;'><h2>Available Positions</h2><div style='display:flex; flex-direction:row; justify-content:center;'><div style='padding:10px;'><table border=\"1\" class=\"dataframe\">\n",
       "  <thead>\n",
       "    <tr style=\"text-align: right;\">\n",
       "      <th>Available Positions</th>\n",
       "    </tr>\n",
       "  </thead>\n",
       "  <tbody>\n",
       "    <tr>\n",
       "      <td>Python 1</td>\n",
       "    </tr>\n",
       "    <tr>\n",
       "      <td>Python 2</td>\n",
       "    </tr>\n",
       "    <tr>\n",
       "      <td>AI 1</td>\n",
       "    </tr>\n",
       "    <tr>\n",
       "      <td>AI 2</td>\n",
       "    </tr>\n",
       "    <tr>\n",
       "      <td>AI 3</td>\n",
       "    </tr>\n",
       "    <tr>\n",
       "      <td>Web</td>\n",
       "    </tr>\n",
       "    <tr>\n",
       "      <td>Database</td>\n",
       "    </tr>\n",
       "    <tr>\n",
       "      <td>Systems</td>\n",
       "    </tr>\n",
       "  </tbody>\n",
       "</table></div></div></div><div style='text-align:center;'><h2>Positions candidates are qualified to occupy</h2><div style='display:flex; flex-direction:row; justify-content:center;'><div style='padding:10px;'><table border=\"1\" class=\"dataframe\">\n",
       "  <thead>\n",
       "    <tr style=\"text-align: right;\">\n",
       "      <th>Ciara</th>\n",
       "    </tr>\n",
       "  </thead>\n",
       "  <tbody>\n",
       "    <tr>\n",
       "      <td>Python 1</td>\n",
       "    </tr>\n",
       "    <tr>\n",
       "      <td>Python 2</td>\n",
       "    </tr>\n",
       "  </tbody>\n",
       "</table></div><div style='padding:10px;'><table border=\"1\" class=\"dataframe\">\n",
       "  <thead>\n",
       "    <tr style=\"text-align: right;\">\n",
       "      <th>Peter</th>\n",
       "    </tr>\n",
       "  </thead>\n",
       "  <tbody>\n",
       "    <tr>\n",
       "      <td>Python 1</td>\n",
       "    </tr>\n",
       "    <tr>\n",
       "      <td>Python 2</td>\n",
       "    </tr>\n",
       "    <tr>\n",
       "      <td>AI 1</td>\n",
       "    </tr>\n",
       "    <tr>\n",
       "      <td>AI 2</td>\n",
       "    </tr>\n",
       "    <tr>\n",
       "      <td>AI 3</td>\n",
       "    </tr>\n",
       "  </tbody>\n",
       "</table></div><div style='padding:10px;'><table border=\"1\" class=\"dataframe\">\n",
       "  <thead>\n",
       "    <tr style=\"text-align: right;\">\n",
       "      <th>Juan</th>\n",
       "    </tr>\n",
       "  </thead>\n",
       "  <tbody>\n",
       "    <tr>\n",
       "      <td>Web</td>\n",
       "    </tr>\n",
       "    <tr>\n",
       "      <td>AI 1</td>\n",
       "    </tr>\n",
       "    <tr>\n",
       "      <td>AI 2</td>\n",
       "    </tr>\n",
       "    <tr>\n",
       "      <td>AI 3</td>\n",
       "    </tr>\n",
       "  </tbody>\n",
       "</table></div><div style='padding:10px;'><table border=\"1\" class=\"dataframe\">\n",
       "  <thead>\n",
       "    <tr style=\"text-align: right;\">\n",
       "      <th>Jim</th>\n",
       "    </tr>\n",
       "  </thead>\n",
       "  <tbody>\n",
       "    <tr>\n",
       "      <td>AI 1</td>\n",
       "    </tr>\n",
       "    <tr>\n",
       "      <td>AI 2</td>\n",
       "    </tr>\n",
       "    <tr>\n",
       "      <td>AI 3</td>\n",
       "    </tr>\n",
       "    <tr>\n",
       "      <td>Systems</td>\n",
       "    </tr>\n",
       "  </tbody>\n",
       "</table></div><div style='padding:10px;'><table border=\"1\" class=\"dataframe\">\n",
       "  <thead>\n",
       "    <tr style=\"text-align: right;\">\n",
       "      <th>Jane</th>\n",
       "    </tr>\n",
       "  </thead>\n",
       "  <tbody>\n",
       "    <tr>\n",
       "      <td>Python 1</td>\n",
       "    </tr>\n",
       "    <tr>\n",
       "      <td>Python 2</td>\n",
       "    </tr>\n",
       "    <tr>\n",
       "      <td>Database</td>\n",
       "    </tr>\n",
       "  </tbody>\n",
       "</table></div><div style='padding:10px;'><table border=\"1\" class=\"dataframe\">\n",
       "  <thead>\n",
       "    <tr style=\"text-align: right;\">\n",
       "      <th>Mary</th>\n",
       "    </tr>\n",
       "  </thead>\n",
       "  <tbody>\n",
       "    <tr>\n",
       "      <td>Web</td>\n",
       "    </tr>\n",
       "    <tr>\n",
       "      <td>Systems</td>\n",
       "    </tr>\n",
       "  </tbody>\n",
       "</table></div><div style='padding:10px;'><table border=\"1\" class=\"dataframe\">\n",
       "  <thead>\n",
       "    <tr style=\"text-align: right;\">\n",
       "      <th>Bruce</th>\n",
       "    </tr>\n",
       "  </thead>\n",
       "  <tbody>\n",
       "    <tr>\n",
       "      <td>Systems</td>\n",
       "    </tr>\n",
       "    <tr>\n",
       "      <td>Python 1</td>\n",
       "    </tr>\n",
       "    <tr>\n",
       "      <td>Python 2</td>\n",
       "    </tr>\n",
       "  </tbody>\n",
       "</table></div><div style='padding:10px;'><table border=\"1\" class=\"dataframe\">\n",
       "  <thead>\n",
       "    <tr style=\"text-align: right;\">\n",
       "      <th>Anita</th>\n",
       "    </tr>\n",
       "  </thead>\n",
       "  <tbody>\n",
       "    <tr>\n",
       "      <td>Web</td>\n",
       "    </tr>\n",
       "    <tr>\n",
       "      <td>AI 1</td>\n",
       "    </tr>\n",
       "    <tr>\n",
       "      <td>AI 2</td>\n",
       "    </tr>\n",
       "    <tr>\n",
       "      <td>AI 3</td>\n",
       "    </tr>\n",
       "  </tbody>\n",
       "</table></div></div></div>"
      ],
      "text/plain": [
       "<IPython.core.display.HTML object>"
      ]
     },
     "metadata": {},
     "output_type": "display_data"
    }
   ],
   "source": [
    "from IPython.display import display, HTML\n",
    "\n",
    "\n",
    "# Define the positions and the hires with their qualifications\n",
    "positions2 = [\"Python 1\", \"Python 2\", \"AI 1\", \"AI 2\", \"AI 3\", \"Web\", \"Database\", \"Systems\"]\n",
    "\n",
    "hires2 = {\n",
    "    \"Ciara\": [\"Python 1\", \"Python 2\"],\n",
    "    \"Peter\": [\"Python 1\", \"Python 2\", \"AI 1\", \"AI 2\", \"AI 3\"],\n",
    "    \"Juan\": [\"Web\", \"AI 1\", \"AI 2\", \"AI 3\"],\n",
    "    \"Jim\": [\"AI 1\", \"AI 2\", \"AI 3\", \"Systems\"],\n",
    "    \"Jane\": [\"Python 1\", \"Python 2\", \"Database\"],\n",
    "    \"Mary\": [\"Web\", \"Systems\"],\n",
    "    \"Bruce\": [\"Systems\", \"Python 1\", \"Python 2\"],\n",
    "    \"Anita\": [\"Web\", \"AI 1\", \"AI 2\", \"AI 3\"]\n",
    "}\n",
    "\n",
    "# Create a DataFrame with the available positions\n",
    "df_positions2 = pd.DataFrame(positions2, columns=[\"Available Positions\"])\n",
    "\n",
    "# Convert the DataFrame to HTML\n",
    "html_positions2 = df_positions2.to_html(index=False)\n",
    "\n",
    "# DataFrame for each person, stored in a list\n",
    "dfs2 = [pd.DataFrame({person: positions2}) for person, positions2 in hires.items()]\n",
    "\n",
    "# Converts each DataFrame to HTML\n",
    "html_strs = [df.to_html(index=False) for df in dfs2]\n",
    "\n",
    "# Combines the HTML strings and display them\n",
    "\n",
    "\n",
    "# Combine the HTML strings and display them\n",
    "html_str = \"<div style='text-align:center;'>\" + \\\n",
    "            \"<h2>Available Positions</h2>\" + \\\n",
    "            \"<div style='display:flex; flex-direction:row; justify-content:center;'>\" + \\\n",
    "            f\"<div style='padding:10px;'>{html_positions2}</div>\" + \\\n",
    "            \"</div></div>\"\n",
    "\n",
    "html_str += \"<div style='text-align:center;'>\" + \\\n",
    "           \"<h2>Positions candidates are qualified to occupy</h2>\" + \\\n",
    "           \"<div style='display:flex; flex-direction:row; justify-content:center;'>\" + \\\n",
    "           ''.join([f\"<div style='padding:10px;'>{table}</div>\" for table in html_strs]) + \\\n",
    "           \"</div></div>\"\n",
    "\n",
    "\n",
    "display(HTML(html_str))"
   ]
  },
  {
   "cell_type": "markdown",
   "id": "6cb7060e",
   "metadata": {},
   "source": [
    "## Frequency of each candidate as a hiring option"
   ]
  },
  {
   "cell_type": "code",
   "execution_count": 105,
   "id": "0b896885",
   "metadata": {
    "scrolled": false
   },
   "outputs": [
    {
     "data": {
      "text/html": [
       "<div>\n",
       "<style scoped>\n",
       "    .dataframe tbody tr th:only-of-type {\n",
       "        vertical-align: middle;\n",
       "    }\n",
       "\n",
       "    .dataframe tbody tr th {\n",
       "        vertical-align: top;\n",
       "    }\n",
       "\n",
       "    .dataframe thead th {\n",
       "        text-align: right;\n",
       "    }\n",
       "</style>\n",
       "<table border=\"1\" class=\"dataframe\">\n",
       "  <thead>\n",
       "    <tr style=\"text-align: right;\">\n",
       "      <th>Hire Prospect</th>\n",
       "      <th>Appears in solution (Times)</th>\n",
       "    </tr>\n",
       "  </thead>\n",
       "  <tbody>\n",
       "    <tr>\n",
       "      <th>Mary</th>\n",
       "      <td>22</td>\n",
       "    </tr>\n",
       "    <tr>\n",
       "      <th>Bruce</th>\n",
       "      <td>31</td>\n",
       "    </tr>\n",
       "    <tr>\n",
       "      <th>Ciara</th>\n",
       "      <td>48</td>\n",
       "    </tr>\n",
       "    <tr>\n",
       "      <th>Anita</th>\n",
       "      <td>56</td>\n",
       "    </tr>\n",
       "    <tr>\n",
       "      <th>Jim</th>\n",
       "      <td>56</td>\n",
       "    </tr>\n",
       "    <tr>\n",
       "      <th>Peter</th>\n",
       "      <td>61</td>\n",
       "    </tr>\n",
       "    <tr>\n",
       "      <th>Juan</th>\n",
       "      <td>74</td>\n",
       "    </tr>\n",
       "    <tr>\n",
       "      <th>Jane</th>\n",
       "      <td>77</td>\n",
       "    </tr>\n",
       "  </tbody>\n",
       "</table>\n",
       "</div>"
      ],
      "text/plain": [
       "Hire Prospect  Appears in solution (Times)\n",
       "Mary                                    22\n",
       "Bruce                                   31\n",
       "Ciara                                   48\n",
       "Anita                                   56\n",
       "Jim                                     56\n",
       "Peter                                   61\n",
       "Juan                                    74\n",
       "Jane                                    77"
      ]
     },
     "execution_count": 105,
     "metadata": {},
     "output_type": "execute_result"
    }
   ],
   "source": [
    "df_scenario2_frequency = pd.DataFrame(person_counts.items(), columns=[\"Hire Prospect\", \"Appears in solution (Times)\"])\n",
    "df_scenario2_frequency.sort_values(by=\"Appears in solution (Times)\", ascending=False)\n",
    "\n",
    "df_scenario2_frequency = df_scenario2_frequency.set_index(\"Hire Prospect\")\n",
    "df_scenario2_frequency.columns.name = df_scenario2_frequency.index.name\n",
    "df_scenario2_frequency.index.name = None\n",
    "\n",
    "df_scenario2_frequency"
   ]
  },
  {
   "cell_type": "markdown",
   "id": "74534e55",
   "metadata": {},
   "source": [
    "## Graph visualization"
   ]
  },
  {
   "cell_type": "code",
   "execution_count": 115,
   "id": "525f9cfc",
   "metadata": {},
   "outputs": [
    {
     "data": {
      "application/vnd.plotly.v1+json": {
       "config": {
        "plotlyServerURL": "https://plot.ly"
       },
       "data": [
        {
         "alignmentgroup": "True",
         "hovertemplate": "Hire Prospect=%{x}<br>Appears in solution (Times)=%{y}<extra></extra>",
         "legendgroup": "Mary",
         "marker": {
          "color": "#636efa",
          "pattern": {
           "shape": ""
          }
         },
         "name": "Mary",
         "offsetgroup": "Mary",
         "orientation": "v",
         "showlegend": true,
         "textposition": "auto",
         "type": "bar",
         "x": [
          "Mary"
         ],
         "xaxis": "x",
         "y": [
          22
         ],
         "yaxis": "y"
        },
        {
         "alignmentgroup": "True",
         "hovertemplate": "Hire Prospect=%{x}<br>Appears in solution (Times)=%{y}<extra></extra>",
         "legendgroup": "Bruce",
         "marker": {
          "color": "#EF553B",
          "pattern": {
           "shape": ""
          }
         },
         "name": "Bruce",
         "offsetgroup": "Bruce",
         "orientation": "v",
         "showlegend": true,
         "textposition": "auto",
         "type": "bar",
         "x": [
          "Bruce"
         ],
         "xaxis": "x",
         "y": [
          31
         ],
         "yaxis": "y"
        },
        {
         "alignmentgroup": "True",
         "hovertemplate": "Hire Prospect=%{x}<br>Appears in solution (Times)=%{y}<extra></extra>",
         "legendgroup": "Ciara",
         "marker": {
          "color": "#00cc96",
          "pattern": {
           "shape": ""
          }
         },
         "name": "Ciara",
         "offsetgroup": "Ciara",
         "orientation": "v",
         "showlegend": true,
         "textposition": "auto",
         "type": "bar",
         "x": [
          "Ciara"
         ],
         "xaxis": "x",
         "y": [
          48
         ],
         "yaxis": "y"
        },
        {
         "alignmentgroup": "True",
         "hovertemplate": "Hire Prospect=%{x}<br>Appears in solution (Times)=%{y}<extra></extra>",
         "legendgroup": "Anita",
         "marker": {
          "color": "#ab63fa",
          "pattern": {
           "shape": ""
          }
         },
         "name": "Anita",
         "offsetgroup": "Anita",
         "orientation": "v",
         "showlegend": true,
         "textposition": "auto",
         "type": "bar",
         "x": [
          "Anita"
         ],
         "xaxis": "x",
         "y": [
          56
         ],
         "yaxis": "y"
        },
        {
         "alignmentgroup": "True",
         "hovertemplate": "Hire Prospect=%{x}<br>Appears in solution (Times)=%{y}<extra></extra>",
         "legendgroup": "Jim",
         "marker": {
          "color": "#FFA15A",
          "pattern": {
           "shape": ""
          }
         },
         "name": "Jim",
         "offsetgroup": "Jim",
         "orientation": "v",
         "showlegend": true,
         "textposition": "auto",
         "type": "bar",
         "x": [
          "Jim"
         ],
         "xaxis": "x",
         "y": [
          56
         ],
         "yaxis": "y"
        },
        {
         "alignmentgroup": "True",
         "hovertemplate": "Hire Prospect=%{x}<br>Appears in solution (Times)=%{y}<extra></extra>",
         "legendgroup": "Peter",
         "marker": {
          "color": "#19d3f3",
          "pattern": {
           "shape": ""
          }
         },
         "name": "Peter",
         "offsetgroup": "Peter",
         "orientation": "v",
         "showlegend": true,
         "textposition": "auto",
         "type": "bar",
         "x": [
          "Peter"
         ],
         "xaxis": "x",
         "y": [
          61
         ],
         "yaxis": "y"
        },
        {
         "alignmentgroup": "True",
         "hovertemplate": "Hire Prospect=%{x}<br>Appears in solution (Times)=%{y}<extra></extra>",
         "legendgroup": "Juan",
         "marker": {
          "color": "#FF6692",
          "pattern": {
           "shape": ""
          }
         },
         "name": "Juan",
         "offsetgroup": "Juan",
         "orientation": "v",
         "showlegend": true,
         "textposition": "auto",
         "type": "bar",
         "x": [
          "Juan"
         ],
         "xaxis": "x",
         "y": [
          74
         ],
         "yaxis": "y"
        },
        {
         "alignmentgroup": "True",
         "hovertemplate": "Hire Prospect=%{x}<br>Appears in solution (Times)=%{y}<extra></extra>",
         "legendgroup": "Jane",
         "marker": {
          "color": "#B6E880",
          "pattern": {
           "shape": ""
          }
         },
         "name": "Jane",
         "offsetgroup": "Jane",
         "orientation": "v",
         "showlegend": true,
         "textposition": "auto",
         "type": "bar",
         "x": [
          "Jane"
         ],
         "xaxis": "x",
         "y": [
          77
         ],
         "yaxis": "y"
        }
       ],
       "layout": {
        "barmode": "relative",
        "legend": {
         "title": {
          "text": "Hire Prospect"
         },
         "tracegroupgap": 0
        },
        "showlegend": false,
        "template": {
         "data": {
          "bar": [
           {
            "error_x": {
             "color": "#2a3f5f"
            },
            "error_y": {
             "color": "#2a3f5f"
            },
            "marker": {
             "line": {
              "color": "#E5ECF6",
              "width": 0.5
             },
             "pattern": {
              "fillmode": "overlay",
              "size": 10,
              "solidity": 0.2
             }
            },
            "type": "bar"
           }
          ],
          "barpolar": [
           {
            "marker": {
             "line": {
              "color": "#E5ECF6",
              "width": 0.5
             },
             "pattern": {
              "fillmode": "overlay",
              "size": 10,
              "solidity": 0.2
             }
            },
            "type": "barpolar"
           }
          ],
          "carpet": [
           {
            "aaxis": {
             "endlinecolor": "#2a3f5f",
             "gridcolor": "white",
             "linecolor": "white",
             "minorgridcolor": "white",
             "startlinecolor": "#2a3f5f"
            },
            "baxis": {
             "endlinecolor": "#2a3f5f",
             "gridcolor": "white",
             "linecolor": "white",
             "minorgridcolor": "white",
             "startlinecolor": "#2a3f5f"
            },
            "type": "carpet"
           }
          ],
          "choropleth": [
           {
            "colorbar": {
             "outlinewidth": 0,
             "ticks": ""
            },
            "type": "choropleth"
           }
          ],
          "contour": [
           {
            "colorbar": {
             "outlinewidth": 0,
             "ticks": ""
            },
            "colorscale": [
             [
              0,
              "#0d0887"
             ],
             [
              0.1111111111111111,
              "#46039f"
             ],
             [
              0.2222222222222222,
              "#7201a8"
             ],
             [
              0.3333333333333333,
              "#9c179e"
             ],
             [
              0.4444444444444444,
              "#bd3786"
             ],
             [
              0.5555555555555556,
              "#d8576b"
             ],
             [
              0.6666666666666666,
              "#ed7953"
             ],
             [
              0.7777777777777778,
              "#fb9f3a"
             ],
             [
              0.8888888888888888,
              "#fdca26"
             ],
             [
              1,
              "#f0f921"
             ]
            ],
            "type": "contour"
           }
          ],
          "contourcarpet": [
           {
            "colorbar": {
             "outlinewidth": 0,
             "ticks": ""
            },
            "type": "contourcarpet"
           }
          ],
          "heatmap": [
           {
            "colorbar": {
             "outlinewidth": 0,
             "ticks": ""
            },
            "colorscale": [
             [
              0,
              "#0d0887"
             ],
             [
              0.1111111111111111,
              "#46039f"
             ],
             [
              0.2222222222222222,
              "#7201a8"
             ],
             [
              0.3333333333333333,
              "#9c179e"
             ],
             [
              0.4444444444444444,
              "#bd3786"
             ],
             [
              0.5555555555555556,
              "#d8576b"
             ],
             [
              0.6666666666666666,
              "#ed7953"
             ],
             [
              0.7777777777777778,
              "#fb9f3a"
             ],
             [
              0.8888888888888888,
              "#fdca26"
             ],
             [
              1,
              "#f0f921"
             ]
            ],
            "type": "heatmap"
           }
          ],
          "heatmapgl": [
           {
            "colorbar": {
             "outlinewidth": 0,
             "ticks": ""
            },
            "colorscale": [
             [
              0,
              "#0d0887"
             ],
             [
              0.1111111111111111,
              "#46039f"
             ],
             [
              0.2222222222222222,
              "#7201a8"
             ],
             [
              0.3333333333333333,
              "#9c179e"
             ],
             [
              0.4444444444444444,
              "#bd3786"
             ],
             [
              0.5555555555555556,
              "#d8576b"
             ],
             [
              0.6666666666666666,
              "#ed7953"
             ],
             [
              0.7777777777777778,
              "#fb9f3a"
             ],
             [
              0.8888888888888888,
              "#fdca26"
             ],
             [
              1,
              "#f0f921"
             ]
            ],
            "type": "heatmapgl"
           }
          ],
          "histogram": [
           {
            "marker": {
             "pattern": {
              "fillmode": "overlay",
              "size": 10,
              "solidity": 0.2
             }
            },
            "type": "histogram"
           }
          ],
          "histogram2d": [
           {
            "colorbar": {
             "outlinewidth": 0,
             "ticks": ""
            },
            "colorscale": [
             [
              0,
              "#0d0887"
             ],
             [
              0.1111111111111111,
              "#46039f"
             ],
             [
              0.2222222222222222,
              "#7201a8"
             ],
             [
              0.3333333333333333,
              "#9c179e"
             ],
             [
              0.4444444444444444,
              "#bd3786"
             ],
             [
              0.5555555555555556,
              "#d8576b"
             ],
             [
              0.6666666666666666,
              "#ed7953"
             ],
             [
              0.7777777777777778,
              "#fb9f3a"
             ],
             [
              0.8888888888888888,
              "#fdca26"
             ],
             [
              1,
              "#f0f921"
             ]
            ],
            "type": "histogram2d"
           }
          ],
          "histogram2dcontour": [
           {
            "colorbar": {
             "outlinewidth": 0,
             "ticks": ""
            },
            "colorscale": [
             [
              0,
              "#0d0887"
             ],
             [
              0.1111111111111111,
              "#46039f"
             ],
             [
              0.2222222222222222,
              "#7201a8"
             ],
             [
              0.3333333333333333,
              "#9c179e"
             ],
             [
              0.4444444444444444,
              "#bd3786"
             ],
             [
              0.5555555555555556,
              "#d8576b"
             ],
             [
              0.6666666666666666,
              "#ed7953"
             ],
             [
              0.7777777777777778,
              "#fb9f3a"
             ],
             [
              0.8888888888888888,
              "#fdca26"
             ],
             [
              1,
              "#f0f921"
             ]
            ],
            "type": "histogram2dcontour"
           }
          ],
          "mesh3d": [
           {
            "colorbar": {
             "outlinewidth": 0,
             "ticks": ""
            },
            "type": "mesh3d"
           }
          ],
          "parcoords": [
           {
            "line": {
             "colorbar": {
              "outlinewidth": 0,
              "ticks": ""
             }
            },
            "type": "parcoords"
           }
          ],
          "pie": [
           {
            "automargin": true,
            "type": "pie"
           }
          ],
          "scatter": [
           {
            "fillpattern": {
             "fillmode": "overlay",
             "size": 10,
             "solidity": 0.2
            },
            "type": "scatter"
           }
          ],
          "scatter3d": [
           {
            "line": {
             "colorbar": {
              "outlinewidth": 0,
              "ticks": ""
             }
            },
            "marker": {
             "colorbar": {
              "outlinewidth": 0,
              "ticks": ""
             }
            },
            "type": "scatter3d"
           }
          ],
          "scattercarpet": [
           {
            "marker": {
             "colorbar": {
              "outlinewidth": 0,
              "ticks": ""
             }
            },
            "type": "scattercarpet"
           }
          ],
          "scattergeo": [
           {
            "marker": {
             "colorbar": {
              "outlinewidth": 0,
              "ticks": ""
             }
            },
            "type": "scattergeo"
           }
          ],
          "scattergl": [
           {
            "marker": {
             "colorbar": {
              "outlinewidth": 0,
              "ticks": ""
             }
            },
            "type": "scattergl"
           }
          ],
          "scattermapbox": [
           {
            "marker": {
             "colorbar": {
              "outlinewidth": 0,
              "ticks": ""
             }
            },
            "type": "scattermapbox"
           }
          ],
          "scatterpolar": [
           {
            "marker": {
             "colorbar": {
              "outlinewidth": 0,
              "ticks": ""
             }
            },
            "type": "scatterpolar"
           }
          ],
          "scatterpolargl": [
           {
            "marker": {
             "colorbar": {
              "outlinewidth": 0,
              "ticks": ""
             }
            },
            "type": "scatterpolargl"
           }
          ],
          "scatterternary": [
           {
            "marker": {
             "colorbar": {
              "outlinewidth": 0,
              "ticks": ""
             }
            },
            "type": "scatterternary"
           }
          ],
          "surface": [
           {
            "colorbar": {
             "outlinewidth": 0,
             "ticks": ""
            },
            "colorscale": [
             [
              0,
              "#0d0887"
             ],
             [
              0.1111111111111111,
              "#46039f"
             ],
             [
              0.2222222222222222,
              "#7201a8"
             ],
             [
              0.3333333333333333,
              "#9c179e"
             ],
             [
              0.4444444444444444,
              "#bd3786"
             ],
             [
              0.5555555555555556,
              "#d8576b"
             ],
             [
              0.6666666666666666,
              "#ed7953"
             ],
             [
              0.7777777777777778,
              "#fb9f3a"
             ],
             [
              0.8888888888888888,
              "#fdca26"
             ],
             [
              1,
              "#f0f921"
             ]
            ],
            "type": "surface"
           }
          ],
          "table": [
           {
            "cells": {
             "fill": {
              "color": "#EBF0F8"
             },
             "line": {
              "color": "white"
             }
            },
            "header": {
             "fill": {
              "color": "#C8D4E3"
             },
             "line": {
              "color": "white"
             }
            },
            "type": "table"
           }
          ]
         },
         "layout": {
          "annotationdefaults": {
           "arrowcolor": "#2a3f5f",
           "arrowhead": 0,
           "arrowwidth": 1
          },
          "autotypenumbers": "strict",
          "coloraxis": {
           "colorbar": {
            "outlinewidth": 0,
            "ticks": ""
           }
          },
          "colorscale": {
           "diverging": [
            [
             0,
             "#8e0152"
            ],
            [
             0.1,
             "#c51b7d"
            ],
            [
             0.2,
             "#de77ae"
            ],
            [
             0.3,
             "#f1b6da"
            ],
            [
             0.4,
             "#fde0ef"
            ],
            [
             0.5,
             "#f7f7f7"
            ],
            [
             0.6,
             "#e6f5d0"
            ],
            [
             0.7,
             "#b8e186"
            ],
            [
             0.8,
             "#7fbc41"
            ],
            [
             0.9,
             "#4d9221"
            ],
            [
             1,
             "#276419"
            ]
           ],
           "sequential": [
            [
             0,
             "#0d0887"
            ],
            [
             0.1111111111111111,
             "#46039f"
            ],
            [
             0.2222222222222222,
             "#7201a8"
            ],
            [
             0.3333333333333333,
             "#9c179e"
            ],
            [
             0.4444444444444444,
             "#bd3786"
            ],
            [
             0.5555555555555556,
             "#d8576b"
            ],
            [
             0.6666666666666666,
             "#ed7953"
            ],
            [
             0.7777777777777778,
             "#fb9f3a"
            ],
            [
             0.8888888888888888,
             "#fdca26"
            ],
            [
             1,
             "#f0f921"
            ]
           ],
           "sequentialminus": [
            [
             0,
             "#0d0887"
            ],
            [
             0.1111111111111111,
             "#46039f"
            ],
            [
             0.2222222222222222,
             "#7201a8"
            ],
            [
             0.3333333333333333,
             "#9c179e"
            ],
            [
             0.4444444444444444,
             "#bd3786"
            ],
            [
             0.5555555555555556,
             "#d8576b"
            ],
            [
             0.6666666666666666,
             "#ed7953"
            ],
            [
             0.7777777777777778,
             "#fb9f3a"
            ],
            [
             0.8888888888888888,
             "#fdca26"
            ],
            [
             1,
             "#f0f921"
            ]
           ]
          },
          "colorway": [
           "#636efa",
           "#EF553B",
           "#00cc96",
           "#ab63fa",
           "#FFA15A",
           "#19d3f3",
           "#FF6692",
           "#B6E880",
           "#FF97FF",
           "#FECB52"
          ],
          "font": {
           "color": "#2a3f5f"
          },
          "geo": {
           "bgcolor": "white",
           "lakecolor": "white",
           "landcolor": "#E5ECF6",
           "showlakes": true,
           "showland": true,
           "subunitcolor": "white"
          },
          "hoverlabel": {
           "align": "left"
          },
          "hovermode": "closest",
          "mapbox": {
           "style": "light"
          },
          "paper_bgcolor": "white",
          "plot_bgcolor": "#E5ECF6",
          "polar": {
           "angularaxis": {
            "gridcolor": "white",
            "linecolor": "white",
            "ticks": ""
           },
           "bgcolor": "#E5ECF6",
           "radialaxis": {
            "gridcolor": "white",
            "linecolor": "white",
            "ticks": ""
           }
          },
          "scene": {
           "xaxis": {
            "backgroundcolor": "#E5ECF6",
            "gridcolor": "white",
            "gridwidth": 2,
            "linecolor": "white",
            "showbackground": true,
            "ticks": "",
            "zerolinecolor": "white"
           },
           "yaxis": {
            "backgroundcolor": "#E5ECF6",
            "gridcolor": "white",
            "gridwidth": 2,
            "linecolor": "white",
            "showbackground": true,
            "ticks": "",
            "zerolinecolor": "white"
           },
           "zaxis": {
            "backgroundcolor": "#E5ECF6",
            "gridcolor": "white",
            "gridwidth": 2,
            "linecolor": "white",
            "showbackground": true,
            "ticks": "",
            "zerolinecolor": "white"
           }
          },
          "shapedefaults": {
           "line": {
            "color": "#2a3f5f"
           }
          },
          "ternary": {
           "aaxis": {
            "gridcolor": "white",
            "linecolor": "white",
            "ticks": ""
           },
           "baxis": {
            "gridcolor": "white",
            "linecolor": "white",
            "ticks": ""
           },
           "bgcolor": "#E5ECF6",
           "caxis": {
            "gridcolor": "white",
            "linecolor": "white",
            "ticks": ""
           }
          },
          "title": {
           "x": 0.05
          },
          "xaxis": {
           "automargin": true,
           "gridcolor": "white",
           "linecolor": "white",
           "ticks": "",
           "title": {
            "standoff": 15
           },
           "zerolinecolor": "white",
           "zerolinewidth": 2
          },
          "yaxis": {
           "automargin": true,
           "gridcolor": "white",
           "linecolor": "white",
           "ticks": "",
           "title": {
            "standoff": 15
           },
           "zerolinecolor": "white",
           "zerolinewidth": 2
          }
         }
        },
        "title": {
         "font": {
          "color": "black",
          "family": "Courier New, monospace",
          "size": 20
         },
         "text": "Number of times each candidate appears in the solutions"
        },
        "xaxis": {
         "anchor": "y",
         "categoryarray": [
          "Mary",
          "Bruce",
          "Ciara",
          "Anita",
          "Jim",
          "Peter",
          "Juan",
          "Jane"
         ],
         "categoryorder": "array",
         "domain": [
          0,
          1
         ],
         "title": {
          "text": "Hire Prospect"
         }
        },
        "yaxis": {
         "anchor": "x",
         "domain": [
          0,
          1
         ],
         "title": {
          "text": "Appears in solution (Times)"
         }
        }
       }
      },
      "text/html": [
       "<div>                            <div id=\"d14cc075-b45e-4001-84a3-0f3a64ab9351\" class=\"plotly-graph-div\" style=\"height:525px; width:100%;\"></div>            <script type=\"text/javascript\">                require([\"plotly\"], function(Plotly) {                    window.PLOTLYENV=window.PLOTLYENV || {};                                    if (document.getElementById(\"d14cc075-b45e-4001-84a3-0f3a64ab9351\")) {                    Plotly.newPlot(                        \"d14cc075-b45e-4001-84a3-0f3a64ab9351\",                        [{\"alignmentgroup\":\"True\",\"hovertemplate\":\"Hire Prospect=%{x}\\u003cbr\\u003eAppears in solution (Times)=%{y}\\u003cextra\\u003e\\u003c\\u002fextra\\u003e\",\"legendgroup\":\"Mary\",\"marker\":{\"color\":\"#636efa\",\"pattern\":{\"shape\":\"\"}},\"name\":\"Mary\",\"offsetgroup\":\"Mary\",\"orientation\":\"v\",\"showlegend\":true,\"textposition\":\"auto\",\"x\":[\"Mary\"],\"xaxis\":\"x\",\"y\":[22],\"yaxis\":\"y\",\"type\":\"bar\"},{\"alignmentgroup\":\"True\",\"hovertemplate\":\"Hire Prospect=%{x}\\u003cbr\\u003eAppears in solution (Times)=%{y}\\u003cextra\\u003e\\u003c\\u002fextra\\u003e\",\"legendgroup\":\"Bruce\",\"marker\":{\"color\":\"#EF553B\",\"pattern\":{\"shape\":\"\"}},\"name\":\"Bruce\",\"offsetgroup\":\"Bruce\",\"orientation\":\"v\",\"showlegend\":true,\"textposition\":\"auto\",\"x\":[\"Bruce\"],\"xaxis\":\"x\",\"y\":[31],\"yaxis\":\"y\",\"type\":\"bar\"},{\"alignmentgroup\":\"True\",\"hovertemplate\":\"Hire Prospect=%{x}\\u003cbr\\u003eAppears in solution (Times)=%{y}\\u003cextra\\u003e\\u003c\\u002fextra\\u003e\",\"legendgroup\":\"Ciara\",\"marker\":{\"color\":\"#00cc96\",\"pattern\":{\"shape\":\"\"}},\"name\":\"Ciara\",\"offsetgroup\":\"Ciara\",\"orientation\":\"v\",\"showlegend\":true,\"textposition\":\"auto\",\"x\":[\"Ciara\"],\"xaxis\":\"x\",\"y\":[48],\"yaxis\":\"y\",\"type\":\"bar\"},{\"alignmentgroup\":\"True\",\"hovertemplate\":\"Hire Prospect=%{x}\\u003cbr\\u003eAppears in solution (Times)=%{y}\\u003cextra\\u003e\\u003c\\u002fextra\\u003e\",\"legendgroup\":\"Anita\",\"marker\":{\"color\":\"#ab63fa\",\"pattern\":{\"shape\":\"\"}},\"name\":\"Anita\",\"offsetgroup\":\"Anita\",\"orientation\":\"v\",\"showlegend\":true,\"textposition\":\"auto\",\"x\":[\"Anita\"],\"xaxis\":\"x\",\"y\":[56],\"yaxis\":\"y\",\"type\":\"bar\"},{\"alignmentgroup\":\"True\",\"hovertemplate\":\"Hire Prospect=%{x}\\u003cbr\\u003eAppears in solution (Times)=%{y}\\u003cextra\\u003e\\u003c\\u002fextra\\u003e\",\"legendgroup\":\"Jim\",\"marker\":{\"color\":\"#FFA15A\",\"pattern\":{\"shape\":\"\"}},\"name\":\"Jim\",\"offsetgroup\":\"Jim\",\"orientation\":\"v\",\"showlegend\":true,\"textposition\":\"auto\",\"x\":[\"Jim\"],\"xaxis\":\"x\",\"y\":[56],\"yaxis\":\"y\",\"type\":\"bar\"},{\"alignmentgroup\":\"True\",\"hovertemplate\":\"Hire Prospect=%{x}\\u003cbr\\u003eAppears in solution (Times)=%{y}\\u003cextra\\u003e\\u003c\\u002fextra\\u003e\",\"legendgroup\":\"Peter\",\"marker\":{\"color\":\"#19d3f3\",\"pattern\":{\"shape\":\"\"}},\"name\":\"Peter\",\"offsetgroup\":\"Peter\",\"orientation\":\"v\",\"showlegend\":true,\"textposition\":\"auto\",\"x\":[\"Peter\"],\"xaxis\":\"x\",\"y\":[61],\"yaxis\":\"y\",\"type\":\"bar\"},{\"alignmentgroup\":\"True\",\"hovertemplate\":\"Hire Prospect=%{x}\\u003cbr\\u003eAppears in solution (Times)=%{y}\\u003cextra\\u003e\\u003c\\u002fextra\\u003e\",\"legendgroup\":\"Juan\",\"marker\":{\"color\":\"#FF6692\",\"pattern\":{\"shape\":\"\"}},\"name\":\"Juan\",\"offsetgroup\":\"Juan\",\"orientation\":\"v\",\"showlegend\":true,\"textposition\":\"auto\",\"x\":[\"Juan\"],\"xaxis\":\"x\",\"y\":[74],\"yaxis\":\"y\",\"type\":\"bar\"},{\"alignmentgroup\":\"True\",\"hovertemplate\":\"Hire Prospect=%{x}\\u003cbr\\u003eAppears in solution (Times)=%{y}\\u003cextra\\u003e\\u003c\\u002fextra\\u003e\",\"legendgroup\":\"Jane\",\"marker\":{\"color\":\"#B6E880\",\"pattern\":{\"shape\":\"\"}},\"name\":\"Jane\",\"offsetgroup\":\"Jane\",\"orientation\":\"v\",\"showlegend\":true,\"textposition\":\"auto\",\"x\":[\"Jane\"],\"xaxis\":\"x\",\"y\":[77],\"yaxis\":\"y\",\"type\":\"bar\"}],                        {\"template\":{\"data\":{\"histogram2dcontour\":[{\"type\":\"histogram2dcontour\",\"colorbar\":{\"outlinewidth\":0,\"ticks\":\"\"},\"colorscale\":[[0.0,\"#0d0887\"],[0.1111111111111111,\"#46039f\"],[0.2222222222222222,\"#7201a8\"],[0.3333333333333333,\"#9c179e\"],[0.4444444444444444,\"#bd3786\"],[0.5555555555555556,\"#d8576b\"],[0.6666666666666666,\"#ed7953\"],[0.7777777777777778,\"#fb9f3a\"],[0.8888888888888888,\"#fdca26\"],[1.0,\"#f0f921\"]]}],\"choropleth\":[{\"type\":\"choropleth\",\"colorbar\":{\"outlinewidth\":0,\"ticks\":\"\"}}],\"histogram2d\":[{\"type\":\"histogram2d\",\"colorbar\":{\"outlinewidth\":0,\"ticks\":\"\"},\"colorscale\":[[0.0,\"#0d0887\"],[0.1111111111111111,\"#46039f\"],[0.2222222222222222,\"#7201a8\"],[0.3333333333333333,\"#9c179e\"],[0.4444444444444444,\"#bd3786\"],[0.5555555555555556,\"#d8576b\"],[0.6666666666666666,\"#ed7953\"],[0.7777777777777778,\"#fb9f3a\"],[0.8888888888888888,\"#fdca26\"],[1.0,\"#f0f921\"]]}],\"heatmap\":[{\"type\":\"heatmap\",\"colorbar\":{\"outlinewidth\":0,\"ticks\":\"\"},\"colorscale\":[[0.0,\"#0d0887\"],[0.1111111111111111,\"#46039f\"],[0.2222222222222222,\"#7201a8\"],[0.3333333333333333,\"#9c179e\"],[0.4444444444444444,\"#bd3786\"],[0.5555555555555556,\"#d8576b\"],[0.6666666666666666,\"#ed7953\"],[0.7777777777777778,\"#fb9f3a\"],[0.8888888888888888,\"#fdca26\"],[1.0,\"#f0f921\"]]}],\"heatmapgl\":[{\"type\":\"heatmapgl\",\"colorbar\":{\"outlinewidth\":0,\"ticks\":\"\"},\"colorscale\":[[0.0,\"#0d0887\"],[0.1111111111111111,\"#46039f\"],[0.2222222222222222,\"#7201a8\"],[0.3333333333333333,\"#9c179e\"],[0.4444444444444444,\"#bd3786\"],[0.5555555555555556,\"#d8576b\"],[0.6666666666666666,\"#ed7953\"],[0.7777777777777778,\"#fb9f3a\"],[0.8888888888888888,\"#fdca26\"],[1.0,\"#f0f921\"]]}],\"contourcarpet\":[{\"type\":\"contourcarpet\",\"colorbar\":{\"outlinewidth\":0,\"ticks\":\"\"}}],\"contour\":[{\"type\":\"contour\",\"colorbar\":{\"outlinewidth\":0,\"ticks\":\"\"},\"colorscale\":[[0.0,\"#0d0887\"],[0.1111111111111111,\"#46039f\"],[0.2222222222222222,\"#7201a8\"],[0.3333333333333333,\"#9c179e\"],[0.4444444444444444,\"#bd3786\"],[0.5555555555555556,\"#d8576b\"],[0.6666666666666666,\"#ed7953\"],[0.7777777777777778,\"#fb9f3a\"],[0.8888888888888888,\"#fdca26\"],[1.0,\"#f0f921\"]]}],\"surface\":[{\"type\":\"surface\",\"colorbar\":{\"outlinewidth\":0,\"ticks\":\"\"},\"colorscale\":[[0.0,\"#0d0887\"],[0.1111111111111111,\"#46039f\"],[0.2222222222222222,\"#7201a8\"],[0.3333333333333333,\"#9c179e\"],[0.4444444444444444,\"#bd3786\"],[0.5555555555555556,\"#d8576b\"],[0.6666666666666666,\"#ed7953\"],[0.7777777777777778,\"#fb9f3a\"],[0.8888888888888888,\"#fdca26\"],[1.0,\"#f0f921\"]]}],\"mesh3d\":[{\"type\":\"mesh3d\",\"colorbar\":{\"outlinewidth\":0,\"ticks\":\"\"}}],\"scatter\":[{\"fillpattern\":{\"fillmode\":\"overlay\",\"size\":10,\"solidity\":0.2},\"type\":\"scatter\"}],\"parcoords\":[{\"type\":\"parcoords\",\"line\":{\"colorbar\":{\"outlinewidth\":0,\"ticks\":\"\"}}}],\"scatterpolargl\":[{\"type\":\"scatterpolargl\",\"marker\":{\"colorbar\":{\"outlinewidth\":0,\"ticks\":\"\"}}}],\"bar\":[{\"error_x\":{\"color\":\"#2a3f5f\"},\"error_y\":{\"color\":\"#2a3f5f\"},\"marker\":{\"line\":{\"color\":\"#E5ECF6\",\"width\":0.5},\"pattern\":{\"fillmode\":\"overlay\",\"size\":10,\"solidity\":0.2}},\"type\":\"bar\"}],\"scattergeo\":[{\"type\":\"scattergeo\",\"marker\":{\"colorbar\":{\"outlinewidth\":0,\"ticks\":\"\"}}}],\"scatterpolar\":[{\"type\":\"scatterpolar\",\"marker\":{\"colorbar\":{\"outlinewidth\":0,\"ticks\":\"\"}}}],\"histogram\":[{\"marker\":{\"pattern\":{\"fillmode\":\"overlay\",\"size\":10,\"solidity\":0.2}},\"type\":\"histogram\"}],\"scattergl\":[{\"type\":\"scattergl\",\"marker\":{\"colorbar\":{\"outlinewidth\":0,\"ticks\":\"\"}}}],\"scatter3d\":[{\"type\":\"scatter3d\",\"line\":{\"colorbar\":{\"outlinewidth\":0,\"ticks\":\"\"}},\"marker\":{\"colorbar\":{\"outlinewidth\":0,\"ticks\":\"\"}}}],\"scattermapbox\":[{\"type\":\"scattermapbox\",\"marker\":{\"colorbar\":{\"outlinewidth\":0,\"ticks\":\"\"}}}],\"scatterternary\":[{\"type\":\"scatterternary\",\"marker\":{\"colorbar\":{\"outlinewidth\":0,\"ticks\":\"\"}}}],\"scattercarpet\":[{\"type\":\"scattercarpet\",\"marker\":{\"colorbar\":{\"outlinewidth\":0,\"ticks\":\"\"}}}],\"carpet\":[{\"aaxis\":{\"endlinecolor\":\"#2a3f5f\",\"gridcolor\":\"white\",\"linecolor\":\"white\",\"minorgridcolor\":\"white\",\"startlinecolor\":\"#2a3f5f\"},\"baxis\":{\"endlinecolor\":\"#2a3f5f\",\"gridcolor\":\"white\",\"linecolor\":\"white\",\"minorgridcolor\":\"white\",\"startlinecolor\":\"#2a3f5f\"},\"type\":\"carpet\"}],\"table\":[{\"cells\":{\"fill\":{\"color\":\"#EBF0F8\"},\"line\":{\"color\":\"white\"}},\"header\":{\"fill\":{\"color\":\"#C8D4E3\"},\"line\":{\"color\":\"white\"}},\"type\":\"table\"}],\"barpolar\":[{\"marker\":{\"line\":{\"color\":\"#E5ECF6\",\"width\":0.5},\"pattern\":{\"fillmode\":\"overlay\",\"size\":10,\"solidity\":0.2}},\"type\":\"barpolar\"}],\"pie\":[{\"automargin\":true,\"type\":\"pie\"}]},\"layout\":{\"autotypenumbers\":\"strict\",\"colorway\":[\"#636efa\",\"#EF553B\",\"#00cc96\",\"#ab63fa\",\"#FFA15A\",\"#19d3f3\",\"#FF6692\",\"#B6E880\",\"#FF97FF\",\"#FECB52\"],\"font\":{\"color\":\"#2a3f5f\"},\"hovermode\":\"closest\",\"hoverlabel\":{\"align\":\"left\"},\"paper_bgcolor\":\"white\",\"plot_bgcolor\":\"#E5ECF6\",\"polar\":{\"bgcolor\":\"#E5ECF6\",\"angularaxis\":{\"gridcolor\":\"white\",\"linecolor\":\"white\",\"ticks\":\"\"},\"radialaxis\":{\"gridcolor\":\"white\",\"linecolor\":\"white\",\"ticks\":\"\"}},\"ternary\":{\"bgcolor\":\"#E5ECF6\",\"aaxis\":{\"gridcolor\":\"white\",\"linecolor\":\"white\",\"ticks\":\"\"},\"baxis\":{\"gridcolor\":\"white\",\"linecolor\":\"white\",\"ticks\":\"\"},\"caxis\":{\"gridcolor\":\"white\",\"linecolor\":\"white\",\"ticks\":\"\"}},\"coloraxis\":{\"colorbar\":{\"outlinewidth\":0,\"ticks\":\"\"}},\"colorscale\":{\"sequential\":[[0.0,\"#0d0887\"],[0.1111111111111111,\"#46039f\"],[0.2222222222222222,\"#7201a8\"],[0.3333333333333333,\"#9c179e\"],[0.4444444444444444,\"#bd3786\"],[0.5555555555555556,\"#d8576b\"],[0.6666666666666666,\"#ed7953\"],[0.7777777777777778,\"#fb9f3a\"],[0.8888888888888888,\"#fdca26\"],[1.0,\"#f0f921\"]],\"sequentialminus\":[[0.0,\"#0d0887\"],[0.1111111111111111,\"#46039f\"],[0.2222222222222222,\"#7201a8\"],[0.3333333333333333,\"#9c179e\"],[0.4444444444444444,\"#bd3786\"],[0.5555555555555556,\"#d8576b\"],[0.6666666666666666,\"#ed7953\"],[0.7777777777777778,\"#fb9f3a\"],[0.8888888888888888,\"#fdca26\"],[1.0,\"#f0f921\"]],\"diverging\":[[0,\"#8e0152\"],[0.1,\"#c51b7d\"],[0.2,\"#de77ae\"],[0.3,\"#f1b6da\"],[0.4,\"#fde0ef\"],[0.5,\"#f7f7f7\"],[0.6,\"#e6f5d0\"],[0.7,\"#b8e186\"],[0.8,\"#7fbc41\"],[0.9,\"#4d9221\"],[1,\"#276419\"]]},\"xaxis\":{\"gridcolor\":\"white\",\"linecolor\":\"white\",\"ticks\":\"\",\"title\":{\"standoff\":15},\"zerolinecolor\":\"white\",\"automargin\":true,\"zerolinewidth\":2},\"yaxis\":{\"gridcolor\":\"white\",\"linecolor\":\"white\",\"ticks\":\"\",\"title\":{\"standoff\":15},\"zerolinecolor\":\"white\",\"automargin\":true,\"zerolinewidth\":2},\"scene\":{\"xaxis\":{\"backgroundcolor\":\"#E5ECF6\",\"gridcolor\":\"white\",\"linecolor\":\"white\",\"showbackground\":true,\"ticks\":\"\",\"zerolinecolor\":\"white\",\"gridwidth\":2},\"yaxis\":{\"backgroundcolor\":\"#E5ECF6\",\"gridcolor\":\"white\",\"linecolor\":\"white\",\"showbackground\":true,\"ticks\":\"\",\"zerolinecolor\":\"white\",\"gridwidth\":2},\"zaxis\":{\"backgroundcolor\":\"#E5ECF6\",\"gridcolor\":\"white\",\"linecolor\":\"white\",\"showbackground\":true,\"ticks\":\"\",\"zerolinecolor\":\"white\",\"gridwidth\":2}},\"shapedefaults\":{\"line\":{\"color\":\"#2a3f5f\"}},\"annotationdefaults\":{\"arrowcolor\":\"#2a3f5f\",\"arrowhead\":0,\"arrowwidth\":1},\"geo\":{\"bgcolor\":\"white\",\"landcolor\":\"#E5ECF6\",\"subunitcolor\":\"white\",\"showland\":true,\"showlakes\":true,\"lakecolor\":\"white\"},\"title\":{\"x\":0.05},\"mapbox\":{\"style\":\"light\"}}},\"xaxis\":{\"anchor\":\"y\",\"domain\":[0.0,1.0],\"title\":{\"text\":\"Hire Prospect\"},\"categoryorder\":\"array\",\"categoryarray\":[\"Mary\",\"Bruce\",\"Ciara\",\"Anita\",\"Jim\",\"Peter\",\"Juan\",\"Jane\"]},\"yaxis\":{\"anchor\":\"x\",\"domain\":[0.0,1.0],\"title\":{\"text\":\"Appears in solution (Times)\"}},\"legend\":{\"title\":{\"text\":\"Hire Prospect\"},\"tracegroupgap\":0},\"title\":{\"text\":\"Number of times each candidate appears in the solutions\",\"font\":{\"size\":20,\"color\":\"black\",\"family\":\"Courier New, monospace\"}},\"barmode\":\"relative\",\"showlegend\":false},                        {\"responsive\": true}                    ).then(function(){\n",
       "                            \n",
       "var gd = document.getElementById('d14cc075-b45e-4001-84a3-0f3a64ab9351');\n",
       "var x = new MutationObserver(function (mutations, observer) {{\n",
       "        var display = window.getComputedStyle(gd).display;\n",
       "        if (!display || display === 'none') {{\n",
       "            console.log([gd, 'removed!']);\n",
       "            Plotly.purge(gd);\n",
       "            observer.disconnect();\n",
       "        }}\n",
       "}});\n",
       "\n",
       "// Listen for the removal of the full notebook cells\n",
       "var notebookContainer = gd.closest('#notebook-container');\n",
       "if (notebookContainer) {{\n",
       "    x.observe(notebookContainer, {childList: true});\n",
       "}}\n",
       "\n",
       "// Listen for the clearing of the current output cell\n",
       "var outputEl = gd.closest('.output');\n",
       "if (outputEl) {{\n",
       "    x.observe(outputEl, {childList: true});\n",
       "}}\n",
       "\n",
       "                        })                };                });            </script>        </div>"
      ]
     },
     "metadata": {},
     "output_type": "display_data"
    }
   ],
   "source": [
    "import plotly.express as px\n",
    "\n",
    "df = pd.DataFrame(person_counts.items(), columns=[\"Hire Prospect\", \"Appears in solution (Times)\"])\n",
    "\n",
    "fig = px.bar(df, x='Hire Prospect', y='Appears in solution (Times)', color='Hire Prospect',\n",
    "             title='Number of times each candidate appears in the solutions',\n",
    "             labels={'Appears in solution (Times)': 'Appears in solution (Times)',\n",
    "                     'Hire Prospect': 'Hire Prospect'})\n",
    "\n",
    "fig.update_layout(title_font=dict(size=20, color='black', family=\"Courier New, monospace\"),\n",
    "                 showlegend=False)\n",
    "\n",
    "fig.show()\n"
   ]
  },
  {
   "cell_type": "markdown",
   "id": "15428f5b",
   "metadata": {},
   "source": [
    "# GUI for Scenario 2 - Visualization Only"
   ]
  },
  {
   "cell_type": "code",
   "execution_count": 161,
   "id": "37d5364a",
   "metadata": {},
   "outputs": [],
   "source": [
    "window = tk.Tk()\n",
    "\n",
    "# Gets the screen width and height\n",
    "screen_width = window.winfo_screenwidth()\n",
    "screen_height = window.winfo_screenheight()\n",
    "\n",
    "# Window size\n",
    "window_width = 700\n",
    "window_height = 650\n",
    "\n",
    "# Calculate the position to start the window at\n",
    "start_x = (screen_width // 2) - (window_width // 2)\n",
    "start_y = 0\n",
    "\n",
    "# Set the window size and start position\n",
    "window.geometry(f\"{window_width}x{window_height}+{start_x}+{start_y}\")\n",
    "\n",
    "window.title(\"Hiring Options\")\n",
    "\n",
    "# Label for the dropdown menu\n",
    "label = tk.Label(window, text=\"Select a candidate to show the solutions:\", \n",
    "                 font=(\"Calibri\", 14), \n",
    "                 fg=\"black\")\n",
    "\n",
    "label.pack(padx=10, pady=10)\n",
    "\n",
    "# Dropdown menu with the candidate names\n",
    "candidates = list(hires.keys())\n",
    "candidate_var = tk.StringVar()\n",
    "dropdown = ttk.Combobox(window, \n",
    "                        textvariable=candidate_var, \n",
    "                        values=candidates, \n",
    "                        state=\"readonly\")\n",
    "\n",
    "dropdown.pack()\n",
    "\n",
    "# Label candidate hiring option solutions\n",
    "count_label = tk.Label(window, \n",
    "                       text=\"\", \n",
    "                       font=(\"Calibri\", 14), \n",
    "                       fg=\"black\")\n",
    "\n",
    "count_label.pack(padx=10, pady=10)\n",
    "\n",
    "\n",
    "# Text box to display the solutions\n",
    "text = tk.Text(window, \n",
    "               width=80, \n",
    "               height=50, \n",
    "               font=(\"Calibri\", 12))\n",
    "\n",
    "text.pack(padx=5, pady=50)\n",
    "\n",
    "# Function to update the text box based on the selected candidate\n",
    "def update_text(event):\n",
    "    global count_label\n",
    "    \n",
    "    # Clears the text box\n",
    "    text.delete(1.0, tk.END)\n",
    "    \n",
    "    # Gets the selected candidate\n",
    "    candidate = candidate_var.get()\n",
    "    \n",
    "    # Updates the count label\n",
    "    count = person_counts[candidate]\n",
    "    count_label.config(text=f\"{candidate} appears in {count} possible hiring options.\")\n",
    "    \n",
    "    # Find the solutions that include the candidate\n",
    "    for i, solution in enumerate(unique_solutions2):\n",
    "        if candidate in solution.values():\n",
    "            text.insert(tk.END, f\"Solution {i+1}:\\n\")\n",
    "            for position, hire in solution.items():\n",
    "                text.insert(tk.END, f\"Position {position}: {hire}\\n\")\n",
    "            text.insert(tk.END, \"\\n\")\n",
    "\n",
    "# Binds the dropdown menu to the update function\n",
    "dropdown.bind(\"<<ComboboxSelected>>\", update_text)\n",
    "\n",
    "window.mainloop()"
   ]
  },
  {
   "cell_type": "markdown",
   "id": "197d567c",
   "metadata": {},
   "source": [
    "# GUI for Alternative Hiring Solutions"
   ]
  },
  {
   "cell_type": "code",
   "execution_count": 172,
   "id": "859e908c",
   "metadata": {},
   "outputs": [],
   "source": [
    "from tkinter import messagebox\n",
    "\n",
    "def solve_problem(num_hires):\n",
    "    positions = [\"Python_1\", \"Python_2\", \"AI_1\", \"AI_2\", \"Web\", \"Database\", \"Systems\"]\n",
    "    hires = {\n",
    "        \"Ciara\": [\"Python_1\"],\n",
    "        \"Peter\": [\"Python_2\", \"AI_1\", \"AI_2\"],\n",
    "        \"Juan\": [\"Web\", \"AI_1\", \"AI_2\"],\n",
    "        \"Jim\": [\"AI_1\", \"AI_2\", \"Systems\"],\n",
    "        \"Jane\": [\"Python_2\", \"Database\"],\n",
    "        \"Mary\": [\"Web\", \"Systems\"],\n",
    "        \"Bruce\": [\"Systems\", \"Python_2\"],\n",
    "        \"Anita\": [\"Web\", \"AI_1\", \"AI_2\"]\n",
    "    }\n",
    "\n",
    "    problem = Problem()\n",
    "\n",
    "    for position in positions:\n",
    "        problem.addVariable(position, list(hires.keys()))\n",
    "\n",
    "    def ciara_python_constraint(python_1):\n",
    "        return python_1 == \"Ciara\"\n",
    "\n",
    "    def ai_constraint(ai_1, ai_2):\n",
    "        return ai_1 != ai_2\n",
    "\n",
    "    def db_constraint(database):\n",
    "        return database == \"Jane\"\n",
    "\n",
    "    def ciara_hiring_constraint(*positions):\n",
    "        return len(set(positions)) <= num_hires + 1\n",
    "\n",
    "    def max_two_positions_constraint(*positions):\n",
    "        hires_count = dict()\n",
    "        for hire in positions:\n",
    "            if hire in hires_count:\n",
    "                hires_count[hire] += 1\n",
    "            else:\n",
    "                hires_count[hire] = 1\n",
    "        return all(count <= 2 for count in hires_count.values())\n",
    "\n",
    "    def qualification_constraint(*args):\n",
    "        for position, hire in zip(positions, args):\n",
    "            if position not in hires[hire]:\n",
    "                return False\n",
    "        return True\n",
    "\n",
    "    problem.addConstraint(max_two_positions_constraint, positions)\n",
    "    problem.addConstraint(qualification_constraint, positions)\n",
    "    problem.addConstraint(ciara_python_constraint, [\"Python_1\"])\n",
    "    problem.addConstraint(ai_constraint, [\"AI_1\", \"AI_2\"])\n",
    "    problem.addConstraint(db_constraint, [\"Database\"])\n",
    "    problem.addConstraint(ciara_hiring_constraint, positions)\n",
    "\n",
    "    solutions = problem.getSolutions()\n",
    "\n",
    "    unique_solutions = []\n",
    "    for solution in solutions:\n",
    "        ai_positions = sorted([solution[\"AI_1\"], solution[\"AI_2\"]])\n",
    "        solution[\"AI_1\"], solution[\"AI_2\"] = ai_positions[0], ai_positions[1]\n",
    "\n",
    "        if solution not in unique_solutions:\n",
    "            unique_solutions.append(solution)\n",
    "\n",
    "    return unique_solutions\n",
    "\n",
    "class AlternativeHiring(tk.Tk):\n",
    "    def __init__(self):\n",
    "        super().__init__()\n",
    "\n",
    "        # Get the screen width and height\n",
    "        screen_width = self.winfo_screenwidth()\n",
    "        screen_height = self.winfo_screenheight()\n",
    "\n",
    "        # Specify the window size\n",
    "        window_width = 700\n",
    "        window_height = 650\n",
    "\n",
    "        # Calculate the position to start the window at\n",
    "        start_x = (screen_width // 2) - (window_width // 2)\n",
    "        start_y = 0\n",
    "\n",
    "        # Set the window size and start position\n",
    "        self.geometry(f\"{window_width}x{window_height}+{start_x}+{start_y}\")\n",
    "\n",
    "        self.title(\"Alternative Hiring Solutions\")\n",
    "\n",
    "        self.label = Label(self, text=\"Enter an alternative amount of hires:\",\n",
    "                           font=(\"Calibri\", 15),\n",
    "                           fg=\"black\")\n",
    "        \n",
    "        self.label.pack(pady=10)\n",
    "\n",
    "        self.entry = Entry(self)\n",
    "        self.entry.pack(pady=10)\n",
    "\n",
    "        self.button = Button(self, text=\"Show Solutions\", command=self.show_solutions)\n",
    "        self.button.pack(pady=10)\n",
    "        \n",
    "        self.solutions_label = tk.Label(self, text=\"\", font=(\"Calibri\", 14), fg=\"black\")\n",
    "        self.solutions_label.pack(padx=10, pady=10)\n",
    "\n",
    "        self.result_text = Text(self, wrap=tk.WORD, height=35, width=70)\n",
    "        self.result_text.pack(padx =50, pady=10)\n",
    "\n",
    "    def show_solutions(self):\n",
    "        num_hires = self.entry.get()\n",
    "\n",
    "        try:\n",
    "            num_hires = int(num_hires)\n",
    "            if 3 <= num_hires <= 7:\n",
    "                solutions = solve_problem(num_hires)\n",
    "                self.display_solutions(solutions)\n",
    "                self.solutions_label.config(text=f\"{len(solutions)} solutions found for this amount of hires.\")\n",
    "            elif num_hires < 3:\n",
    "                messagebox.showerror(\"Error\", \"Ciara needs to hire at least 3 people to fill all positions.\")\n",
    "            else:\n",
    "                messagebox.showerror(\"Error\", \"There are only 7 candidates available for hiring.\")\n",
    "        except ValueError:\n",
    "            messagebox.showerror(\"Error\", \"Please enter a valid number.\")\n",
    "\n",
    "    def display_solutions(self, solutions):\n",
    "        self.result_text.delete(1.0, tk.END)\n",
    "        for i, solution in enumerate(solutions):\n",
    "            self.result_text.insert(tk.END, f\"Solution {i + 1}:\\n\")\n",
    "            for position, hire in solution.items():\n",
    "                self.result_text.insert(tk.END, f\"Position {position}: {hire}\\n\")\n",
    "            self.result_text.insert(tk.END, \"\\n\")\n",
    "\n",
    "\n",
    "if __name__ == \"__main__\":\n",
    "    app = AlternativeHiring()\n",
    "    app.mainloop()"
   ]
  }
 ],
 "metadata": {
  "kernelspec": {
   "display_name": "Python 3 (ipykernel)",
   "language": "python",
   "name": "python3"
  },
  "language_info": {
   "codemirror_mode": {
    "name": "ipython",
    "version": 3
   },
   "file_extension": ".py",
   "mimetype": "text/x-python",
   "name": "python",
   "nbconvert_exporter": "python",
   "pygments_lexer": "ipython3",
   "version": "3.9.12"
  }
 },
 "nbformat": 4,
 "nbformat_minor": 5
}
